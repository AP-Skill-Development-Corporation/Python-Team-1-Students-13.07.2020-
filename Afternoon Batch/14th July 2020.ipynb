{
 "cells": [
  {
   "cell_type": "markdown",
   "metadata": {},
   "source": [
    "- statement\n",
    "    - Unit of code that python interpreter can execute\n",
    "    - two types\n",
    "        - print\n",
    "        - Assignment\n",
    "- Script\n",
    "    - Contains sequence of statements\n",
    "    - more than one statements result appears one at the time"
   ]
  },
  {
   "cell_type": "code",
   "execution_count": 1,
   "metadata": {},
   "outputs": [
    {
     "name": "stdout",
     "output_type": "stream",
     "text": [
      "Welcome to python online session\n"
     ]
    }
   ],
   "source": [
    "print(\"Welcome to python online session\")"
   ]
  },
  {
   "cell_type": "code",
   "execution_count": 2,
   "metadata": {},
   "outputs": [],
   "source": [
    "a = 10"
   ]
  },
  {
   "cell_type": "code",
   "execution_count": 3,
   "metadata": {},
   "outputs": [
    {
     "name": "stdout",
     "output_type": "stream",
     "text": [
      "python\n",
      "11\n"
     ]
    }
   ],
   "source": [
    "name = 'python'\n",
    "a = 10\n",
    "b = a + 1\n",
    "print(name)\n",
    "print(b)"
   ]
  },
  {
   "cell_type": "markdown",
   "metadata": {},
   "source": [
    "- Operator\n",
    "    - To perform operations on variables and values\n",
    "- Operand\n",
    "    - value the operator applied\n",
    "- Python Operators\n",
    "    - Arithematic \n",
    "    - Assignment\n",
    "    - Logical\n",
    "    - Membership\n",
    "    - Comparision\n",
    "    - Identity\n",
    "    - Bitwise"
   ]
  },
  {
   "cell_type": "code",
   "execution_count": 5,
   "metadata": {},
   "outputs": [
    {
     "name": "stdout",
     "output_type": "stream",
     "text": [
      "Enter num1: 10\n",
      "Enter num2: 8\n",
      "18\n",
      "2\n",
      "80\n",
      "1.25\n",
      "2\n",
      "1\n",
      "100000000\n"
     ]
    }
   ],
   "source": [
    "# Arithematic Operators\n",
    "# Used to perform mathematical operations\n",
    "# (+,-,*,/,%,//,**)\n",
    "num1 = int(input(\"Enter num1: \"))\n",
    "num2 = int(input(\"Enter num2: \"))\n",
    "add = num1 + num2\n",
    "print(add)\n",
    "sub = num1 - num2\n",
    "print(sub)\n",
    "mul = num1 * num2\n",
    "print(mul)\n",
    "div = num1 / num2\n",
    "print(div)\n",
    "mod = num1 % num2\n",
    "print(mod)\n",
    "fdiv = num1 // num2\n",
    "print(fdiv)\n",
    "exp = num1 ** num2\n",
    "print(exp)"
   ]
  },
  {
   "cell_type": "code",
   "execution_count": 7,
   "metadata": {},
   "outputs": [
    {
     "data": {
      "text/plain": [
       "5"
      ]
     },
     "execution_count": 7,
     "metadata": {},
     "output_type": "execute_result"
    }
   ],
   "source": [
    "a = 10\n",
    "b = 2\n",
    "a // b"
   ]
  },
  {
   "cell_type": "code",
   "execution_count": 8,
   "metadata": {},
   "outputs": [
    {
     "data": {
      "text/plain": [
       "15"
      ]
     },
     "execution_count": 8,
     "metadata": {},
     "output_type": "execute_result"
    }
   ],
   "source": [
    "# Assignment Operators\n",
    "# Used to assign values\n",
    "# (=,+=,-=,*=,/=,//=,**=,%=)\n",
    "a = 10\n",
    "b = 5\n",
    "a += b #a = a+b\n",
    "a"
   ]
  },
  {
   "cell_type": "code",
   "execution_count": 48,
   "metadata": {},
   "outputs": [
    {
     "data": {
      "text/plain": [
       "100000"
      ]
     },
     "execution_count": 48,
     "metadata": {},
     "output_type": "execute_result"
    }
   ],
   "source": [
    "a= 10\n",
    "b = 5\n",
    "a **= b\n",
    "a"
   ]
  },
  {
   "cell_type": "code",
   "execution_count": 11,
   "metadata": {},
   "outputs": [
    {
     "data": {
      "text/plain": [
       "8"
      ]
     },
     "execution_count": 11,
     "metadata": {},
     "output_type": "execute_result"
    }
   ],
   "source": [
    "a = 10\n",
    "b = 2\n",
    "a -= b\n",
    "a"
   ]
  },
  {
   "cell_type": "code",
   "execution_count": 14,
   "metadata": {},
   "outputs": [
    {
     "data": {
      "text/plain": [
       "5"
      ]
     },
     "execution_count": 14,
     "metadata": {},
     "output_type": "execute_result"
    }
   ],
   "source": [
    "a = 10\n",
    "b = 2\n",
    "a //= b # a = a // b\n",
    "a"
   ]
  },
  {
   "cell_type": "code",
   "execution_count": 15,
   "metadata": {},
   "outputs": [
    {
     "data": {
      "text/plain": [
       "True"
      ]
     },
     "execution_count": 15,
     "metadata": {},
     "output_type": "execute_result"
    }
   ],
   "source": [
    "bool('abc')"
   ]
  },
  {
   "cell_type": "markdown",
   "metadata": {},
   "source": [
    "- Boolean returns True, False\n",
    "- Returns True\n",
    "    - string\n",
    "    - number\n",
    "    - list,tuple,dict\n",
    "- Returns False\n",
    "    - Empty values\n",
    "    - such as (),[],{},\n",
    "    - numbers - 0"
   ]
  },
  {
   "cell_type": "code",
   "execution_count": 16,
   "metadata": {},
   "outputs": [
    {
     "data": {
      "text/plain": [
       "True"
      ]
     },
     "execution_count": 16,
     "metadata": {},
     "output_type": "execute_result"
    }
   ],
   "source": [
    "bool(123)"
   ]
  },
  {
   "cell_type": "code",
   "execution_count": 17,
   "metadata": {},
   "outputs": [
    {
     "data": {
      "text/plain": [
       "False"
      ]
     },
     "execution_count": 17,
     "metadata": {},
     "output_type": "execute_result"
    }
   ],
   "source": [
    "bool(0)"
   ]
  },
  {
   "cell_type": "code",
   "execution_count": 20,
   "metadata": {},
   "outputs": [
    {
     "data": {
      "text/plain": [
       "False"
      ]
     },
     "execution_count": 20,
     "metadata": {},
     "output_type": "execute_result"
    }
   ],
   "source": [
    "bool(())"
   ]
  },
  {
   "cell_type": "code",
   "execution_count": 21,
   "metadata": {},
   "outputs": [
    {
     "data": {
      "text/plain": [
       "False"
      ]
     },
     "execution_count": 21,
     "metadata": {},
     "output_type": "execute_result"
    }
   ],
   "source": [
    "bool('')"
   ]
  },
  {
   "cell_type": "code",
   "execution_count": 22,
   "metadata": {},
   "outputs": [
    {
     "data": {
      "text/plain": [
       "False"
      ]
     },
     "execution_count": 22,
     "metadata": {},
     "output_type": "execute_result"
    }
   ],
   "source": [
    "bool(None)"
   ]
  },
  {
   "cell_type": "code",
   "execution_count": 23,
   "metadata": {},
   "outputs": [
    {
     "data": {
      "text/plain": [
       "False"
      ]
     },
     "execution_count": 23,
     "metadata": {},
     "output_type": "execute_result"
    }
   ],
   "source": [
    "bool(False)"
   ]
  },
  {
   "cell_type": "code",
   "execution_count": null,
   "metadata": {},
   "outputs": [],
   "source": [
    "# Logical Operators\n",
    "# and,or,not\n",
    "# used in conditional statements"
   ]
  },
  {
   "cell_type": "markdown",
   "metadata": {},
   "source": [
    "And     or    Xor \n",
    "0 0 0  0 0 0  0 0 0\n",
    "0 1 0  0 1 1  0 1 1\n",
    "1 0 0  1 0 1  1 0 1\n",
    "1 1 1  1 1 1  1 1 0"
   ]
  },
  {
   "cell_type": "code",
   "execution_count": 25,
   "metadata": {},
   "outputs": [
    {
     "data": {
      "text/plain": [
       "False"
      ]
     },
     "execution_count": 25,
     "metadata": {},
     "output_type": "execute_result"
    }
   ],
   "source": [
    "a = 5\n",
    "a > 2 and a < 1"
   ]
  },
  {
   "cell_type": "code",
   "execution_count": 26,
   "metadata": {},
   "outputs": [
    {
     "data": {
      "text/plain": [
       "True"
      ]
     },
     "execution_count": 26,
     "metadata": {},
     "output_type": "execute_result"
    }
   ],
   "source": [
    "a > 2 or a < 1"
   ]
  },
  {
   "cell_type": "code",
   "execution_count": 27,
   "metadata": {},
   "outputs": [
    {
     "data": {
      "text/plain": [
       "True"
      ]
     },
     "execution_count": 27,
     "metadata": {},
     "output_type": "execute_result"
    }
   ],
   "source": [
    "not(a > 2 and a < 1)"
   ]
  },
  {
   "cell_type": "code",
   "execution_count": 33,
   "metadata": {},
   "outputs": [
    {
     "name": "stdout",
     "output_type": "stream",
     "text": [
      "False\n",
      "True\n",
      "False\n",
      "True\n",
      "False\n",
      "True\n"
     ]
    }
   ],
   "source": [
    "# Comparison Operators\n",
    "# used to compare values\n",
    "# (==,>=,<=,!=,>,<)\n",
    "a = 2\n",
    "b = 10\n",
    "print(a == b)\n",
    "print(a != b)\n",
    "print(a > b)\n",
    "print(a < b)\n",
    "print(a >= b)\n",
    "print(a <= b)"
   ]
  },
  {
   "cell_type": "code",
   "execution_count": 36,
   "metadata": {},
   "outputs": [
    {
     "name": "stdout",
     "output_type": "stream",
     "text": [
      "True\n",
      "False\n"
     ]
    }
   ],
   "source": [
    "# Membership Operators(in,not in)\n",
    "# used to test a sequence present in object or not\n",
    "name = 'Python'\n",
    "print('P' in name)\n",
    "print('P' not in name)"
   ]
  },
  {
   "cell_type": "code",
   "execution_count": 38,
   "metadata": {},
   "outputs": [
    {
     "name": "stdout",
     "output_type": "stream",
     "text": [
      "True\n",
      "True\n"
     ]
    }
   ],
   "source": [
    "# Identity Operators(is,is not)\n",
    "# used to compare objects not if they are equal,\n",
    "# but they actually same objet with same memory location\n",
    "name = 'Python'\n",
    "name1 = 'Python'\n",
    "c = name\n",
    "print(name is c)\n",
    "print(name is name1)"
   ]
  },
  {
   "cell_type": "code",
   "execution_count": 39,
   "metadata": {},
   "outputs": [
    {
     "name": "stdout",
     "output_type": "stream",
     "text": [
      "True\n",
      "False\n"
     ]
    }
   ],
   "source": [
    "l = [1,2,3,'a']\n",
    "l1 = [1,2,3,'a']\n",
    "l2 = l\n",
    "print(l is l2)\n",
    "print(l is l1)"
   ]
  },
  {
   "cell_type": "code",
   "execution_count": 45,
   "metadata": {},
   "outputs": [
    {
     "name": "stdout",
     "output_type": "stream",
     "text": [
      "2\n",
      "10\n",
      "8\n",
      "40\n",
      "2\n",
      "-11\n"
     ]
    }
   ],
   "source": [
    "# Bitwise Operators(&,~,|,^,>>,<<)\n",
    "# used to compare binary numbers\n",
    "a = 10 # 1010\n",
    "b = 2 # 0010\n",
    "print(a & b)\n",
    "print(a | b)\n",
    "print(a ^ b)\n",
    "print(a << b)\n",
    "print(a >> b)\n",
    "print(~a) -a-1"
   ]
  },
  {
   "cell_type": "code",
   "execution_count": null,
   "metadata": {},
   "outputs": [],
   "source": [
    "# 1010\n",
    "# 0010\n",
    "------\n",
    "# 0010 -- 2\n",
    "\n",
    "# left shift\n",
    "a = 10 #1010\n",
    "b = 2 #0010\n",
    "10 << 2\n",
    " - 1010\n",
    "    10100\n",
    "    101000\n",
    " - 101000.00\n",
    "- 40\n",
    "# right shift\n",
    " 1010\n",
    "# 0101\n",
    "#    1\n",
    "# 0110\n"
   ]
  },
  {
   "cell_type": "code",
   "execution_count": null,
   "metadata": {},
   "outputs": [],
   "source": [
    "#1010\n",
    "#0010\n",
    "#1010"
   ]
  },
  {
   "cell_type": "markdown",
   "metadata": {},
   "source": [
    "- Identifiers\n",
    "    - name given to variables or functions, classes\n",
    "    - helps to diffrentiate one entity from another\n",
    "- Rules\n",
    "    - combination of a-z or A-Z or 0-9 or _\n",
    "    - myClass,var_1\n",
    "    - Can't starts with digit\n",
    "    - Keywords can't used as identifiers\n",
    "    - don't use special symbols !,@"
   ]
  },
  {
   "cell_type": "code",
   "execution_count": 46,
   "metadata": {},
   "outputs": [
    {
     "name": "stdout",
     "output_type": "stream",
     "text": [
      "['False', 'None', 'True', 'and', 'as', 'assert', 'async', 'await', 'break', 'class', 'continue', 'def', 'del', 'elif', 'else', 'except', 'finally', 'for', 'from', 'global', 'if', 'import', 'in', 'is', 'lambda', 'nonlocal', 'not', 'or', 'pass', 'raise', 'return', 'try', 'while', 'with', 'yield'] "
     ]
    }
   ],
   "source": [
    "import keyword\n",
    "print(keyword.kwlist,end=\" \")"
   ]
  },
  {
   "cell_type": "code",
   "execution_count": null,
   "metadata": {},
   "outputs": [],
   "source": []
  }
 ],
 "metadata": {
  "kernelspec": {
   "display_name": "Python 3",
   "language": "python",
   "name": "python3"
  },
  "language_info": {
   "codemirror_mode": {
    "name": "ipython",
    "version": 3
   },
   "file_extension": ".py",
   "mimetype": "text/x-python",
   "name": "python",
   "nbconvert_exporter": "python",
   "pygments_lexer": "ipython3",
   "version": "3.7.1"
  }
 },
 "nbformat": 4,
 "nbformat_minor": 2
}
