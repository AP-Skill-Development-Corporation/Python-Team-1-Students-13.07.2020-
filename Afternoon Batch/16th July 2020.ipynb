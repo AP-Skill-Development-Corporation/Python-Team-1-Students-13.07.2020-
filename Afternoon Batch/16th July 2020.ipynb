{
 "cells": [
  {
   "cell_type": "code",
   "execution_count": null,
   "metadata": {},
   "outputs": [],
   "source": [
    "# Tasks for conditional statements\n",
    "# Basic Calculator\n",
    "# Check a number is multiple of 10 or not\n",
    "# Calculate the nano seconds in a year by using leap year logic\n",
    "# Check if a string is equal to number or not\n",
    "# input -- \n",
    "# check an input is a character or number or special character"
   ]
  },
  {
   "cell_type": "code",
   "execution_count": 1,
   "metadata": {},
   "outputs": [],
   "source": [
    "# input num - 5\n",
    "# 5 * 1 = 5\n",
    "# 5 * 2 = 10\n",
    "# 5 * 10 = 50\n",
    "\n",
    "# primes with in a range"
   ]
  },
  {
   "cell_type": "code",
   "execution_count": 2,
   "metadata": {},
   "outputs": [
    {
     "name": "stdout",
     "output_type": "stream",
     "text": [
      "Enter a value: 2\n",
      "Enter b value: 4\n",
      "which operation you want to perform\n",
      "1.Add 2.Sub 3.Mul 4.div 5.Power 6.Mod 7.floor division\n",
      "Enter your choice: 2\n",
      "subtraction of -2\n"
     ]
    }
   ],
   "source": [
    "# Basic Calculator Task\n",
    "a = int(input(\"Enter a value: \"))\n",
    "b = int(input(\"Enter b value: \"))\n",
    "print(\"which operation you want to perform\")\n",
    "print(\"1.Add 2.Sub 3.Mul 4.div 5.Power 6.Mod 7.floor division\")\n",
    "choice = int(input(\"Enter your choice: \"))\n",
    "if choice == 1:\n",
    "    print(\"Addition is \",a+b)\n",
    "elif choice ==2:\n",
    "    print(\"subtraction of\",a-b)\n",
    "elif choice ==3:\n",
    "    print(\"multiplication  of\",a*b)\n",
    "elif choice ==4:\n",
    "    print(\"division of\",a/b)\n",
    "elif choice ==5:\n",
    "    print(\"modulus of\",a%b)\n",
    "elif choice ==6:\n",
    "    print(\"power of\",a**b)\n",
    "elif choice ==7:\n",
    "    print(\"floor of\",a//b)\n",
    "else:\n",
    "    print(\"enter a valid choice\")"
   ]
  },
  {
   "cell_type": "code",
   "execution_count": 4,
   "metadata": {},
   "outputs": [
    {
     "name": "stdout",
     "output_type": "stream",
     "text": [
      "Enter number: 6\n",
      "Not multiple\n"
     ]
    }
   ],
   "source": [
    "# check number is multiple of 10 or not\n",
    "n1 = int(input(\"Enter number: \"))\n",
    "if n1 % 10 == 0:\n",
    "    print(n1,\"is multiple of 10\")\n",
    "else:\n",
    "    print(\"Not multiple\")"
   ]
  },
  {
   "cell_type": "code",
   "execution_count": 5,
   "metadata": {},
   "outputs": [],
   "source": [
    "# calculate nano seconds\n",
    "# 1hr = 60 * 60\n",
    "# 24hrs = 24 *60*60\n",
    "# year = 365 * 24 * 60 * 60 *10**9"
   ]
  },
  {
   "cell_type": "code",
   "execution_count": 7,
   "metadata": {},
   "outputs": [
    {
     "name": "stdout",
     "output_type": "stream",
     "text": [
      "12345\n",
      "12345\n",
      "12345 is equal to  12345\n"
     ]
    }
   ],
   "source": [
    "# check string is equal to number or not\n",
    "s1 = input()\n",
    "n1 = int(input())\n",
    "if str(n1) == s1:\n",
    "    print(n1,\"is equal to \",s1)\n",
    "else:\n",
    "    print(n1,\"is not equal to \",s1)"
   ]
  },
  {
   "cell_type": "code",
   "execution_count": 9,
   "metadata": {},
   "outputs": [
    {
     "name": "stdout",
     "output_type": "stream",
     "text": [
      "$\n",
      "Special Char\n"
     ]
    }
   ],
   "source": [
    "n = input()\n",
    "if ((n >= 'a' and n <= 'z') or (n >= 'A' and n <= 'Z')):\n",
    "    print(\"Alphabet\")\n",
    "elif (n >= '0' and n<= '9'):\n",
    "    print(\"Digit\")\n",
    "else:\n",
    "    print(\"Special Char\")"
   ]
  },
  {
   "cell_type": "code",
   "execution_count": 11,
   "metadata": {},
   "outputs": [
    {
     "name": "stdout",
     "output_type": "stream",
     "text": [
      "Enter your number: 3\n",
      "Enter how many multiples: 20\n",
      "3 * 1 = 3\n",
      "3 * 2 = 6\n",
      "3 * 3 = 9\n",
      "3 * 4 = 12\n",
      "3 * 5 = 15\n",
      "3 * 6 = 18\n",
      "3 * 7 = 21\n",
      "3 * 8 = 24\n",
      "3 * 9 = 27\n",
      "3 * 10 = 30\n",
      "3 * 11 = 33\n",
      "3 * 12 = 36\n",
      "3 * 13 = 39\n",
      "3 * 14 = 42\n",
      "3 * 15 = 45\n",
      "3 * 16 = 48\n",
      "3 * 17 = 51\n",
      "3 * 18 = 54\n",
      "3 * 19 = 57\n",
      "3 * 20 = 60\n"
     ]
    }
   ],
   "source": [
    "# table format\n",
    "n = int(input(\"Enter your number: \"))\n",
    "m = int(input(\"Enter how many multiples: \"))\n",
    "for i in range(1,m+1):\n",
    "    print(n,'*',i,'=',i*n)"
   ]
  },
  {
   "cell_type": "code",
   "execution_count": 12,
   "metadata": {},
   "outputs": [
    {
     "name": "stdout",
     "output_type": "stream",
     "text": [
      "Enter lower range: 1\n",
      "Enter upper range: 10\n",
      "1 not prime\n",
      "2 is prime\n",
      "3 is prime\n",
      "4 not prime\n",
      "5 is prime\n",
      "6 not prime\n",
      "7 is prime\n",
      "8 not prime\n",
      "9 not prime\n",
      "10 not prime\n"
     ]
    }
   ],
   "source": [
    "# prime numbers with in a range\n",
    "lower = int(input(\"Enter lower range: \"))\n",
    "upper = int(input(\"Enter upper range: \"))\n",
    "for num in range(lower,upper+1):\n",
    "    count = 0\n",
    "    for n in range(1,num+1):\n",
    "        if num % n == 0:\n",
    "            count += 1\n",
    "    if count == 2:\n",
    "        print(n,\"is prime\")\n",
    "    else:\n",
    "        print(n,\"not prime\")"
   ]
  },
  {
   "cell_type": "code",
   "execution_count": null,
   "metadata": {},
   "outputs": [],
   "source": [
    "# nested for \n",
    "for iterating_var in sequence:\n",
    "    for iterating_var in sequence:\n",
    "        statements\n",
    "    statements"
   ]
  },
  {
   "cell_type": "code",
   "execution_count": 16,
   "metadata": {},
   "outputs": [
    {
     "name": "stdout",
     "output_type": "stream",
     "text": [
      "1\n",
      "2\n",
      "3\n",
      "4\n",
      "5\n"
     ]
    }
   ],
   "source": [
    "# basic example\n",
    "for i in range(1,6):\n",
    "    print(i)\n",
    "    for j in range(0,i):\n",
    "        #print(j)"
   ]
  },
  {
   "cell_type": "code",
   "execution_count": 18,
   "metadata": {},
   "outputs": [
    {
     "name": "stdout",
     "output_type": "stream",
     "text": [
      "Enter number of tables: 4\n",
      "Enter number of multiples: 7\n",
      "1 * 1 = 1\t1 * 2 = 2\t1 * 3 = 3\t1 * 4 = 4\t1 * 5 = 5\t1 * 6 = 6\t1 * 7 = 7\t\n",
      "\n",
      "2 * 1 = 2\t2 * 2 = 4\t2 * 3 = 6\t2 * 4 = 8\t2 * 5 = 10\t2 * 6 = 12\t2 * 7 = 14\t\n",
      "\n",
      "3 * 1 = 3\t3 * 2 = 6\t3 * 3 = 9\t3 * 4 = 12\t3 * 5 = 15\t3 * 6 = 18\t3 * 7 = 21\t\n",
      "\n",
      "4 * 1 = 4\t4 * 2 = 8\t4 * 3 = 12\t4 * 4 = 16\t4 * 5 = 20\t4 * 6 = 24\t4 * 7 = 28\t\n",
      "\n"
     ]
    }
   ],
   "source": [
    "# table\n",
    "n = int(input(\"Enter number of tables: \"))\n",
    "m = int(input(\"Enter number of multiples: \"))\n",
    "for i in range(1,n+1):\n",
    "    for s in range(1,m+1):\n",
    "        print(i,'*',s,'=',i*s,end = \"\\t\")\n",
    "    print('\\n')"
   ]
  },
  {
   "cell_type": "markdown",
   "metadata": {},
   "source": [
    "- while loop\n",
    "    - where we dont know the number of itertations in advance\n",
    "    - pre tested loop"
   ]
  },
  {
   "cell_type": "code",
   "execution_count": null,
   "metadata": {},
   "outputs": [],
   "source": [
    "# syntax\n",
    "while condition:\n",
    "    statements"
   ]
  },
  {
   "cell_type": "code",
   "execution_count": 21,
   "metadata": {},
   "outputs": [
    {
     "name": "stdout",
     "output_type": "stream",
     "text": [
      "1 2 3 4 5 6 7 8 9 10 "
     ]
    }
   ],
   "source": [
    "# print natural numbers using while\n",
    "i = 1\n",
    "n = 10\n",
    "while i <= n:\n",
    "    print(i,end = ' ')\n",
    "    i = i + 1"
   ]
  },
  {
   "cell_type": "code",
   "execution_count": 22,
   "metadata": {},
   "outputs": [
    {
     "name": "stdout",
     "output_type": "stream",
     "text": [
      "2 even\n",
      "3 odd\n",
      "4 even\n"
     ]
    }
   ],
   "source": [
    "# print even or odd\n",
    "number = 2\n",
    "while number < 5:\n",
    "    if number % 2 == 0:\n",
    "        print(number,'even')\n",
    "    else:\n",
    "        print(number,'odd')\n",
    "    number = number + 1"
   ]
  },
  {
   "cell_type": "markdown",
   "metadata": {},
   "source": [
    "- Jump statements(keywords in python)\n",
    "- skip the part of loop or terminate the loop\n",
    "    - break\n",
    "        - terminates the loop statement and executes the next statement\n",
    "        - while loop and for loop\n",
    "        - nested loops it terminates inner loop and executes outer loop\n",
    "    - continue\n",
    "    - pass"
   ]
  },
  {
   "cell_type": "code",
   "execution_count": 23,
   "metadata": {},
   "outputs": [
    {
     "name": "stdout",
     "output_type": "stream",
     "text": [
      "current letter p\n",
      "current letter y\n",
      "current letter t\n"
     ]
    }
   ],
   "source": [
    "for letter in 'python':\n",
    "    if letter == 'h':\n",
    "        break\n",
    "    print('current letter',letter)"
   ]
  },
  {
   "cell_type": "code",
   "execution_count": 1,
   "metadata": {},
   "outputs": [
    {
     "name": "stdout",
     "output_type": "stream",
     "text": [
      "curren number:  10\n",
      "curren number:  9\n",
      "curren number:  8\n",
      "curren number:  7\n",
      "curren number:  6\n",
      "Good bye!\n"
     ]
    }
   ],
   "source": [
    "num = 10\n",
    "while num > 0:\n",
    "    print('curren number: ',num)\n",
    "    num = num - 1\n",
    "    if num == 5:\n",
    "        break\n",
    "print('Good bye!')"
   ]
  },
  {
   "cell_type": "markdown",
   "metadata": {},
   "source": [
    "- continue\n",
    "    - rejects all the remaining statements in the current iteration of the loop\n",
    "    - moves to top of the loop\n",
    "    - used in both for and while"
   ]
  },
  {
   "cell_type": "code",
   "execution_count": 2,
   "metadata": {},
   "outputs": [
    {
     "name": "stdout",
     "output_type": "stream",
     "text": [
      "current letter p\n",
      "current letter y\n",
      "current letter t\n",
      "current letter o\n",
      "current letter n\n"
     ]
    }
   ],
   "source": [
    "for letter in 'python':\n",
    "    if letter == 'h':\n",
    "        continue\n",
    "    print('current letter',letter)"
   ]
  },
  {
   "cell_type": "code",
   "execution_count": 3,
   "metadata": {},
   "outputs": [
    {
     "name": "stdout",
     "output_type": "stream",
     "text": [
      "curren number:  9\n",
      "curren number:  8\n",
      "curren number:  7\n",
      "curren number:  6\n",
      "curren number:  4\n",
      "curren number:  3\n",
      "curren number:  2\n",
      "curren number:  1\n",
      "curren number:  0\n"
     ]
    }
   ],
   "source": [
    "num = 10\n",
    "while num > 0:\n",
    "    num = num - 1\n",
    "    if num == 5:\n",
    "        continue\n",
    "    print('current number: ',num)"
   ]
  },
  {
   "cell_type": "markdown",
   "metadata": {},
   "source": [
    "- pass statement\n",
    "    - null operation\n",
    "    - nothing happens when it executes\n",
    "- difference between pass and comment\n",
    "    - interpreter ignores comment line"
   ]
  },
  {
   "cell_type": "code",
   "execution_count": 5,
   "metadata": {},
   "outputs": [
    {
     "name": "stdout",
     "output_type": "stream",
     "text": [
      "9\n"
     ]
    }
   ],
   "source": [
    "num = int(input())\n",
    "if num < 5:\n",
    "    print(num)\n",
    "else:\n",
    "    pass"
   ]
  },
  {
   "cell_type": "code",
   "execution_count": 8,
   "metadata": {},
   "outputs": [
    {
     "name": "stdout",
     "output_type": "stream",
     "text": [
      "2\n",
      "3\n",
      "5\n",
      "7\n"
     ]
    }
   ],
   "source": [
    "# print prime numbers in a range using jump statements\n",
    "#lb=int(input(\"enter the lower range:\"))\n",
    "#ub=int(input(\"enter the upper range:\"))\n",
    "for i in range(1,10+1):\n",
    "    if i>1:\n",
    "        for j in range(2,i):\n",
    "            if (i%j)==0:\n",
    "                 break\n",
    "        else:\n",
    "            print(i)"
   ]
  },
  {
   "cell_type": "code",
   "execution_count": null,
   "metadata": {},
   "outputs": [],
   "source": []
  }
 ],
 "metadata": {
  "kernelspec": {
   "display_name": "Python 3",
   "language": "python",
   "name": "python3"
  },
  "language_info": {
   "codemirror_mode": {
    "name": "ipython",
    "version": 3
   },
   "file_extension": ".py",
   "mimetype": "text/x-python",
   "name": "python",
   "nbconvert_exporter": "python",
   "pygments_lexer": "ipython3",
   "version": "3.7.1"
  }
 },
 "nbformat": 4,
 "nbformat_minor": 2
}
