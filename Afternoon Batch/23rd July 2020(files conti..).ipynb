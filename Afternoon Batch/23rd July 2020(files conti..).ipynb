{
 "cells": [
  {
   "cell_type": "markdown",
   "metadata": {},
   "source": [
    "- Files Conti.. "
   ]
  },
  {
   "cell_type": "code",
   "execution_count": 11,
   "metadata": {},
   "outputs": [
    {
     "name": "stdout",
     "output_type": "stream",
     "text": [
      "['Hiiii....Welcome', 'to', 'python']\n"
     ]
    }
   ],
   "source": [
    "with open('Datafiles/info.txt') as f:\n",
    "    fh = f.read()\n",
    "    words = fh.split()\n",
    "    print(words)"
   ]
  },
  {
   "cell_type": "code",
   "execution_count": 12,
   "metadata": {},
   "outputs": [
    {
     "name": "stdout",
     "output_type": "stream",
     "text": [
      "Hiiii....Welcome to python\n",
      "\n"
     ]
    }
   ],
   "source": [
    "with open('Datafiles/info.txt') as f:\n",
    "    print(f.readline())\n",
    "    print(f.readline())"
   ]
  },
  {
   "cell_type": "code",
   "execution_count": 13,
   "metadata": {},
   "outputs": [
    {
     "name": "stdout",
     "output_type": "stream",
     "text": [
      "['Hiiii....Welcome to python']\n"
     ]
    }
   ],
   "source": [
    "with open('Datafiles/info.txt') as f:\n",
    "    print(f.readlines())"
   ]
  },
  {
   "cell_type": "code",
   "execution_count": 14,
   "metadata": {},
   "outputs": [
    {
     "name": "stdout",
     "output_type": "stream",
     "text": [
      "1\n"
     ]
    }
   ],
   "source": [
    "with open('Datafiles/info.txt') as f:\n",
    "    fh = f.readlines()\n",
    "    print(len(fh))"
   ]
  },
  {
   "cell_type": "code",
   "execution_count": 15,
   "metadata": {},
   "outputs": [
    {
     "data": {
      "text/plain": [
       "'Hiiii....Welcome to python'"
      ]
     },
     "execution_count": 15,
     "metadata": {},
     "output_type": "execute_result"
    }
   ],
   "source": [
    "# read file\n",
    "def readfile(filepath):\n",
    "    with open(filepath,'r') as f:\n",
    "        filedata = f.read()\n",
    "    return filedata\n",
    "filepath ='Datafiles/info.txt'\n",
    "readfile(filepath)"
   ]
  },
  {
   "cell_type": "code",
   "execution_count": 16,
   "metadata": {},
   "outputs": [
    {
     "data": {
      "text/plain": [
       "26"
      ]
     },
     "execution_count": 16,
     "metadata": {},
     "output_type": "execute_result"
    }
   ],
   "source": [
    "# Character count with spaces\n",
    "def Charcount(filepath):\n",
    "    count = len(readfile(filepath))\n",
    "    return count\n",
    "filepath ='Datafiles/info.txt'\n",
    "Charcount(filepath)"
   ]
  },
  {
   "cell_type": "markdown",
   "metadata": {},
   "source": [
    "- Tasks\n",
    "    - words count\n",
    "    - unique words count\n",
    "    - words frequency"
   ]
  },
  {
   "cell_type": "markdown",
   "metadata": {},
   "source": [
    "- File data Processing\n",
    "    - working with data in the file\n",
    "    - doing modifications to that file"
   ]
  },
  {
   "cell_type": "code",
   "execution_count": 17,
   "metadata": {},
   "outputs": [],
   "source": [
    "# generate students marks randomly\n",
    "from random import randint\n",
    "def marksGen(n,lb,ub):\n",
    "    with open('Datafiles/marks.txt','w') as f:\n",
    "        for i in range(0,n):\n",
    "            r = randint(lb,ub)\n",
    "            f.write(str(r)+'\\n')\n",
    "    return\n",
    "marksGen(50,1,100)"
   ]
  },
  {
   "cell_type": "code",
   "execution_count": 18,
   "metadata": {},
   "outputs": [
    {
     "data": {
      "text/plain": [
       "48.44"
      ]
     },
     "execution_count": 18,
     "metadata": {},
     "output_type": "execute_result"
    }
   ],
   "source": [
    "# Class Average\n",
    "def ClassAvg(filepath):\n",
    "    with open(filepath) as f:\n",
    "        filedata = f.read()\n",
    "        lines = filedata.split()\n",
    "        sum = 0\n",
    "        for i in lines:\n",
    "            sum += int(i)\n",
    "    return sum/len(lines)\n",
    "filepath = 'Datafiles/marks.txt'\n",
    "ClassAvg(filepath)"
   ]
  },
  {
   "cell_type": "code",
   "execution_count": 19,
   "metadata": {},
   "outputs": [
    {
     "name": "stdout",
     "output_type": "stream",
     "text": [
      "68.0\n"
     ]
    }
   ],
   "source": [
    "# pass percentage\n",
    "def Passpercent(filepath):\n",
    "    with open(filepath) as f:\n",
    "        filedata = f.read()\n",
    "        lines = filedata.split()\n",
    "        passcount = 0\n",
    "        for mark in lines:\n",
    "            if int(mark) >= 35:\n",
    "                passcount += 1\n",
    "        passpercent = (passcount/len(lines))*100\n",
    "        print(passpercent)\n",
    "filepath = 'Datafiles/marks.txt'\n",
    "Passpercent(filepath)"
   ]
  },
  {
   "cell_type": "markdown",
   "metadata": {},
   "source": [
    "- Tasks\n",
    "    - % of students failed\n",
    "    - % of students with distinction\n",
    "    - highest marks freq\n",
    "    - lowest marks freq"
   ]
  },
  {
   "cell_type": "code",
   "execution_count": 23,
   "metadata": {},
   "outputs": [
    {
     "data": {
      "text/plain": [
       "True"
      ]
     },
     "execution_count": 23,
     "metadata": {},
     "output_type": "execute_result"
    }
   ],
   "source": [
    "# find a word\n",
    "def iswordExist(filepath,word):\n",
    "    with open(filepath,'r') as f:\n",
    "        filedata = f.read()\n",
    "        data = filedata.split()\n",
    "        if word in data:\n",
    "            count = data.count(word)\n",
    "            return True\n",
    "        return False\n",
    "filepath = 'Datafiles/data1.txt'\n",
    "iswordExist(filepath,'python')"
   ]
  },
  {
   "cell_type": "code",
   "execution_count": 24,
   "metadata": {},
   "outputs": [],
   "source": [
    "# replace with a new word in same file\n",
    "fone = open('Datafiles/data1.txt','r')\n",
    "data = fone.read()\n",
    "data = data.replace('python','Apssdc')\n",
    "fone.close()\n",
    "fone = open('Datafiles/data1.txt','w')\n",
    "fone.write(data)\n",
    "fone.close()"
   ]
  },
  {
   "cell_type": "code",
   "execution_count": null,
   "metadata": {},
   "outputs": [],
   "source": []
  },
  {
   "cell_type": "code",
   "execution_count": null,
   "metadata": {},
   "outputs": [],
   "source": []
  },
  {
   "cell_type": "code",
   "execution_count": null,
   "metadata": {},
   "outputs": [],
   "source": []
  }
 ],
 "metadata": {
  "kernelspec": {
   "display_name": "Python 3",
   "language": "python",
   "name": "python3"
  },
  "language_info": {
   "codemirror_mode": {
    "name": "ipython",
    "version": 3
   },
   "file_extension": ".py",
   "mimetype": "text/x-python",
   "name": "python",
   "nbconvert_exporter": "python",
   "pygments_lexer": "ipython3",
   "version": "3.7.1"
  }
 },
 "nbformat": 4,
 "nbformat_minor": 2
}
