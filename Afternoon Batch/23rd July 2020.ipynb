{
 "cells": [
  {
   "cell_type": "markdown",
   "metadata": {},
   "source": [
    "- File Handling and File data processing\n",
    "- File\n",
    "    - used to store specific information\n",
    "- Steps\n",
    "    - open\n",
    "        - open()\n",
    "            - open file in read or write mode\n",
    "            - it returns file object\n",
    "            - syntax\n",
    "                - open(filename,mode)\n",
    "        - with open()\n",
    "    - Perform operations\n",
    "    - close\n",
    "- Modes\n",
    "    - read mode -- 'r'\n",
    "    - write mode -- 'w'\n",
    "    - append mode -- 'a'"
   ]
  },
  {
   "cell_type": "code",
   "execution_count": 5,
   "metadata": {},
   "outputs": [
    {
     "name": "stdout",
     "output_type": "stream",
     "text": [
      "\n",
      "<class '_io.TextIOWrapper'>\n",
      "<class 'str'>\n"
     ]
    }
   ],
   "source": [
    "f = open('Datafiles/data.txt')\n",
    "data = f.read()\n",
    "print(data)\n",
    "f.close()\n",
    "print(type(f))\n",
    "print(type(data))"
   ]
  },
  {
   "cell_type": "code",
   "execution_count": 6,
   "metadata": {},
   "outputs": [
    {
     "name": "stdout",
     "output_type": "stream",
     "text": [
      "\n"
     ]
    }
   ],
   "source": [
    "with open('Datafiles/data.txt','r') as info:\n",
    "    information = info.read()\n",
    "    print(information)"
   ]
  },
  {
   "cell_type": "code",
   "execution_count": 7,
   "metadata": {},
   "outputs": [
    {
     "name": "stdout",
     "output_type": "stream",
     "text": [
      "14\n"
     ]
    }
   ],
   "source": [
    "with open('Datafiles/data.txt','w') as data:\n",
    "    d = data.write(\"Python Program\")\n",
    "    print(d)"
   ]
  },
  {
   "cell_type": "code",
   "execution_count": 8,
   "metadata": {},
   "outputs": [
    {
     "name": "stdout",
     "output_type": "stream",
     "text": [
      "9\n"
     ]
    }
   ],
   "source": [
    "with open('Datafiles/info.txt','w') as info:\n",
    "    infor = info.write(\"Hiiii....\")\n",
    "    print(infor)"
   ]
  },
  {
   "cell_type": "code",
   "execution_count": 9,
   "metadata": {},
   "outputs": [
    {
     "name": "stdout",
     "output_type": "stream",
     "text": [
      "Hiiii....\n"
     ]
    }
   ],
   "source": [
    "with open('Datafiles/info.txt','r') as info:\n",
    "    infor = info.read()\n",
    "    print(infor)"
   ]
  },
  {
   "cell_type": "code",
   "execution_count": 10,
   "metadata": {},
   "outputs": [
    {
     "name": "stdout",
     "output_type": "stream",
     "text": [
      "17\n",
      "Hiiii....Welcome to python\n"
     ]
    }
   ],
   "source": [
    "with open('Datafiles/info.txt','a') as f:\n",
    "    fa = f.write(\"Welcome to python\")\n",
    "    print(fa)\n",
    "with open('Datafiles/info.txt','r') as info:\n",
    "    infor = info.read()\n",
    "    print(infor)"
   ]
  },
  {
   "cell_type": "markdown",
   "metadata": {},
   "source": [
    "- Every time by append data to the file, data is added at the end\n",
    "- To oovercome these we have two methods\n",
    "- tell()\n",
    "    - helps to know the cursor position in file\n",
    "- seek()\n",
    "    - helps to move cursor to particular point in file"
   ]
  },
  {
   "cell_type": "code",
   "execution_count": 11,
   "metadata": {},
   "outputs": [
    {
     "name": "stdout",
     "output_type": "stream",
     "text": [
      "14\n"
     ]
    }
   ],
   "source": [
    "with open('Datafiles/data.txt') as f:\n",
    "    fh = f.read()\n",
    "    print(f.tell())"
   ]
  },
  {
   "cell_type": "code",
   "execution_count": 12,
   "metadata": {},
   "outputs": [
    {
     "name": "stdout",
     "output_type": "stream",
     "text": [
      "Program\n"
     ]
    }
   ],
   "source": [
    "with open('Datafiles/data.txt') as f:\n",
    "    f.read()\n",
    "    f.seek(7)\n",
    "    print(f.read(14))"
   ]
  },
  {
   "cell_type": "code",
   "execution_count": 13,
   "metadata": {},
   "outputs": [],
   "source": [
    "with open('Datafiles/data.txt','w') as f:\n",
    "    f.seek(7)\n",
    "    f.write(\"Apssdc\")"
   ]
  },
  {
   "cell_type": "code",
   "execution_count": 14,
   "metadata": {},
   "outputs": [
    {
     "name": "stdout",
     "output_type": "stream",
     "text": [
      "\u0000\u0000\u0000\u0000\u0000\u0000\u0000Apssdc\n"
     ]
    }
   ],
   "source": [
    "with open('Datafiles/data.txt','r') as f:\n",
    "    fh = f.read()\n",
    "    print(fh)"
   ]
  },
  {
   "cell_type": "code",
   "execution_count": 15,
   "metadata": {},
   "outputs": [
    {
     "name": "stdout",
     "output_type": "stream",
     "text": [
      "['Hiiii....Welcome', 'to', 'python']\n"
     ]
    }
   ],
   "source": [
    "with open('Datafiles/info.txt') as f:\n",
    "    fh = f.read()\n",
    "    words = fh.split()\n",
    "    print(words)"
   ]
  },
  {
   "cell_type": "code",
   "execution_count": 16,
   "metadata": {},
   "outputs": [
    {
     "name": "stdout",
     "output_type": "stream",
     "text": [
      "Hiiii....Welcome to python\n",
      "\n"
     ]
    }
   ],
   "source": [
    "with open('Datafiles/info.txt') as f:\n",
    "    print(f.readline())\n",
    "    print(f.readline())"
   ]
  },
  {
   "cell_type": "code",
   "execution_count": 17,
   "metadata": {},
   "outputs": [
    {
     "name": "stdout",
     "output_type": "stream",
     "text": [
      "['Hiiii....Welcome to python']\n"
     ]
    }
   ],
   "source": [
    "with open('Datafiles/info.txt') as f:\n",
    "    print(f.readlines())"
   ]
  },
  {
   "cell_type": "code",
   "execution_count": 18,
   "metadata": {},
   "outputs": [
    {
     "name": "stdout",
     "output_type": "stream",
     "text": [
      "1\n"
     ]
    }
   ],
   "source": [
    "with open('Datafiles/info.txt') as f:\n",
    "    fh = f.readlines()\n",
    "    print(len(fh))"
   ]
  },
  {
   "cell_type": "code",
   "execution_count": 19,
   "metadata": {},
   "outputs": [
    {
     "data": {
      "text/plain": [
       "'Hiiii....Welcome to python'"
      ]
     },
     "execution_count": 19,
     "metadata": {},
     "output_type": "execute_result"
    }
   ],
   "source": [
    "# read file\n",
    "def readfile(filepath):\n",
    "    with open(filepath,'r') as f:\n",
    "        filedata = f.read()\n",
    "    return filedata\n",
    "filepath ='Datafiles/info.txt'\n",
    "readfile(filepath)"
   ]
  },
  {
   "cell_type": "code",
   "execution_count": 20,
   "metadata": {},
   "outputs": [
    {
     "data": {
      "text/plain": [
       "26"
      ]
     },
     "execution_count": 20,
     "metadata": {},
     "output_type": "execute_result"
    }
   ],
   "source": [
    "# Character count with spaces\n",
    "def Charcount(filepath):\n",
    "    count = len(readfile(filepath))\n",
    "    return count\n",
    "filepath ='Datafiles/info.txt'\n",
    "Charcount(filepath)"
   ]
  },
  {
   "cell_type": "markdown",
   "metadata": {},
   "source": [
    "- Tasks\n",
    "    - words count\n",
    "    - unique words count\n",
    "    - words frequency"
   ]
  },
  {
   "cell_type": "markdown",
   "metadata": {},
   "source": [
    "- File data Processing\n",
    "    - working with data in the file\n",
    "    - doing modifications to that file"
   ]
  },
  {
   "cell_type": "code",
   "execution_count": 21,
   "metadata": {},
   "outputs": [],
   "source": [
    "# generate students marks randomly\n",
    "from random import randint\n",
    "def marksGen(n,lb,ub):\n",
    "    with open('Datafiles/marks.txt','w') as f:\n",
    "        for i in range(0,n):\n",
    "            r = randint(lb,ub)\n",
    "            f.write(str(r)+'\\n')\n",
    "    return\n",
    "marksGen(50,1,100)"
   ]
  },
  {
   "cell_type": "code",
   "execution_count": 22,
   "metadata": {},
   "outputs": [
    {
     "data": {
      "text/plain": [
       "52.46"
      ]
     },
     "execution_count": 22,
     "metadata": {},
     "output_type": "execute_result"
    }
   ],
   "source": [
    "# Class Average\n",
    "def ClassAvg(filepath):\n",
    "    with open(filepath) as f:\n",
    "        filedata = f.read()\n",
    "        lines = filedata.split()\n",
    "        sum = 0\n",
    "        for i in lines:\n",
    "            sum += int(i)\n",
    "    return sum/len(lines)\n",
    "filepath = 'Datafiles/marks.txt'\n",
    "ClassAvg(filepath)"
   ]
  },
  {
   "cell_type": "code",
   "execution_count": 23,
   "metadata": {},
   "outputs": [
    {
     "name": "stdout",
     "output_type": "stream",
     "text": [
      "66.0\n"
     ]
    }
   ],
   "source": [
    "# pass percentage\n",
    "def Passpercent(filepath):\n",
    "    with open(filepath) as f:\n",
    "        filedata = f.read()\n",
    "        lines = filedata.split()\n",
    "        passcount = 0\n",
    "        for mark in lines:\n",
    "            if int(mark) >= 35:\n",
    "                passcount += 1\n",
    "        passpercent = (passcount/len(lines))*100\n",
    "        print(passpercent)\n",
    "filepath = 'Datafiles/marks.txt'\n",
    "Passpercent(filepath)"
   ]
  },
  {
   "cell_type": "markdown",
   "metadata": {},
   "source": [
    "- Tasks\n",
    "    - % of students failed\n",
    "    - % of students with distinction\n",
    "    - highest marks freq\n",
    "    - lowest marks freq"
   ]
  },
  {
   "cell_type": "code",
   "execution_count": 24,
   "metadata": {},
   "outputs": [
    {
     "data": {
      "text/plain": [
       "False"
      ]
     },
     "execution_count": 24,
     "metadata": {},
     "output_type": "execute_result"
    }
   ],
   "source": [
    "# find a word\n",
    "def iswordExist(filepath,word):\n",
    "    with open(filepath,'r') as f:\n",
    "        filedata = f.read()\n",
    "        data = filedata.split()\n",
    "        if word in data:\n",
    "            count = data.count(word)\n",
    "            return True\n",
    "        return False\n",
    "filepath = 'Datafiles/data.txt'\n",
    "iswordExist(filepath,'python')"
   ]
  },
  {
   "cell_type": "code",
   "execution_count": 25,
   "metadata": {},
   "outputs": [],
   "source": [
    "# replace with a new word in same file\n",
    "fone = open('Datafiles/data.txt','r')\n",
    "data = fone.read()\n",
    "data = data.replace('python','Apssdc')\n",
    "fone.close()\n",
    "fone = open('Datafiles/data.txt','w')\n",
    "fone.write(data)\n",
    "fone.close()"
   ]
  },
  {
   "cell_type": "code",
   "execution_count": null,
   "metadata": {},
   "outputs": [],
   "source": []
  },
  {
   "cell_type": "code",
   "execution_count": null,
   "metadata": {},
   "outputs": [],
   "source": []
  }
 ],
 "metadata": {
  "kernelspec": {
   "display_name": "Python 3",
   "language": "python",
   "name": "python3"
  },
  "language_info": {
   "codemirror_mode": {
    "name": "ipython",
    "version": 3
   },
   "file_extension": ".py",
   "mimetype": "text/x-python",
   "name": "python",
   "nbconvert_exporter": "python",
   "pygments_lexer": "ipython3",
   "version": "3.7.3"
  }
 },
 "nbformat": 4,
 "nbformat_minor": 2
}
