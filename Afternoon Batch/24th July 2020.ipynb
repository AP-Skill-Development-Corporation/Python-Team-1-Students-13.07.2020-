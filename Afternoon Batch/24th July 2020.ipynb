{
 "cells": [
  {
   "cell_type": "markdown",
   "metadata": {},
   "source": [
    "- Today topics are\n",
    "    - Comprehensions\n",
    "    - Iterators\n",
    "    - Generators\n",
    "- Comprehesions\n",
    "    - We can create new sequences using a given python sequence.This is called comprehension.\n",
    "- Advantages :\n",
    "     1. Makes code simple and concise\n",
    "     2. Reduces the number of lines of code.\n",
    "- Types of comprehensions\n",
    "    1. List Comprehension\n",
    "        - In this method, we create a new list by manipulating the values of the existing list.\n",
    "    2. Dictionary Comprehension\n",
    "        - It is similar to list comprehension we can take in a list and create a dictionary from it\n",
    "    3. Set Comprehension\n",
    "    4. Generator Comprehension"
   ]
  },
  {
   "cell_type": "code",
   "execution_count": 1,
   "metadata": {},
   "outputs": [
    {
     "name": "stdout",
     "output_type": "stream",
     "text": [
      "[1, 2, 3, 4, 5, 6, 7, 8, 9, 10]\n"
     ]
    }
   ],
   "source": [
    "lst = []\n",
    "for i in range(1,11):\n",
    "    lst.append(i)\n",
    "print(lst)"
   ]
  },
  {
   "cell_type": "code",
   "execution_count": 2,
   "metadata": {},
   "outputs": [
    {
     "name": "stdout",
     "output_type": "stream",
     "text": [
      "[1, 2, 3, 4, 5, 6, 7, 8, 9, 10]\n"
     ]
    }
   ],
   "source": [
    "s = [i for i in range(1,11)]\n",
    "print(s)"
   ]
  },
  {
   "cell_type": "code",
   "execution_count": 3,
   "metadata": {},
   "outputs": [
    {
     "name": "stdout",
     "output_type": "stream",
     "text": [
      "[2, 4, 6, 8, 10]\n"
     ]
    }
   ],
   "source": [
    "# even numbers\n",
    "s = [i for i in range(1,11) if i%2==0]\n",
    "print(s)"
   ]
  },
  {
   "cell_type": "code",
   "execution_count": 4,
   "metadata": {},
   "outputs": [
    {
     "name": "stdout",
     "output_type": "stream",
     "text": [
      "[2, 4, 'not even', 'not even', 'not even', 16]\n"
     ]
    }
   ],
   "source": [
    "li = [2,4,15,7,9,16]\n",
    "lst2 = []\n",
    "for i in li:\n",
    "    if i%2==0:\n",
    "        lst2.append(i)\n",
    "    else:\n",
    "        lst2.append(\"not even\")\n",
    "print(lst2)"
   ]
  },
  {
   "cell_type": "code",
   "execution_count": 5,
   "metadata": {},
   "outputs": [
    {
     "name": "stdout",
     "output_type": "stream",
     "text": [
      "[2, 4, 'not even', 'not even', 'not even', 16]\n"
     ]
    }
   ],
   "source": [
    "li = [2,4,15,7,9,16]\n",
    "s = [i if i%2==0 else 'not even' for i in li]\n",
    "print(s)"
   ]
  },
  {
   "cell_type": "code",
   "execution_count": 6,
   "metadata": {},
   "outputs": [
    {
     "name": "stdout",
     "output_type": "stream",
     "text": [
      "[2, 4, 'not even', 'not even', 'not even', 16]\n"
     ]
    }
   ],
   "source": [
    "# using list comprehension\n",
    "s = [i if i%2==0 else 'not even' for i in [2,4,15,7,9,16]]\n",
    "print(s)"
   ]
  },
  {
   "cell_type": "code",
   "execution_count": 7,
   "metadata": {},
   "outputs": [
    {
     "ename": "SyntaxError",
     "evalue": "invalid syntax (<ipython-input-7-bd8ec0777b9f>, line 1)",
     "output_type": "error",
     "traceback": [
      "\u001b[1;36m  File \u001b[1;32m\"<ipython-input-7-bd8ec0777b9f>\"\u001b[1;36m, line \u001b[1;32m1\u001b[0m\n\u001b[1;33m    s = [i for i in [2,4,15,7,9,16] if i%2==0 else 'not even']\u001b[0m\n\u001b[1;37m                                                 ^\u001b[0m\n\u001b[1;31mSyntaxError\u001b[0m\u001b[1;31m:\u001b[0m invalid syntax\n"
     ]
    }
   ],
   "source": [
    "s = [i for i in [2,4,15,7,9,16] if i%2==0 else 'not even']\n",
    "print(s)"
   ]
  },
  {
   "cell_type": "code",
   "execution_count": 8,
   "metadata": {},
   "outputs": [
    {
     "name": "stdout",
     "output_type": "stream",
     "text": [
      "[8, 27, 1]\n"
     ]
    }
   ],
   "source": [
    "res = [x**3 for x in [2,3,1]]\n",
    "print(res)"
   ]
  },
  {
   "cell_type": "code",
   "execution_count": 9,
   "metadata": {},
   "outputs": [
    {
     "name": "stdout",
     "output_type": "stream",
     "text": [
      "['Summer', 'online', 'training', 'program', 'for', 'students']\n"
     ]
    }
   ],
   "source": [
    "lst = ['Summer online training program','for students']\n",
    "lst2 = []\n",
    "for lines in lst:\n",
    "    for word in lines.split():\n",
    "        lst2.append(word)\n",
    "print(lst2)"
   ]
  },
  {
   "cell_type": "code",
   "execution_count": 10,
   "metadata": {},
   "outputs": [
    {
     "name": "stdout",
     "output_type": "stream",
     "text": [
      "['Summer', 'online', 'training', 'program', 'for', 'students']\n"
     ]
    }
   ],
   "source": [
    "lst = ['Summer online training program','for students']\n",
    "lst2 = []\n",
    "for i in lst:\n",
    "    for j in i.split():\n",
    "        lst2.append(j)\n",
    "print(lst2)"
   ]
  },
  {
   "cell_type": "code",
   "execution_count": 11,
   "metadata": {},
   "outputs": [
    {
     "name": "stdout",
     "output_type": "stream",
     "text": [
      "['Summer', 'online', 'training', 'program', 'for', 'students']\n",
      "Words count is: 6\n"
     ]
    }
   ],
   "source": [
    "lst = ['Summer online training program','for students']\n",
    "s = [words for lines in lst for words in lines.split()]\n",
    "print(s)\n",
    "print('Words count is:',len(s))"
   ]
  },
  {
   "cell_type": "code",
   "execution_count": 12,
   "metadata": {},
   "outputs": [
    {
     "name": "stdout",
     "output_type": "stream",
     "text": [
      "[['Summer', 'online', 'training', 'program'], ['for', 'students']]\n"
     ]
    }
   ],
   "source": [
    "lst = ['Summer online training program','for students']\n",
    "s = [x.split() for x in lst]\n",
    "print(s)"
   ]
  },
  {
   "cell_type": "code",
   "execution_count": 13,
   "metadata": {},
   "outputs": [
    {
     "name": "stdout",
     "output_type": "stream",
     "text": [
      "{1: 1, 2: 8, 3: 27, 4: 64}\n"
     ]
    }
   ],
   "source": [
    "given_lst = [1,2,3,4]\n",
    "new_dict = {i:i**3 for i in given_lst}\n",
    "print(new_dict)"
   ]
  },
  {
   "cell_type": "code",
   "execution_count": 14,
   "metadata": {},
   "outputs": [
    {
     "name": "stdout",
     "output_type": "stream",
     "text": [
      "[0, 1, 2, 3, 4]\n",
      "{0: 0, 1: 1, 2: 8, 3: 27, 4: 64}\n"
     ]
    }
   ],
   "source": [
    "given_lst = [x for x in range(5)]\n",
    "print(given_lst)\n",
    "new_dict = {var:var**3 for var in given_lst}\n",
    "print(new_dict)"
   ]
  },
  {
   "cell_type": "code",
   "execution_count": 15,
   "metadata": {},
   "outputs": [
    {
     "name": "stdout",
     "output_type": "stream",
     "text": [
      "{'Andhra pradesh': 'Amaravathi', 'Telangana': 'Hyderabad', 'Tamilnadu': 'Chennai'}\n"
     ]
    }
   ],
   "source": [
    "state = ['Andhra pradesh','Telangana','Tamilnadu']\n",
    "capital = ['Amaravathi','Hyderabad','Chennai']\n",
    "new_dict = {key:value for (key,value) in zip(state,capital)}\n",
    "print(new_dict)"
   ]
  },
  {
   "cell_type": "code",
   "execution_count": 16,
   "metadata": {},
   "outputs": [
    {
     "name": "stdout",
     "output_type": "stream",
     "text": [
      "{1: 3, 2: 3, 3: 2, 4: 1}\n"
     ]
    }
   ],
   "source": [
    "# Without using dictionary comprehension\n",
    "li = [1,2,1,1,3,4,3,2,2]\n",
    "dic = {}\n",
    "for i in li: # i=1, i=2, i=1,i= i=1\n",
    "    if i in dic:\n",
    "        dic[i] = dic[i]+1 # i=2, 1:3,\n",
    "    else:\n",
    "        dic[i] = 1 #1:1, 2:1, 3:1, 4:1\n",
    "print(dic)"
   ]
  },
  {
   "cell_type": "code",
   "execution_count": 17,
   "metadata": {},
   "outputs": [
    {
     "name": "stdout",
     "output_type": "stream",
     "text": [
      "[3, 3, 3, 3, 2, 1, 2, 3, 3]\n",
      "{1: 3, 2: 3, 3: 2, 4: 1}\n"
     ]
    }
   ],
   "source": [
    "# using dictionary comprehension\n",
    "li = [1,2,1,1,3,4,3,2,2]\n",
    "word_frq = [li.count(i) for i in li]\n",
    "print(word_frq)\n",
    "print(dict(list(zip(li,word_frq))))"
   ]
  },
  {
   "cell_type": "code",
   "execution_count": 18,
   "metadata": {},
   "outputs": [
    {
     "name": "stdout",
     "output_type": "stream",
     "text": [
      "{2}\n"
     ]
    }
   ],
   "source": [
    "li = [1,5,7,13,3,2]\n",
    "s = set()\n",
    "for i in li:\n",
    "    if i%2==0:\n",
    "        s.add(i)\n",
    "print(s)"
   ]
  },
  {
   "cell_type": "code",
   "execution_count": 19,
   "metadata": {},
   "outputs": [
    {
     "name": "stdout",
     "output_type": "stream",
     "text": [
      "{2}\n"
     ]
    }
   ],
   "source": [
    "s = {x for x in li if x%2==0}\n",
    "print(s)"
   ]
  },
  {
   "cell_type": "markdown",
   "metadata": {},
   "source": [
    "- Generator Comprehension\n",
    "    - New generators can be created from the existing list\n",
    "    - These generators are memory efficient as they allocate memory as the items are generated instead of allocating it at the beginning"
   ]
  },
  {
   "cell_type": "code",
   "execution_count": 20,
   "metadata": {},
   "outputs": [
    {
     "name": "stdout",
     "output_type": "stream",
     "text": [
      "<generator object <genexpr> at 0x0000019CFA160D68>\n",
      "1\n",
      "27\n",
      "125\n",
      "8\n"
     ]
    }
   ],
   "source": [
    "li = [1,3,5,2]\n",
    "c = (i**3 for i in li)\n",
    "print(c)\n",
    "for i in c:\n",
    "    print(i)"
   ]
  },
  {
   "cell_type": "code",
   "execution_count": null,
   "metadata": {},
   "outputs": [],
   "source": []
  }
 ],
 "metadata": {
  "kernelspec": {
   "display_name": "Python 3",
   "language": "python",
   "name": "python3"
  },
  "language_info": {
   "codemirror_mode": {
    "name": "ipython",
    "version": 3
   },
   "file_extension": ".py",
   "mimetype": "text/x-python",
   "name": "python",
   "nbconvert_exporter": "python",
   "pygments_lexer": "ipython3",
   "version": "3.7.1"
  }
 },
 "nbformat": 4,
 "nbformat_minor": 2
}
