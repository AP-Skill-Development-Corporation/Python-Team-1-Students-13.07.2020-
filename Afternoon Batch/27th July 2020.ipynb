{
 "cells": [
  {
   "cell_type": "markdown",
   "metadata": {},
   "source": [
    "- OOPS Concepts\n",
    "    - Object Oriented Programming Structure\n",
    "    - Classes\n",
    "    - Objects\n",
    "    - Constructor\n",
    "    - Inheritance\n",
    "    - packages and Modules OOPS"
   ]
  },
  {
   "cell_type": "markdown",
   "metadata": {},
   "source": [
    "- Class\n",
    "    - Collection of variables and Methods\n",
    "    - func -- collection of statements\n",
    "    - method - Function inside the class is called method\n",
    "    - syntax\n",
    "         class classname:\n",
    "             vars\n",
    "             methods\n",
    "    - classname should starts with Uppercaseletter"
   ]
  },
  {
   "cell_type": "code",
   "execution_count": 1,
   "metadata": {},
   "outputs": [],
   "source": [
    "class Hi:\n",
    "    a = 10\n",
    "    b = 7\n",
    "    def display():\n",
    "        print(\"Hii Iam from display function.\")"
   ]
  },
  {
   "cell_type": "code",
   "execution_count": 2,
   "metadata": {},
   "outputs": [
    {
     "name": "stdout",
     "output_type": "stream",
     "text": [
      "10\n"
     ]
    }
   ],
   "source": [
    "print(Hi.a)"
   ]
  },
  {
   "cell_type": "code",
   "execution_count": 3,
   "metadata": {},
   "outputs": [
    {
     "name": "stdout",
     "output_type": "stream",
     "text": [
      "Hii Iam from display function.\n",
      "None\n"
     ]
    }
   ],
   "source": [
    "print(Hi.display())"
   ]
  },
  {
   "cell_type": "code",
   "execution_count": 4,
   "metadata": {},
   "outputs": [
    {
     "name": "stdout",
     "output_type": "stream",
     "text": [
      "Hii Iam from display function.\n"
     ]
    }
   ],
   "source": [
    "Hi.display()"
   ]
  },
  {
   "cell_type": "markdown",
   "metadata": {},
   "source": [
    "- Object\n",
    "    - Instance of class\n",
    "    - object_name = class_name"
   ]
  },
  {
   "cell_type": "code",
   "execution_count": 5,
   "metadata": {},
   "outputs": [
    {
     "data": {
      "text/plain": [
       "10"
      ]
     },
     "execution_count": 5,
     "metadata": {},
     "output_type": "execute_result"
    }
   ],
   "source": [
    "obj = Hi\n",
    "obj.a"
   ]
  },
  {
   "cell_type": "code",
   "execution_count": 6,
   "metadata": {},
   "outputs": [
    {
     "name": "stdout",
     "output_type": "stream",
     "text": [
      "Hii Iam from display function.\n"
     ]
    }
   ],
   "source": [
    "obj.display()"
   ]
  },
  {
   "cell_type": "code",
   "execution_count": 7,
   "metadata": {},
   "outputs": [
    {
     "data": {
      "text/plain": [
       "19"
      ]
     },
     "execution_count": 7,
     "metadata": {},
     "output_type": "execute_result"
    }
   ],
   "source": [
    "# Basic Calculation\n",
    "class Math:\n",
    "    def add(a,b):\n",
    "        return a+b\n",
    "    def mul(a,b):\n",
    "        return a*b\n",
    "\n",
    "# Craete object name for class Math\n",
    "mt = Math\n",
    "mt.add(9,10)"
   ]
  },
  {
   "cell_type": "code",
   "execution_count": 8,
   "metadata": {},
   "outputs": [
    {
     "data": {
      "text/plain": [
       "100"
      ]
     },
     "execution_count": 8,
     "metadata": {},
     "output_type": "execute_result"
    }
   ],
   "source": [
    "mt.mul(10,10)"
   ]
  },
  {
   "cell_type": "markdown",
   "metadata": {},
   "source": [
    "- Constructor\n",
    "    - special type of method(function) which is used to initialize the instance members of class\n",
    "    - python def __init__(self)\n",
    "    - syntax\n",
    "         class classname:\n",
    "             def __init__(self):# self is default parameter\n",
    "             def __init__(self,a,b):#first variable acts as default parameter\n",
    "             def __int__(a,self,b):# a is default parameter\n",
    "                 "
   ]
  },
  {
   "cell_type": "code",
   "execution_count": 11,
   "metadata": {},
   "outputs": [
    {
     "name": "stdout",
     "output_type": "stream",
     "text": [
      "Constructor\n"
     ]
    }
   ],
   "source": [
    "class Maths:\n",
    "    def __init__(self,name,number):\n",
    "        self.name = name\n",
    "        self.number = number\n",
    "        print(\"Constructor\")\n",
    "A = Maths(2,5)"
   ]
  },
  {
   "cell_type": "code",
   "execution_count": 14,
   "metadata": {},
   "outputs": [
    {
     "name": "stdout",
     "output_type": "stream",
     "text": [
      "2\n",
      "5\n"
     ]
    }
   ],
   "source": [
    "print(A.name)\n",
    "print(A.number)\n",
    "#print(self.name)"
   ]
  },
  {
   "cell_type": "code",
   "execution_count": 16,
   "metadata": {},
   "outputs": [
    {
     "ename": "TypeError",
     "evalue": "__init__() missing 2 required positional arguments: 'name' and 'number'",
     "output_type": "error",
     "traceback": [
      "\u001b[1;31m---------------------------------------------------------------------------\u001b[0m",
      "\u001b[1;31mTypeError\u001b[0m                                 Traceback (most recent call last)",
      "\u001b[1;32m<ipython-input-16-326cd51e4fe9>\u001b[0m in \u001b[0;36m<module>\u001b[1;34m\u001b[0m\n\u001b[1;32m----> 1\u001b[1;33m \u001b[0mA1\u001b[0m \u001b[1;33m=\u001b[0m \u001b[0mMaths\u001b[0m\u001b[1;33m(\u001b[0m\u001b[1;33m)\u001b[0m\u001b[1;33m\u001b[0m\u001b[1;33m\u001b[0m\u001b[0m\n\u001b[0m",
      "\u001b[1;31mTypeError\u001b[0m: __init__() missing 2 required positional arguments: 'name' and 'number'"
     ]
    }
   ],
   "source": [
    "A1 = Maths()"
   ]
  },
  {
   "cell_type": "code",
   "execution_count": 17,
   "metadata": {},
   "outputs": [
    {
     "name": "stdout",
     "output_type": "stream",
     "text": [
      "4\n",
      "5\n"
     ]
    }
   ],
   "source": [
    "class Math:\n",
    "    def __init__(abc,val1,val2):\n",
    "        abc.num1 = val1\n",
    "        abc.num2 = val2\n",
    "    def show(abc):\n",
    "        print(abc.num1)\n",
    "        print(abc.num2)\n",
    "    def add(abc):\n",
    "        return abc.num1 + abc.num2\n",
    "ma = Math(4,5)\n",
    "ma.show()"
   ]
  },
  {
   "cell_type": "code",
   "execution_count": 18,
   "metadata": {},
   "outputs": [
    {
     "data": {
      "text/plain": [
       "9"
      ]
     },
     "execution_count": 18,
     "metadata": {},
     "output_type": "execute_result"
    }
   ],
   "source": [
    "ma.add()"
   ]
  },
  {
   "cell_type": "code",
   "execution_count": 21,
   "metadata": {},
   "outputs": [
    {
     "name": "stdout",
     "output_type": "stream",
     "text": [
      "4\n",
      "5\n"
     ]
    },
    {
     "data": {
      "text/plain": [
       "14"
      ]
     },
     "execution_count": 21,
     "metadata": {},
     "output_type": "execute_result"
    }
   ],
   "source": [
    "class Math:\n",
    "    def __init__(abc,val1,val2):\n",
    "        abc.num1 = val1\n",
    "        abc.num2 = val2\n",
    "    def show(abc):\n",
    "        print(abc.num1)\n",
    "        print(abc.num2)\n",
    "    def add(abc,val3):\n",
    "        return abc.num1 + abc.num2 + val3\n",
    "ma = Math(4,5)\n",
    "ma.show()\n",
    "ma.add(5)"
   ]
  },
  {
   "cell_type": "code",
   "execution_count": 23,
   "metadata": {},
   "outputs": [
    {
     "name": "stdout",
     "output_type": "stream",
     "text": [
      "Trail\n"
     ]
    }
   ],
   "source": [
    "class Cons:\n",
    "    def __mycons__(self):\n",
    "        print(\"Trail\")\n",
    "ob = Cons()\n",
    "ob.__mycons__()"
   ]
  },
  {
   "cell_type": "code",
   "execution_count": null,
   "metadata": {},
   "outputs": [],
   "source": [
    "# By using constructor print your name,clg or branch"
   ]
  },
  {
   "cell_type": "markdown",
   "metadata": {},
   "source": [
    "- Inheritance\n",
    "    - Inherit something from parent class to child class\n",
    "    - syntax\n",
    "        - class childclass(parentclass)\n",
    "    - single level\n",
    "        - only parent and one child\n",
    "    - multi level\n",
    "        - one or more parents or one or more childs\n",
    "    - multiple level\n",
    "        - more than one parent and single child\n",
    "    - hybrid\n",
    "        - combination of all inheritance\n",
    "        - multiple parents or multiple childs"
   ]
  },
  {
   "cell_type": "code",
   "execution_count": 25,
   "metadata": {},
   "outputs": [
    {
     "name": "stdout",
     "output_type": "stream",
     "text": [
      "Iam from Second\n",
      "Hi Iam from First class\n"
     ]
    }
   ],
   "source": [
    "# Single level Inheritance\n",
    "class First():\n",
    "    a,b = 10,20\n",
    "    def display():\n",
    "        print(\"Hi Iam from First class\")\n",
    "class Second(First):\n",
    "    c,d = 23,24\n",
    "    def show():\n",
    "        print(\"Iam from Second\")\n",
    "obj = Second\n",
    "obj.show()\n",
    "obj.display()"
   ]
  },
  {
   "cell_type": "code",
   "execution_count": 26,
   "metadata": {},
   "outputs": [
    {
     "name": "stdout",
     "output_type": "stream",
     "text": [
      "From ClassA\n",
      "From ClassB\n",
      "From ClassC\n"
     ]
    }
   ],
   "source": [
    "# Multi level Inheritance\n",
    "class A:\n",
    "    def classA():\n",
    "        print(\"From ClassA\")\n",
    "class B(A):\n",
    "    def classB():\n",
    "        print(\"From ClassB\")\n",
    "class C(B):\n",
    "    def classC():\n",
    "        print(\"From ClassC\")\n",
    "obj = C\n",
    "obj.classA()\n",
    "obj.classB()\n",
    "obj.classC()"
   ]
  },
  {
   "cell_type": "code",
   "execution_count": 28,
   "metadata": {},
   "outputs": [
    {
     "name": "stdout",
     "output_type": "stream",
     "text": [
      "From ClassA\n",
      "From ClassB\n",
      "From classC\n"
     ]
    }
   ],
   "source": [
    "# Multiple Inheritance\n",
    "class A:\n",
    "    def classA():\n",
    "        print(\"From ClassA\")\n",
    "class B:\n",
    "    def classB():\n",
    "        print(\"From ClassB\")\n",
    "class C(A,B):\n",
    "    def classC():\n",
    "        print(\"From classC\")\n",
    "obj = C\n",
    "obj.classA()\n",
    "obj.classB()\n",
    "obj.classC()"
   ]
  },
  {
   "cell_type": "code",
   "execution_count": 29,
   "metadata": {},
   "outputs": [
    {
     "name": "stdout",
     "output_type": "stream",
     "text": [
      "From classD\n"
     ]
    }
   ],
   "source": [
    "# hybrid Inheritance\n",
    "class A:\n",
    "    def classA():\n",
    "        print(\"From ClassA\")\n",
    "class B:\n",
    "    def classB():\n",
    "        print(\"From ClassB\")\n",
    "class C(A,B):\n",
    "    def classC():\n",
    "        print(\"From classC\")\n",
    "class D(C):\n",
    "    def classD():\n",
    "        print(\"From classD\")\n",
    "class E(D):\n",
    "    def classE():\n",
    "        print(\"From ClassE\")\n",
    "obj = E\n",
    "obj.classD()"
   ]
  },
  {
   "cell_type": "markdown",
   "metadata": {},
   "source": [
    "- Files Tasks\n",
    "    - words count\n",
    "    - unique words count\n",
    "    - words freq"
   ]
  },
  {
   "cell_type": "code",
   "execution_count": 31,
   "metadata": {},
   "outputs": [
    {
     "data": {
      "text/plain": [
       "13"
      ]
     },
     "execution_count": 31,
     "metadata": {},
     "output_type": "execute_result"
    }
   ],
   "source": [
    "# words count\n",
    "def wordscount(filepath):\n",
    "    with open(filepath) as f:\n",
    "        fh = f.read()\n",
    "        words = fh.split()\n",
    "        wc = len(words)\n",
    "    return wc\n",
    "filepath = 'Datafiles/data.txt'\n",
    "wordscount(filepath)"
   ]
  },
  {
   "cell_type": "code",
   "execution_count": 34,
   "metadata": {},
   "outputs": [
    {
     "data": {
      "text/plain": [
       "{'Apssdc': 1,\n",
       " 'program': 1,\n",
       " 'on': 2,\n",
       " '22nd': 1,\n",
       " 'july': 1,\n",
       " '2020': 1,\n",
       " 'file': 2,\n",
       " 'handling': 1,\n",
       " 'and': 1,\n",
       " 'data': 1,\n",
       " 'processing.': 1}"
      ]
     },
     "execution_count": 34,
     "metadata": {},
     "output_type": "execute_result"
    }
   ],
   "source": [
    "# frequency of words\n",
    "def wordsfreq(filepath):\n",
    "    with open(filepath) as f:\n",
    "        d = {}\n",
    "        fh = f.read()\n",
    "        words = fh.split()\n",
    "        for word in words:\n",
    "            a = words.count(word)\n",
    "            d[word] = a\n",
    "    return d\n",
    "filepath = 'Datafiles/data.txt'\n",
    "wordsfreq(filepath)"
   ]
  },
  {
   "cell_type": "code",
   "execution_count": 35,
   "metadata": {},
   "outputs": [
    {
     "data": {
      "text/plain": [
       "['Apssdc',\n",
       " 'program',\n",
       " 'on',\n",
       " '22nd',\n",
       " 'july',\n",
       " '2020',\n",
       " 'file',\n",
       " 'handling',\n",
       " 'and',\n",
       " 'data',\n",
       " 'processing.']"
      ]
     },
     "execution_count": 35,
     "metadata": {},
     "output_type": "execute_result"
    }
   ],
   "source": [
    "# unique words\n",
    "def uniquewords(filepath):\n",
    "    uniquewords = []\n",
    "    with open(filepath) as f:\n",
    "        fh = f.read()\n",
    "        data = fh.split()\n",
    "        for word in data:\n",
    "            if word not in uniquewords:\n",
    "                uniquewords.append(word)\n",
    "        return uniquewords\n",
    "filepath = 'Datafiles/data.txt'\n",
    "uniquewords(filepath)"
   ]
  },
  {
   "cell_type": "code",
   "execution_count": 36,
   "metadata": {},
   "outputs": [
    {
     "name": "stdout",
     "output_type": "stream",
     "text": [
      "% of students with distinction  14.000000000000002\n",
      "Highest mark freq 1\n",
      "owest mark freq 1\n"
     ]
    }
   ],
   "source": [
    "def reportgen(filepath):\n",
    "    with open(filepath) as f:\n",
    "        filedata = f.read()\n",
    "        marks = filedata.split()\n",
    "        distcount = 0\n",
    "        highcount = 0\n",
    "        lowcount = 0\n",
    "        highestmarks = max(marks)\n",
    "        lowestmarks = min(marks)\n",
    "        for mark in marks:\n",
    "            if int(mark) >= 80:\n",
    "                distcount += 1\n",
    "            if int(mark) == int(highestmarks):\n",
    "                highcount += 1\n",
    "            if int(mark) == int(lowestmarks):\n",
    "                lowcount += 1\n",
    "        distinctper = (distcount /len(marks))*100\n",
    "        print(\"% of students with distinction \",distinctper)\n",
    "        print(\"Highest mark freq\",highcount)\n",
    "        print(\"owest mark freq\",lowcount)\n",
    "filepath = 'Datafiles/marks.txt'\n",
    "reportgen(filepath)\n",
    "            "
   ]
  },
  {
   "cell_type": "code",
   "execution_count": null,
   "metadata": {},
   "outputs": [],
   "source": []
  }
 ],
 "metadata": {
  "kernelspec": {
   "display_name": "Python 3",
   "language": "python",
   "name": "python3"
  },
  "language_info": {
   "codemirror_mode": {
    "name": "ipython",
    "version": 3
   },
   "file_extension": ".py",
   "mimetype": "text/x-python",
   "name": "python",
   "nbconvert_exporter": "python",
   "pygments_lexer": "ipython3",
   "version": "3.7.1"
  }
 },
 "nbformat": 4,
 "nbformat_minor": 2
}
