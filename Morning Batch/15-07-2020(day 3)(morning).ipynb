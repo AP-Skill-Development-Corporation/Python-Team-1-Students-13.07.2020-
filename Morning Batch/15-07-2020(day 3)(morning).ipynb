{
 "cells": [
  {
   "cell_type": "markdown",
   "metadata": {},
   "source": [
    "## Conditional Statements:"
   ]
  },
  {
   "cell_type": "code",
   "execution_count": null,
   "metadata": {},
   "outputs": [],
   "source": [
    "- if statement\n",
    "- if-else statement\n",
    "- elif statement\n",
    "- nested if statements"
   ]
  },
  {
   "cell_type": "code",
   "execution_count": null,
   "metadata": {},
   "outputs": [],
   "source": [
    "# if statement\n",
    "if condition:\n",
    "    statement\n",
    "#indentation:\n",
    "- four spaces or one tab space"
   ]
  },
  {
   "cell_type": "code",
   "execution_count": 3,
   "metadata": {},
   "outputs": [
    {
     "name": "stdout",
     "output_type": "stream",
     "text": [
      "enter a number:70\n",
      "positive\n"
     ]
    }
   ],
   "source": [
    "# positive\n",
    "n=int(input(\"enter a number:\"))\n",
    "if n>0:\n",
    "    print(\"positive\")"
   ]
  },
  {
   "cell_type": "code",
   "execution_count": 6,
   "metadata": {},
   "outputs": [
    {
     "name": "stdout",
     "output_type": "stream",
     "text": [
      "enter a number:4\n",
      "n is smaller than 10\n"
     ]
    }
   ],
   "source": [
    "n=int(input(\"enter a number:\"))\n",
    "if n<10:\n",
    "    print(\"n is smaller than 10\")"
   ]
  },
  {
   "cell_type": "code",
   "execution_count": null,
   "metadata": {},
   "outputs": [],
   "source": [
    "#2.if-else:\n",
    "#syntax:\n",
    "if condition:\n",
    "    statement\n",
    "else:\n",
    "    statement"
   ]
  },
  {
   "cell_type": "code",
   "execution_count": 10,
   "metadata": {},
   "outputs": [
    {
     "name": "stdout",
     "output_type": "stream",
     "text": [
      "enter age:17\n",
      "17 not eligible\n"
     ]
    }
   ],
   "source": [
    "age=int(input(\"enter age:\"))\n",
    "if age>=18:\n",
    "    print(age,\"eligible\")\n",
    "else:\n",
    "    print(age,\"not eligible\")"
   ]
  },
  {
   "cell_type": "code",
   "execution_count": 12,
   "metadata": {},
   "outputs": [
    {
     "name": "stdout",
     "output_type": "stream",
     "text": [
      "enter a number:73\n",
      "odd\n"
     ]
    }
   ],
   "source": [
    "#even or odd\n",
    "n=int(input(\"enter a number:\"))\n",
    "if n%2==0:\n",
    "    print(\"even\")\n",
    "else:\n",
    "    print(\"odd\")"
   ]
  },
  {
   "cell_type": "code",
   "execution_count": 16,
   "metadata": {},
   "outputs": [
    {
     "name": "stdout",
     "output_type": "stream",
     "text": [
      " 4\n",
      " 3\n",
      " 2\n",
      "4 is the bigger\n"
     ]
    }
   ],
   "source": [
    "#biggest of 3 numbers\n",
    "a=int(input(\" \"))\n",
    "b=int(input(\" \"))\n",
    "c=int(input(\" \"))\n",
    "if(a>b and a>c):\n",
    "    print(a,\"is the bigger\")\n",
    "elif (b>c):\n",
    "    print(b,\"is the bigger\")\n",
    "else:\n",
    "    print(c,\"is the bigger\")"
   ]
  },
  {
   "cell_type": "code",
   "execution_count": 29,
   "metadata": {},
   "outputs": [
    {
     "name": "stdout",
     "output_type": "stream",
     "text": [
      "2020\n",
      "leap year\n"
     ]
    }
   ],
   "source": [
    "#leap year\n",
    "year=int(input())\n",
    "if year%400==0 or (year%4==0 and year%100!=0):\n",
    "    print(\"leap year\")\n",
    "else:\n",
    "    print(\"not a leap year\")"
   ]
  },
  {
   "cell_type": "code",
   "execution_count": 1,
   "metadata": {},
   "outputs": [
    {
     "name": "stdout",
     "output_type": "stream",
     "text": [
      "enter a str12345\n",
      "enter a number12345\n",
      "equal\n"
     ]
    }
   ],
   "source": [
    "a=input('enter a str')\n",
    "b=int(input('enter a number'))\n",
    "c=str(b)\n",
    "if c==a:\n",
    "    print('equal')\n",
    "else:\n",
    "    print(\"not equal\")       "
   ]
  },
  {
   "cell_type": "code",
   "execution_count": null,
   "metadata": {},
   "outputs": [],
   "source": [
    "# elif:\n",
    "#syntax:\n",
    "if condition:\n",
    "    statement\n",
    "elif condition:\n",
    "    statement\n",
    "elif condition:\n",
    "    statement\n",
    "else:\n",
    "    statement"
   ]
  },
  {
   "cell_type": "code",
   "execution_count": 7,
   "metadata": {},
   "outputs": [
    {
     "name": "stdout",
     "output_type": "stream",
     "text": [
      "enter:@\n",
      "Special charcater\n"
     ]
    }
   ],
   "source": [
    "n=input(\"enter:\")\n",
    "if (n>='a' and n<='z') or (n>='A' and n<='Z'):\n",
    "    print(\"Alphabet\")\n",
    "elif (n>='0' and n<='9'):\n",
    "    print(\"Digit\")\n",
    "else:\n",
    "    print(\"Special charcater\")"
   ]
  },
  {
   "cell_type": "code",
   "execution_count": 13,
   "metadata": {},
   "outputs": [
    {
     "name": "stdout",
     "output_type": "stream",
     "text": [
      "c\n",
      "good guess\n"
     ]
    }
   ],
   "source": [
    "choice=input()\n",
    "if choice=='a':\n",
    "    print(\"bad guess\")\n",
    "elif choice=='b':\n",
    "    print(\"close,but not correct\")\n",
    "elif choice=='c':\n",
    "    print(\"good guess\")\n",
    "else:\n",
    "    print(\"invalid\")    "
   ]
  },
  {
   "cell_type": "code",
   "execution_count": 15,
   "metadata": {},
   "outputs": [
    {
     "name": "stdout",
     "output_type": "stream",
     "text": [
      "3\n",
      "wednesday\n"
     ]
    }
   ],
   "source": [
    "choice=int(input())\n",
    "if choice==1:\n",
    "    print(\"Monday\")\n",
    "elif choice==2:\n",
    "    print(\"Tuesday\")\n",
    "elif choice==3:\n",
    "    print(\"wednesday\")\n",
    "elif choice==4:\n",
    "    print(\"thursday\")\n",
    "elif choice==5:\n",
    "    print(\"Friday\")\n",
    "elif choice==6:\n",
    "    print(\"Saturday\")\n",
    "elif choice==7:\n",
    "    print(\"sunday\")\n",
    "else:\n",
    "    print(\"invalid\")"
   ]
  },
  {
   "cell_type": "code",
   "execution_count": null,
   "metadata": {},
   "outputs": [],
   "source": [
    "#nested if\n",
    "#syntax:\n",
    "if condition:\n",
    "    statement\n",
    "    if condition:\n",
    "        statement\n",
    "    elif condirion:\n",
    "        statement\n",
    "    else:\n",
    "        statement   \n",
    "else:\n",
    "    statement       "
   ]
  },
  {
   "cell_type": "code",
   "execution_count": 5,
   "metadata": {},
   "outputs": [
    {
     "name": "stdout",
     "output_type": "stream",
     "text": [
      "22\n",
      "10648\n"
     ]
    }
   ],
   "source": [
    "n=int(input()) 4\n",
    "if n%2==0:\n",
    "    if n<5:\n",
    "        print(n**2)\n",
    "    else:\n",
    "        print(n**3)\n",
    "else:\n",
    "    print(\"odd\")"
   ]
  },
  {
   "cell_type": "code",
   "execution_count": 3,
   "metadata": {},
   "outputs": [
    {
     "data": {
      "text/plain": [
       "10648"
      ]
     },
     "execution_count": 3,
     "metadata": {},
     "output_type": "execute_result"
    }
   ],
   "source": [
    "22**3"
   ]
  },
  {
   "cell_type": "code",
   "execution_count": null,
   "metadata": {},
   "outputs": [],
   "source": [
    "# task1(if,elif,else)\n",
    "80-100--->a grade\n",
    "70-79---->b grade\n",
    "60-69---->c grade\n",
    "45-59---->d grade\n",
    "<=44------>fail"
   ]
  },
  {
   "cell_type": "code",
   "execution_count": null,
   "metadata": {},
   "outputs": [
    {
     "name": "stdout",
     "output_type": "stream",
     "text": [
      "20\n",
      "20\n",
      "1.add 2.sub 3.mul\n"
     ]
    }
   ],
   "source": [
    "#task 2\n",
    "#arithmatic operators\n",
    "a=int(input())\n",
    "b=int(input())\n",
    "print(\"1.add 2.sub 3.mul\")\n",
    "choice=int(input(\"enter ur choice\"))"
   ]
  },
  {
   "cell_type": "code",
   "execution_count": null,
   "metadata": {},
   "outputs": [],
   "source": [
    "#task3\n",
    "uid=int(input())-----70\n",
    "if 50-100\n",
    "    pwd=\n",
    "    if pwd==9000\n",
    "    welcome\n",
    "    invalid password\n",
    "else invalid username"
   ]
  }
 ],
 "metadata": {
  "kernelspec": {
   "display_name": "Python 3",
   "language": "python",
   "name": "python3"
  },
  "language_info": {
   "codemirror_mode": {
    "name": "ipython",
    "version": 3
   },
   "file_extension": ".py",
   "mimetype": "text/x-python",
   "name": "python",
   "nbconvert_exporter": "python",
   "pygments_lexer": "ipython3",
   "version": "3.7.3"
  }
 },
 "nbformat": 4,
 "nbformat_minor": 2
}
