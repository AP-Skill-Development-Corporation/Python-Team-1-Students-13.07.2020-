{
 "cells": [
  {
   "cell_type": "code",
   "execution_count": 10,
   "metadata": {},
   "outputs": [
    {
     "name": "stdout",
     "output_type": "stream",
     "text": [
      "2\n",
      "*    *\n",
      "*    *\n",
      "******\n",
      "*    *\n",
      "*    *\n",
      "******\n",
      "*    *\n",
      "*    *\n"
     ]
    }
   ],
   "source": [
    "#task1\n",
    "n=int(input())\n",
    "for i in range(n):\n",
    "    print(\"*    *\")\n",
    "    print(\"*    *\")\n",
    "    print(\"******\")\n",
    "print(\"*    *\")\n",
    "print(\"*    *\")"
   ]
  },
  {
   "cell_type": "code",
   "execution_count": 11,
   "metadata": {},
   "outputs": [
    {
     "name": "stdout",
     "output_type": "stream",
     "text": [
      "2\n",
      "*    *\n",
      "*    *\n",
      "******\n",
      "*    *\n",
      "*    *\n",
      "******\n",
      "*    *\n",
      "*    *\n"
     ]
    }
   ],
   "source": [
    "n=int(input())\n",
    "for i in range(1,n+1):\n",
    "    print(\"*    *\")\n",
    "    print(\"*    *\")\n",
    "    print(\"******\")\n",
    "for i in range(1):\n",
    "    print(\"*    *\")\n",
    "    print(\"*    *\")"
   ]
  },
  {
   "cell_type": "code",
   "execution_count": 13,
   "metadata": {},
   "outputs": [
    {
     "name": "stdout",
     "output_type": "stream",
     "text": [
      "*    *\n",
      "*    *\n",
      "******\n",
      "*    *\n",
      "*    *\n",
      "******\n",
      "*    *    \n",
      "*    *    \n"
     ]
    }
   ],
   "source": [
    "for i in range(1,3):\n",
    "    print(\"*    *\")\n",
    "    print(\"*    *\")\n",
    "    print(\"******\")\n",
    "for i in range(2,4):\n",
    "    for j in range(0,2):\n",
    "        print(\"*\",end=\"    \")\n",
    "        \n",
    "    print('')"
   ]
  },
  {
   "cell_type": "code",
   "execution_count": 14,
   "metadata": {},
   "outputs": [
    {
     "name": "stdout",
     "output_type": "stream",
     "text": [
      "2\n",
      "*    *\n",
      "*    *\n",
      "******\n",
      "*    *\n",
      "*    *\n",
      "******\n",
      "*    *\n",
      "*    *\n"
     ]
    }
   ],
   "source": [
    "a=int(input(''))\n",
    "for i in range(0,a):\n",
    "    print('*    *\\n*    *\\n******')\n",
    "print('*    *\\n*    *')"
   ]
  },
  {
   "cell_type": "code",
   "execution_count": null,
   "metadata": {},
   "outputs": [],
   "source": []
  },
  {
   "cell_type": "code",
   "execution_count": 16,
   "metadata": {},
   "outputs": [
    {
     "name": "stdout",
     "output_type": "stream",
     "text": [
      "Enter a tablenumber:7\n",
      "Enter a multiples:50\n",
      "7 * 1 = 7\n",
      "7 * 2 = 14\n",
      "7 * 3 = 21\n",
      "7 * 4 = 28\n",
      "7 * 5 = 35\n",
      "7 * 6 = 42\n",
      "7 * 7 = 49\n",
      "7 * 8 = 56\n",
      "7 * 9 = 63\n",
      "7 * 10 = 70\n",
      "7 * 11 = 77\n",
      "7 * 12 = 84\n",
      "7 * 13 = 91\n",
      "7 * 14 = 98\n",
      "7 * 15 = 105\n",
      "7 * 16 = 112\n",
      "7 * 17 = 119\n",
      "7 * 18 = 126\n",
      "7 * 19 = 133\n",
      "7 * 20 = 140\n",
      "7 * 21 = 147\n",
      "7 * 22 = 154\n",
      "7 * 23 = 161\n",
      "7 * 24 = 168\n",
      "7 * 25 = 175\n",
      "7 * 26 = 182\n",
      "7 * 27 = 189\n",
      "7 * 28 = 196\n",
      "7 * 29 = 203\n",
      "7 * 30 = 210\n",
      "7 * 31 = 217\n",
      "7 * 32 = 224\n",
      "7 * 33 = 231\n",
      "7 * 34 = 238\n",
      "7 * 35 = 245\n",
      "7 * 36 = 252\n",
      "7 * 37 = 259\n",
      "7 * 38 = 266\n",
      "7 * 39 = 273\n",
      "7 * 40 = 280\n",
      "7 * 41 = 287\n",
      "7 * 42 = 294\n",
      "7 * 43 = 301\n",
      "7 * 44 = 308\n",
      "7 * 45 = 315\n",
      "7 * 46 = 322\n",
      "7 * 47 = 329\n",
      "7 * 48 = 336\n",
      "7 * 49 = 343\n",
      "7 * 50 = 350\n"
     ]
    }
   ],
   "source": [
    "#task 2\n",
    "n= int(input(\"Enter a tablenumber:\"))\n",
    "m= int(input(\"Enter a multiples:\"))\n",
    "for i in range(1,m+1):\n",
    "    print(n,\"*\",i,\"=\",i*n)"
   ]
  },
  {
   "cell_type": "code",
   "execution_count": 23,
   "metadata": {
    "scrolled": true
   },
   "outputs": [
    {
     "name": "stdout",
     "output_type": "stream",
     "text": [
      "Enter a tables:5\n",
      "Enter a multiples:10\n",
      "1 * 1 = 1\n",
      "1 * 2 = 2\n",
      "1 * 3 = 3\n",
      "1 * 4 = 4\n",
      "1 * 5 = 5\n",
      "1 * 6 = 6\n",
      "1 * 7 = 7\n",
      "1 * 8 = 8\n",
      "1 * 9 = 9\n",
      "1 * 10 = 10\n",
      "\n",
      "\n",
      "2 * 1 = 2\n",
      "2 * 2 = 4\n",
      "2 * 3 = 6\n",
      "2 * 4 = 8\n",
      "2 * 5 = 10\n",
      "2 * 6 = 12\n",
      "2 * 7 = 14\n",
      "2 * 8 = 16\n",
      "2 * 9 = 18\n",
      "2 * 10 = 20\n",
      "\n",
      "\n",
      "3 * 1 = 3\n",
      "3 * 2 = 6\n",
      "3 * 3 = 9\n",
      "3 * 4 = 12\n",
      "3 * 5 = 15\n",
      "3 * 6 = 18\n",
      "3 * 7 = 21\n",
      "3 * 8 = 24\n",
      "3 * 9 = 27\n",
      "3 * 10 = 30\n",
      "\n",
      "\n",
      "4 * 1 = 4\n",
      "4 * 2 = 8\n",
      "4 * 3 = 12\n",
      "4 * 4 = 16\n",
      "4 * 5 = 20\n",
      "4 * 6 = 24\n",
      "4 * 7 = 28\n",
      "4 * 8 = 32\n",
      "4 * 9 = 36\n",
      "4 * 10 = 40\n",
      "\n",
      "\n",
      "5 * 1 = 5\n",
      "5 * 2 = 10\n",
      "5 * 3 = 15\n",
      "5 * 4 = 20\n",
      "5 * 5 = 25\n",
      "5 * 6 = 30\n",
      "5 * 7 = 35\n",
      "5 * 8 = 40\n",
      "5 * 9 = 45\n",
      "5 * 10 = 50\n",
      "\n",
      "\n"
     ]
    }
   ],
   "source": [
    "#task 3\n",
    "n= int(input(\"Enter a tables:\"))\n",
    "m= int(input(\"Enter a multiples:\"))\n",
    "for i in range(1,n+1):\n",
    "    for s in range(1,m+1):\n",
    "        print(i,\"*\",s,\"=\",i*s)\n",
    "    print('\\n')"
   ]
  },
  {
   "cell_type": "code",
   "execution_count": 24,
   "metadata": {},
   "outputs": [
    {
     "name": "stdout",
     "output_type": "stream",
     "text": [
      "Enter a tables:5\n",
      "Enter a multiples:5\n",
      "1 * 1 = 1\t 2 * 1 = 2\t 3 * 1 = 3\t 4 * 1 = 4\t 5 * 1 = 5\t \n",
      "\n",
      "1 * 2 = 2\t 2 * 2 = 4\t 3 * 2 = 6\t 4 * 2 = 8\t 5 * 2 = 10\t \n",
      "\n",
      "1 * 3 = 3\t 2 * 3 = 6\t 3 * 3 = 9\t 4 * 3 = 12\t 5 * 3 = 15\t \n",
      "\n",
      "1 * 4 = 4\t 2 * 4 = 8\t 3 * 4 = 12\t 4 * 4 = 16\t 5 * 4 = 20\t \n",
      "\n",
      "1 * 5 = 5\t 2 * 5 = 10\t 3 * 5 = 15\t 4 * 5 = 20\t 5 * 5 = 25\t \n",
      "\n"
     ]
    }
   ],
   "source": [
    "n= int(input(\"Enter a tables:\"))\n",
    "m= int(input(\"Enter a multiples:\"))\n",
    "for i in range(1,n+1):\n",
    "    for s in range(1,m+1):\n",
    "        print(s,\"*\",i,\"=\",i*s,end=\"\\t \")\n",
    "    print('\\n')"
   ]
  },
  {
   "cell_type": "code",
   "execution_count": null,
   "metadata": {},
   "outputs": [],
   "source": []
  },
  {
   "cell_type": "code",
   "execution_count": null,
   "metadata": {},
   "outputs": [],
   "source": [
    "#Jump statements\n",
    "- break\n",
    "- continue\n",
    "- pass"
   ]
  },
  {
   "cell_type": "code",
   "execution_count": null,
   "metadata": {},
   "outputs": [],
   "source": [
    "#break statement:\n",
    "- terminates the current loop statement and resumes execution at the next statement "
   ]
  },
  {
   "cell_type": "code",
   "execution_count": 26,
   "metadata": {},
   "outputs": [
    {
     "name": "stdout",
     "output_type": "stream",
     "text": [
      "current letter: p\n",
      "current letter: y\n",
      "current letter: t\n",
      "current letter: h\n"
     ]
    }
   ],
   "source": [
    "for i in \"python\":\n",
    "    if i=='o':\n",
    "        break\n",
    "    print('current letter:',i)"
   ]
  },
  {
   "cell_type": "code",
   "execution_count": 27,
   "metadata": {},
   "outputs": [
    {
     "name": "stdout",
     "output_type": "stream",
     "text": [
      "current value: 10\n",
      "current value: 9\n",
      "current value: 8\n",
      "current value: 7\n",
      "current value: 6\n",
      "Good bye!\n"
     ]
    }
   ],
   "source": [
    "var=10\n",
    "while var>0:\n",
    "    print('current value:',var)\n",
    "    var-=1\n",
    "    if var==5:\n",
    "        break\n",
    "print(\"Good bye!\")"
   ]
  },
  {
   "cell_type": "code",
   "execution_count": null,
   "metadata": {},
   "outputs": [],
   "source": [
    "# continue\n",
    "- it causes the loop to skip the remainder of its body and immediatly  retest its condition."
   ]
  },
  {
   "cell_type": "code",
   "execution_count": 31,
   "metadata": {},
   "outputs": [
    {
     "name": "stdout",
     "output_type": "stream",
     "text": [
      "current letter: p\n",
      "current letter: y\n",
      "current letter: t\n",
      "current letter: o\n",
      "current letter: n\n"
     ]
    }
   ],
   "source": [
    "for i in \"python\":\n",
    "    if i=='h':\n",
    "        continue\n",
    "    print('current letter:',i)"
   ]
  },
  {
   "cell_type": "code",
   "execution_count": 3,
   "metadata": {},
   "outputs": [
    {
     "name": "stdout",
     "output_type": "stream",
     "text": [
      "current value: 10\n",
      "current value: 9\n",
      "current value: 8\n",
      "current value: 7\n",
      "current value: 6\n",
      "current value: 4\n",
      "current value: 3\n",
      "current value: 2\n",
      "current value: 1\n",
      "current value: 0\n",
      "Good bye!\n"
     ]
    }
   ],
   "source": [
    "var=11\n",
    "while var>0:\n",
    "    var-=1\n",
    "    if var==5:\n",
    "        continue\n",
    "    print('current value:',var)\n",
    "print(\"Good bye!\")"
   ]
  },
  {
   "cell_type": "code",
   "execution_count": null,
   "metadata": {},
   "outputs": [],
   "source": []
  },
  {
   "cell_type": "code",
   "execution_count": null,
   "metadata": {},
   "outputs": [],
   "source": [
    "#pass \n",
    "- nothing happens when it executes."
   ]
  },
  {
   "cell_type": "code",
   "execution_count": 5,
   "metadata": {},
   "outputs": [
    {
     "name": "stdout",
     "output_type": "stream",
     "text": [
      "current letter: p\n",
      "current letter: y\n",
      "current letter: t\n",
      "this is pass block\n",
      "current letter: h\n",
      "current letter: o\n",
      "current letter: n\n"
     ]
    }
   ],
   "source": [
    "for i in \"python\":\n",
    "    if i=='h':\n",
    "        pass\n",
    "        print(\"this is pass block\")\n",
    "    print('current letter:',i)"
   ]
  },
  {
   "cell_type": "code",
   "execution_count": 6,
   "metadata": {},
   "outputs": [
    {
     "name": "stdout",
     "output_type": "stream",
     "text": [
      "current value: 10\n",
      "current value: 9\n",
      "current value: 8\n",
      "current value: 7\n",
      "current value: 6\n",
      "current value: 5\n",
      "current value: 4\n",
      "current value: 3\n",
      "current value: 2\n",
      "current value: 1\n",
      "current value: 0\n",
      "Good bye!\n"
     ]
    }
   ],
   "source": [
    "var=11\n",
    "while var>0:\n",
    "    var-=1\n",
    "    if var==5:\n",
    "        pass\n",
    "    print('current value:',var)\n",
    "print(\"Good bye!\")"
   ]
  },
  {
   "cell_type": "code",
   "execution_count": 7,
   "metadata": {},
   "outputs": [
    {
     "name": "stdout",
     "output_type": "stream",
     "text": [
      "current value: 10\n",
      "current value: 9\n",
      "current value: 8\n",
      "current value: 7\n",
      "current value: 6\n",
      "pass block\n",
      "current value: 5\n",
      "current value: 4\n",
      "current value: 3\n",
      "current value: 2\n",
      "current value: 1\n",
      "current value: 0\n",
      "Good bye!\n"
     ]
    }
   ],
   "source": [
    "var=11\n",
    "while var>0:\n",
    "    var-=1\n",
    "    if var==5:\n",
    "        pass\n",
    "        print('pass block')\n",
    "    print('current value:',var)\n",
    "print(\"Good bye!\")"
   ]
  },
  {
   "cell_type": "code",
   "execution_count": null,
   "metadata": {},
   "outputs": [],
   "source": []
  },
  {
   "cell_type": "markdown",
   "metadata": {},
   "source": [
    "# python functions:"
   ]
  },
  {
   "cell_type": "code",
   "execution_count": null,
   "metadata": {},
   "outputs": [],
   "source": [
    "- group of statements to perform specific task.\n",
    "- function is a block of code which only runs when it is called.\n",
    "- it avoids repetition and make the code reusable.\n",
    "- defined using  the def keyword\n",
    "- an optional return statement to return a value from the function"
   ]
  },
  {
   "cell_type": "code",
   "execution_count": null,
   "metadata": {},
   "outputs": [],
   "source": [
    "#syn\n",
    "def functionname(parameters):  #function definition\n",
    "    statements\n",
    "functionname(argumemnts)       #function call"
   ]
  },
  {
   "cell_type": "code",
   "execution_count": null,
   "metadata": {},
   "outputs": [],
   "source": [
    "#print and return diff\n",
    "- return statement end the execution of a function if return is not given by default it returns None.\n",
    "- print statement shows the human user a string representing what is going on inside the computer.\n",
    "- the return statement used to exit a function and go back to the place where it was called."
   ]
  },
  {
   "cell_type": "code",
   "execution_count": 19,
   "metadata": {},
   "outputs": [
    {
     "name": "stdout",
     "output_type": "stream",
     "text": [
      "prints the function\n",
      "None\n"
     ]
    }
   ],
   "source": [
    "#using print\n",
    "def Print():\n",
    "    print(\"prints the function\")\n",
    "y=Print()\n",
    "print(y)\n"
   ]
  },
  {
   "cell_type": "code",
   "execution_count": 14,
   "metadata": {},
   "outputs": [
    {
     "name": "stdout",
     "output_type": "stream",
     "text": [
      "prints the function\n"
     ]
    }
   ],
   "source": [
    "#using return\n",
    "def Return():\n",
    "    return \"prints the function\"\n",
    "y=Return()\n",
    "print(y)"
   ]
  },
  {
   "cell_type": "code",
   "execution_count": 17,
   "metadata": {},
   "outputs": [
    {
     "name": "stdout",
     "output_type": "stream",
     "text": [
      "17\n",
      "None\n"
     ]
    }
   ],
   "source": [
    "def add():\n",
    "    a=10\n",
    "    b=7\n",
    "    c=a+b\n",
    "    print(c)\n",
    "addition=add()\n",
    "print(addition)"
   ]
  },
  {
   "cell_type": "code",
   "execution_count": 18,
   "metadata": {},
   "outputs": [
    {
     "name": "stdout",
     "output_type": "stream",
     "text": [
      "17\n"
     ]
    }
   ],
   "source": [
    "def add():\n",
    "    a=10\n",
    "    b=7\n",
    "    c=a+b\n",
    "    return c\n",
    "addition=add()\n",
    "print(addition)"
   ]
  },
  {
   "cell_type": "code",
   "execution_count": 22,
   "metadata": {},
   "outputs": [
    {
     "data": {
      "text/plain": [
       "30"
      ]
     },
     "execution_count": 22,
     "metadata": {},
     "output_type": "execute_result"
    }
   ],
   "source": [
    "def add():\n",
    "    a=10\n",
    "    b=20\n",
    "    c=a+b\n",
    "    return c\n",
    "add()"
   ]
  },
  {
   "cell_type": "code",
   "execution_count": 23,
   "metadata": {},
   "outputs": [
    {
     "name": "stdout",
     "output_type": "stream",
     "text": [
      "enter a:20\n",
      "enter b:70\n"
     ]
    },
    {
     "data": {
      "text/plain": [
       "90"
      ]
     },
     "execution_count": 23,
     "metadata": {},
     "output_type": "execute_result"
    }
   ],
   "source": [
    "def add():\n",
    "    a=int(input(\"enter a:\"))\n",
    "    b=int(input(\"enter b:\"))\n",
    "    return a+b\n",
    "add()"
   ]
  },
  {
   "cell_type": "code",
   "execution_count": 24,
   "metadata": {},
   "outputs": [
    {
     "name": "stdout",
     "output_type": "stream",
     "text": [
      "enter a:40\n",
      "enter b:70\n"
     ]
    },
    {
     "data": {
      "text/plain": [
       "110"
      ]
     },
     "execution_count": 24,
     "metadata": {},
     "output_type": "execute_result"
    }
   ],
   "source": [
    "a=int(input(\"enter a:\"))\n",
    "b=int(input(\"enter b:\"))\n",
    "def add():\n",
    "    return a+b\n",
    "add()"
   ]
  },
  {
   "cell_type": "code",
   "execution_count": null,
   "metadata": {},
   "outputs": [],
   "source": [
    "#argumemnts:\n",
    "-1)required arguments\n",
    "-2)keyword arguments\n",
    "-3)default arguments\n",
    "-4)variable length arguments"
   ]
  },
  {
   "cell_type": "code",
   "execution_count": 26,
   "metadata": {},
   "outputs": [],
   "source": [
    "# required arguments:\n",
    "- arguments passed  to function in correct positional order.\n",
    "- number of arguments in function call should match exactly with function definiton."
   ]
  },
  {
   "cell_type": "code",
   "execution_count": 37,
   "metadata": {},
   "outputs": [
    {
     "data": {
      "text/plain": [
       "'pavani'"
      ]
     },
     "execution_count": 37,
     "metadata": {},
     "output_type": "execute_result"
    }
   ],
   "source": [
    "def hii(name):\n",
    "    return(name)\n",
    "hii('pavani')"
   ]
  },
  {
   "cell_type": "code",
   "execution_count": null,
   "metadata": {},
   "outputs": [],
   "source": [
    "#keyword arguments\n",
    "-identifies the arguemnts by parameter name"
   ]
  },
  {
   "cell_type": "code",
   "execution_count": 35,
   "metadata": {},
   "outputs": [
    {
     "name": "stdout",
     "output_type": "stream",
     "text": [
      "name is pavani\n",
      "branch is Cse\n"
     ]
    }
   ],
   "source": [
    "def details(name,branch):\n",
    "    print(\"name is\",name)\n",
    "    print(\"branch is\",branch)\n",
    "details(branch='Cse',name='pavani')"
   ]
  },
  {
   "cell_type": "code",
   "execution_count": 38,
   "metadata": {},
   "outputs": [
    {
     "name": "stdout",
     "output_type": "stream",
     "text": [
      "name is Ambika\n",
      "branch is Ece\n"
     ]
    }
   ],
   "source": [
    "details(branch='Ece',name='Ambika')"
   ]
  },
  {
   "cell_type": "code",
   "execution_count": null,
   "metadata": {},
   "outputs": [],
   "source": [
    "# default arguments:\n",
    "-assumes default value if value is not specified in function call."
   ]
  },
  {
   "cell_type": "code",
   "execution_count": 41,
   "metadata": {},
   "outputs": [
    {
     "name": "stdout",
     "output_type": "stream",
     "text": [
      "121 2017\n",
      "200 2019\n"
     ]
    }
   ],
   "source": [
    "def studetails(number,year=2017):\n",
    "    print(number,year)\n",
    "studetails(121)\n",
    "studetails(200,2019)"
   ]
  },
  {
   "cell_type": "code",
   "execution_count": null,
   "metadata": {},
   "outputs": [],
   "source": [
    "# variable length arguments\n",
    "- process a function for more arguments than you specified while defining the function"
   ]
  },
  {
   "cell_type": "code",
   "execution_count": 64,
   "metadata": {},
   "outputs": [
    {
     "data": {
      "text/plain": [
       "23"
      ]
     },
     "execution_count": 64,
     "metadata": {},
     "output_type": "execute_result"
    }
   ],
   "source": [
    "def vfun(n,*args):\n",
    "    return n\n",
    "    for i in args:\n",
    "        return i\n",
    "vfun(23,'python')"
   ]
  },
  {
   "cell_type": "code",
   "execution_count": null,
   "metadata": {},
   "outputs": [],
   "source": []
  },
  {
   "cell_type": "code",
   "execution_count": 57,
   "metadata": {},
   "outputs": [
    {
     "name": "stdout",
     "output_type": "stream",
     "text": [
      "23\n",
      "python\n",
      "45\n",
      "1\n",
      "welcome\n",
      "to\n",
      "python\n"
     ]
    },
    {
     "ename": "TypeError",
     "evalue": "vfun() missing 1 required positional argument: 'n'",
     "output_type": "error",
     "traceback": [
      "\u001b[1;31m---------------------------------------------------------------------------\u001b[0m",
      "\u001b[1;31mTypeError\u001b[0m                                 Traceback (most recent call last)",
      "\u001b[1;32m<ipython-input-57-6fb891897e47>\u001b[0m in \u001b[0;36m<module>\u001b[1;34m\u001b[0m\n\u001b[0;32m      6\u001b[0m \u001b[0mvfun\u001b[0m\u001b[1;33m(\u001b[0m\u001b[1;36m45\u001b[0m\u001b[1;33m)\u001b[0m\u001b[1;33m\u001b[0m\u001b[1;33m\u001b[0m\u001b[0m\n\u001b[0;32m      7\u001b[0m \u001b[0mvfun\u001b[0m\u001b[1;33m(\u001b[0m\u001b[1;36m1\u001b[0m\u001b[1;33m,\u001b[0m\u001b[1;34m'welcome'\u001b[0m\u001b[1;33m,\u001b[0m\u001b[1;34m'to'\u001b[0m\u001b[1;33m,\u001b[0m\u001b[1;34m'python'\u001b[0m\u001b[1;33m)\u001b[0m\u001b[1;33m\u001b[0m\u001b[1;33m\u001b[0m\u001b[0m\n\u001b[1;32m----> 8\u001b[1;33m \u001b[0mvfun\u001b[0m\u001b[1;33m(\u001b[0m\u001b[1;33m)\u001b[0m\u001b[1;33m\u001b[0m\u001b[1;33m\u001b[0m\u001b[0m\n\u001b[0m",
      "\u001b[1;31mTypeError\u001b[0m: vfun() missing 1 required positional argument: 'n'"
     ]
    }
   ],
   "source": [
    "def vfun(n,*args):\n",
    "    print(n)\n",
    "    for i in args:\n",
    "        print(i)\n",
    "vfun(23,'python')\n",
    "vfun(45)\n",
    "vfun(1,'welcome','to','python')\n",
    "vfun()"
   ]
  },
  {
   "cell_type": "code",
   "execution_count": null,
   "metadata": {},
   "outputs": [],
   "source": [
    "*args---->0,1,multiple\n",
    "for i in args:\n",
    "    print(i)"
   ]
  },
  {
   "cell_type": "code",
   "execution_count": 54,
   "metadata": {},
   "outputs": [
    {
     "name": "stdout",
     "output_type": "stream",
     "text": [
      "32\n"
     ]
    }
   ],
   "source": [
    "print(0X20)"
   ]
  },
  {
   "cell_type": "code",
   "execution_count": 56,
   "metadata": {},
   "outputs": [
    {
     "data": {
      "text/plain": [
       "'0x20'"
      ]
     },
     "execution_count": 56,
     "metadata": {},
     "output_type": "execute_result"
    }
   ],
   "source": [
    "hex(32)"
   ]
  },
  {
   "cell_type": "code",
   "execution_count": null,
   "metadata": {},
   "outputs": [],
   "source": [
    "0x-hex\n",
    "0b-binary"
   ]
  }
 ],
 "metadata": {
  "kernelspec": {
   "display_name": "Python 3",
   "language": "python",
   "name": "python3"
  },
  "language_info": {
   "codemirror_mode": {
    "name": "ipython",
    "version": 3
   },
   "file_extension": ".py",
   "mimetype": "text/x-python",
   "name": "python",
   "nbconvert_exporter": "python",
   "pygments_lexer": "ipython3",
   "version": "3.7.3"
  }
 },
 "nbformat": 4,
 "nbformat_minor": 2
}
