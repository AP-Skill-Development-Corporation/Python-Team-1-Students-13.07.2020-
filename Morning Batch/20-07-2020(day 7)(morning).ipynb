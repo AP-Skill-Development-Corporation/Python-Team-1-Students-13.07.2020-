{
 "cells": [
  {
   "cell_type": "code",
   "execution_count": 1,
   "metadata": {},
   "outputs": [
    {
     "name": "stdout",
     "output_type": "stream",
     "text": [
      "2000 2004 "
     ]
    }
   ],
   "source": [
    "#task 1\n",
    "#function to generate all leap years in a given timeoeriod\n",
    "def leapyear(year):\n",
    " if year % 400 == 0 or (year % 100!=0 and year % 4==0):\n",
    "    \n",
    "      return True\n",
    "    \n",
    "      return False\n",
    "def generateleapyears(lb, ub):\n",
    "    for year in range(lb, ub+1 ):\n",
    "             if leapyear(year):\n",
    "                print(year, end=\" \")\n",
    "    return  \n",
    "generateleapyears(2000,2005)"
   ]
  },
  {
   "cell_type": "code",
   "execution_count": 7,
   "metadata": {},
   "outputs": [
    {
     "data": {
      "text/plain": [
       "2192"
      ]
     },
     "execution_count": 7,
     "metadata": {},
     "output_type": "execute_result"
    }
   ],
   "source": [
    "366+365+365+365+366+365"
   ]
  },
  {
   "cell_type": "code",
   "execution_count": 2,
   "metadata": {},
   "outputs": [
    {
     "data": {
      "text/plain": [
       "2192"
      ]
     },
     "execution_count": 2,
     "metadata": {},
     "output_type": "execute_result"
    }
   ],
   "source": [
    "#calculate number of days in a given timeperiod\n",
    "def  numberofdays(lb,ub):\n",
    "    sum =0 \n",
    "    for year in range(lb,ub+1):\n",
    "            if leapyear(year):\n",
    "                sum = sum + 366\n",
    "            else:\n",
    "                sum = sum + 365\n",
    "    return sum\n",
    "numberofdays(2000,2005) "
   ]
  },
  {
   "cell_type": "code",
   "execution_count": 8,
   "metadata": {},
   "outputs": [
    {
     "name": "stdout",
     "output_type": "stream",
     "text": [
      "6\n",
      "720\n"
     ]
    }
   ],
   "source": [
    "#task 2--->1*2*3*4*5*6=720\n",
    "def factorial(n):\n",
    "    fact=1\n",
    "    for i in range(1,n+1):\n",
    "        fact=fact*i #fact*=i\n",
    "    print (fact)\n",
    "n=int(input())\n",
    "factorial(n)"
   ]
  },
  {
   "cell_type": "code",
   "execution_count": 5,
   "metadata": {},
   "outputs": [
    {
     "data": {
      "text/plain": [
       "True"
      ]
     },
     "execution_count": 5,
     "metadata": {},
     "output_type": "execute_result"
    }
   ],
   "source": [
    "#task 3\n",
    "# prime check\n",
    "def isprime(n):\n",
    "    count = 0\n",
    "    for i in range(1,n+1):\n",
    "        if n % i == 0:\n",
    "            count += 1\n",
    "    if count == 2:\n",
    "        return True\n",
    "    else:\n",
    "        return False\n",
    "isprime(7)"
   ]
  },
  {
   "cell_type": "code",
   "execution_count": 9,
   "metadata": {},
   "outputs": [
    {
     "name": "stdout",
     "output_type": "stream",
     "text": [
      "Enter start range: 1\n",
      "Enter End range: 10\n",
      "2 3 5 7 "
     ]
    }
   ],
   "source": [
    "# prime numbers in range\n",
    "def primerange(lb,ub):\n",
    "    for n in range(lb,ub+1):\n",
    "        if isprime(n):\n",
    "            print(n,end = \" \")\n",
    "    return\n",
    "lb = int(input(\"Enter start range: \"))\n",
    "ub = int(input(\"Enter End range: \"))\n",
    "primerange(lb,ub)"
   ]
  },
  {
   "cell_type": "code",
   "execution_count": null,
   "metadata": {},
   "outputs": [],
   "source": []
  },
  {
   "cell_type": "code",
   "execution_count": 21,
   "metadata": {},
   "outputs": [
    {
     "name": "stdout",
     "output_type": "stream",
     "text": [
      "pythonworkshop\n",
      "pythonpythonpython\n"
     ]
    }
   ],
   "source": [
    "s1=\"python\"\n",
    "s2=\"workshop\"\n",
    "print(s1+s2) #conctnation\n",
    "print(s1*3) #repetation"
   ]
  },
  {
   "cell_type": "code",
   "execution_count": 22,
   "metadata": {},
   "outputs": [
    {
     "name": "stdout",
     "output_type": "stream",
     "text": [
      "['__add__', '__class__', '__contains__', '__delattr__', '__dir__', '__doc__', '__eq__', '__format__', '__ge__', '__getattribute__', '__getitem__', '__getnewargs__', '__gt__', '__hash__', '__init__', '__init_subclass__', '__iter__', '__le__', '__len__', '__lt__', '__mod__', '__mul__', '__ne__', '__new__', '__reduce__', '__reduce_ex__', '__repr__', '__rmod__', '__rmul__', '__setattr__', '__sizeof__', '__str__', '__subclasshook__', 'capitalize', 'casefold', 'center', 'count', 'encode', 'endswith', 'expandtabs', 'find', 'format', 'format_map', 'index', 'isalnum', 'isalpha', 'isascii', 'isdecimal', 'isdigit', 'isidentifier', 'islower', 'isnumeric', 'isprintable', 'isspace', 'istitle', 'isupper', 'join', 'ljust', 'lower', 'lstrip', 'maketrans', 'partition', 'replace', 'rfind', 'rindex', 'rjust', 'rpartition', 'rsplit', 'rstrip', 'split', 'splitlines', 'startswith', 'strip', 'swapcase', 'title', 'translate', 'upper', 'zfill'] "
     ]
    }
   ],
   "source": [
    "print(dir(str),end=\" \")"
   ]
  },
  {
   "cell_type": "code",
   "execution_count": 26,
   "metadata": {},
   "outputs": [
    {
     "name": "stdout",
     "output_type": "stream",
     "text": [
      "Python workshop\n",
      "Python Workshop\n",
      "python workshop\n"
     ]
    }
   ],
   "source": [
    "s=\"python workshop\"\n",
    "print(s.capitalize()) # first letter\n",
    "print(s.title())      # multiple words first letter"
   ]
  },
  {
   "cell_type": "code",
   "execution_count": 37,
   "metadata": {},
   "outputs": [
    {
     "name": "stdout",
     "output_type": "stream",
     "text": [
      "python\n",
      "python\n",
      "PYTHON\n",
      "False\n",
      "True\n"
     ]
    }
   ],
   "source": [
    "s1=\"PyThOn\"\n",
    "print(s1.casefold()) # smaller case\n",
    "print(s1.lower())    #smaller case\n",
    "print(s1.upper())    #upper case\n",
    "print(s1.startswith('p'))\n",
    "print(s1.endswith('n'))"
   ]
  },
  {
   "cell_type": "code",
   "execution_count": 51,
   "metadata": {},
   "outputs": [
    {
     "name": "stdout",
     "output_type": "stream",
     "text": [
      "2\n",
      "0\n",
      "6\n",
      "True\n",
      "False\n",
      "False\n"
     ]
    }
   ],
   "source": [
    "s2=\"pythonprogramming\"\n",
    "print(s2.count('m'))\n",
    "print(s2.index('p'))\n",
    "print(s2.rindex('p'))\n",
    "print(s2.isalpha())  #only alphabets\n",
    "print(s2.isdigit())  #only digits\n",
    "print(s2.isdecimal())  #only decimal values"
   ]
  },
  {
   "cell_type": "code",
   "execution_count": 53,
   "metadata": {},
   "outputs": [
    {
     "name": "stdout",
     "output_type": "stream",
     "text": [
      "True\n"
     ]
    }
   ],
   "source": [
    "a=\"\\u0030\" #unicode for o\n",
    "print(a.isdecimal())"
   ]
  },
  {
   "cell_type": "code",
   "execution_count": 60,
   "metadata": {},
   "outputs": [
    {
     "name": "stdout",
     "output_type": "stream",
     "text": [
      "True\n"
     ]
    }
   ],
   "source": [
    "a=\"python1223\" #either numbers or alphabets\n",
    "print(a.isalnum())"
   ]
  },
  {
   "cell_type": "code",
   "execution_count": 61,
   "metadata": {},
   "outputs": [
    {
     "name": "stdout",
     "output_type": "stream",
     "text": [
      "True\n"
     ]
    }
   ],
   "source": [
    "a=\"_python\"\n",
    "print(a.isidentifier())"
   ]
  },
  {
   "cell_type": "code",
   "execution_count": null,
   "metadata": {},
   "outputs": [],
   "source": [
    "isascii', 'islower', 'isnumeric', 'isprintable', 'isspace', 'istitle', 'isupper'"
   ]
  },
  {
   "cell_type": "code",
   "execution_count": 80,
   "metadata": {},
   "outputs": [
    {
     "name": "stdout",
     "output_type": "stream",
     "text": [
      "False\n",
      "True\n"
     ]
    }
   ],
   "source": [
    "a='ö'\n",
    "print(a.isascii())\n",
    "a1=\"s\"\n",
    "print(a1.isascii())"
   ]
  },
  {
   "cell_type": "code",
   "execution_count": 67,
   "metadata": {},
   "outputs": [
    {
     "name": "stdout",
     "output_type": "stream",
     "text": [
      "False\n",
      "True\n"
     ]
    }
   ],
   "source": [
    "a=\"pythoN\"\n",
    "print(a.islower())\n",
    "a1=\"PYTHON\"\n",
    "print(a1.isupper())"
   ]
  },
  {
   "cell_type": "code",
   "execution_count": 81,
   "metadata": {},
   "outputs": [
    {
     "name": "stdout",
     "output_type": "stream",
     "text": [
      "True\n"
     ]
    }
   ],
   "source": [
    "a=\"hello!#1?\"\n",
    "print(a.isprintable())"
   ]
  },
  {
   "cell_type": "code",
   "execution_count": 83,
   "metadata": {},
   "outputs": [
    {
     "name": "stdout",
     "output_type": "stream",
     "text": [
      "True\n",
      "False\n"
     ]
    }
   ],
   "source": [
    "a=\"576577678\"\n",
    "print(a.isnumeric())\n",
    "a1=\"jhgdjhg\"\n",
    "print(a1.isnumeric())"
   ]
  },
  {
   "cell_type": "code",
   "execution_count": 86,
   "metadata": {},
   "outputs": [
    {
     "name": "stdout",
     "output_type": "stream",
     "text": [
      "True\n",
      "False\n"
     ]
    }
   ],
   "source": [
    "a=\" \"\n",
    "print(a.isspace())\n",
    "a1=\"fhcgagj\"\n",
    "print(a1.isspace())"
   ]
  },
  {
   "cell_type": "code",
   "execution_count": 89,
   "metadata": {},
   "outputs": [
    {
     "name": "stdout",
     "output_type": "stream",
     "text": [
      "True\n"
     ]
    }
   ],
   "source": [
    "a=\"Python Workshop\"\n",
    "print(a.istitle())"
   ]
  },
  {
   "cell_type": "code",
   "execution_count": 92,
   "metadata": {},
   "outputs": [
    {
     "name": "stdout",
     "output_type": "stream",
     "text": [
      "4\n",
      "13\n"
     ]
    }
   ],
   "source": [
    "print(a.find('o'))    #index value\n",
    "print(a.rfind('o'))   #right side index value"
   ]
  },
  {
   "cell_type": "code",
   "execution_count": 96,
   "metadata": {},
   "outputs": [
    {
     "name": "stdout",
     "output_type": "stream",
     "text": [
      "python\n",
      "python\n",
      "python\n"
     ]
    }
   ],
   "source": [
    "s=\"       python\"\n",
    "print(s.lstrip()) #leftside spaces\n",
    "s1=\"python      \"\n",
    "print(s1.rstrip()) #rightside spaces\n",
    "s2=\"      python     \"  \n",
    "print(s2.strip())  #both side spaces"
   ]
  },
  {
   "cell_type": "code",
   "execution_count": 97,
   "metadata": {},
   "outputs": [
    {
     "name": "stdout",
     "output_type": "stream",
     "text": [
      "pYtHoN\n"
     ]
    }
   ],
   "source": [
    "s=\"PyThOn\"\n",
    "print(s.swapcase())"
   ]
  },
  {
   "cell_type": "code",
   "execution_count": 104,
   "metadata": {},
   "outputs": [
    {
     "name": "stdout",
     "output_type": "stream",
     "text": [
      "['python', 'workshop']\n",
      "['python', 'workshop']\n",
      "['p', 'y', 't', 'h', 'o', 'n']\n",
      "['pyth', 'n w', 'rksh', 'p']\n"
     ]
    }
   ],
   "source": [
    "s=\"python workshop\"\n",
    "print(s.split())   #default space based\n",
    "s1=\"python@workshop\"\n",
    "print(s1.split('@'))\n",
    "s2=\"p y t h o n\"\n",
    "print(s2.split())\n",
    "print(s.split('o'))"
   ]
  },
  {
   "cell_type": "code",
   "execution_count": 107,
   "metadata": {},
   "outputs": [
    {
     "name": "stdout",
     "output_type": "stream",
     "text": [
      "python\n",
      "p@y@t@h@o@n\n",
      "p y t h o n\n"
     ]
    }
   ],
   "source": [
    "s='p', 'y', 't', 'h', 'o', 'n'\n",
    "print(\"\".join(s))\n",
    "print(\"@\".join(s))\n",
    "print(\" \".join(s))"
   ]
  },
  {
   "cell_type": "code",
   "execution_count": 109,
   "metadata": {},
   "outputs": [
    {
     "name": "stdout",
     "output_type": "stream",
     "text": [
      "my name is pavani\n"
     ]
    }
   ],
   "source": [
    "s=\"my name is {a}\".format(a=\"pavani\")\n",
    "print(s)"
   ]
  },
  {
   "cell_type": "code",
   "execution_count": 120,
   "metadata": {},
   "outputs": [
    {
     "name": "stdout",
     "output_type": "stream",
     "text": [
      "pyth2n\n",
      "000000000python\n",
      "python\n"
     ]
    }
   ],
   "source": [
    "s=\"python\"\n",
    "print(s.replace('o','2'))\n",
    "print(s.zfill(15))\n",
    "print(s.zfill(4))"
   ]
  },
  {
   "cell_type": "code",
   "execution_count": 122,
   "metadata": {},
   "outputs": [
    {
     "name": "stdout",
     "output_type": "stream",
     "text": [
      "['python', 'workshop', 'pavani']\n",
      "['python workshop', 'pavani']\n"
     ]
    }
   ],
   "source": [
    "s=\"python workshop\\npavani\"\n",
    "print(s.split())     #space\n",
    "print(s.splitlines()) #line"
   ]
  },
  {
   "cell_type": "code",
   "execution_count": 125,
   "metadata": {},
   "outputs": [
    {
     "name": "stdout",
     "output_type": "stream",
     "text": [
      "('pyt', 'h', 'on workshop')\n",
      "('python works', 'h', 'op')\n"
     ]
    }
   ],
   "source": [
    "s=\"python workshop\"\n",
    "print(s.partition('h'))\n",
    "print(s.rpartition('h'))"
   ]
  },
  {
   "cell_type": "code",
   "execution_count": 129,
   "metadata": {},
   "outputs": [
    {
     "name": "stdout",
     "output_type": "stream",
     "text": [
      "       python       \n"
     ]
    }
   ],
   "source": [
    "s=\"python\"\n",
    "print(s.center(20))"
   ]
  },
  {
   "cell_type": "code",
   "execution_count": 130,
   "metadata": {},
   "outputs": [
    {
     "name": "stdout",
     "output_type": "stream",
     "text": [
      "b'my name is p\\xc3\\xa4v\\xc3\\xa4ni'\n"
     ]
    }
   ],
   "source": [
    "a=\"my name is päväni\"\n",
    "print(a.encode())"
   ]
  },
  {
   "cell_type": "code",
   "execution_count": 132,
   "metadata": {
    "scrolled": true
   },
   "outputs": [
    {
     "name": "stdout",
     "output_type": "stream",
     "text": [
      "{97: 100, 98: 101, 99: 102}\n"
     ]
    },
    {
     "ename": "ValueError",
     "evalue": "the first two maketrans arguments must have equal length",
     "output_type": "error",
     "traceback": [
      "\u001b[1;31m---------------------------------------------------------------------------\u001b[0m",
      "\u001b[1;31mValueError\u001b[0m                                Traceback (most recent call last)",
      "\u001b[1;32m<ipython-input-132-19cfdba7a39a>\u001b[0m in \u001b[0;36m<module>\u001b[1;34m\u001b[0m\n\u001b[0;32m      3\u001b[0m \u001b[0ms2\u001b[0m\u001b[1;33m=\u001b[0m\u001b[1;34m\"jjsfgjh\"\u001b[0m\u001b[1;33m\u001b[0m\u001b[1;33m\u001b[0m\u001b[0m\n\u001b[0;32m      4\u001b[0m \u001b[0mprint\u001b[0m\u001b[1;33m(\u001b[0m\u001b[0ms\u001b[0m\u001b[1;33m.\u001b[0m\u001b[0mmaketrans\u001b[0m\u001b[1;33m(\u001b[0m\u001b[0ms\u001b[0m\u001b[1;33m,\u001b[0m\u001b[0ms1\u001b[0m\u001b[1;33m)\u001b[0m\u001b[1;33m)\u001b[0m\u001b[1;33m\u001b[0m\u001b[1;33m\u001b[0m\u001b[0m\n\u001b[1;32m----> 5\u001b[1;33m \u001b[0mprint\u001b[0m\u001b[1;33m(\u001b[0m\u001b[0ms\u001b[0m\u001b[1;33m.\u001b[0m\u001b[0mmaketrans\u001b[0m\u001b[1;33m(\u001b[0m\u001b[0ms\u001b[0m\u001b[1;33m,\u001b[0m\u001b[0ms2\u001b[0m\u001b[1;33m)\u001b[0m\u001b[1;33m)\u001b[0m\u001b[1;33m\u001b[0m\u001b[1;33m\u001b[0m\u001b[0m\n\u001b[0m",
      "\u001b[1;31mValueError\u001b[0m: the first two maketrans arguments must have equal length"
     ]
    }
   ],
   "source": [
    "s=\"abc\"\n",
    "s1=\"def\"\n",
    "s2=\"jjsfgjh\"\n",
    "print(s.maketrans(s,s1))\n",
    "print(s.maketrans(s,s2))"
   ]
  },
  {
   "cell_type": "code",
   "execution_count": 135,
   "metadata": {},
   "outputs": [
    {
     "data": {
      "text/plain": [
       "'p       y       t       h       o       n       '"
      ]
     },
     "execution_count": 135,
     "metadata": {},
     "output_type": "execute_result"
    }
   ],
   "source": [
    "x=\"p\\ty\\tt\\th\\to\\tn\\t\"\n",
    "x.expandtabs()"
   ]
  },
  {
   "cell_type": "code",
   "execution_count": null,
   "metadata": {},
   "outputs": [],
   "source": [
    "#task1\n",
    "i/p: \"A P S S D C\"\n",
    "O/P: \"Apssdc\""
   ]
  },
  {
   "cell_type": "code",
   "execution_count": null,
   "metadata": {},
   "outputs": [],
   "source": [
    "#task 2\n",
    "i/p:\"workshop python\"\n",
    "o/p: \"W. Python\"\n",
    "    \n",
    "i/p:\"seelam vasavi\"\n",
    "o/p:\"S. Vasavi\""
   ]
  },
  {
   "cell_type": "code",
   "execution_count": null,
   "metadata": {},
   "outputs": [],
   "source": [
    "#task 3\n",
    "s=\"abcsd1234@\"\n",
    "no of alphabets=5--->ialpha()\n",
    "no of digits =4----->isdigit()\n",
    "no of specialcharcters=1---->else"
   ]
  },
  {
   "cell_type": "code",
   "execution_count": 139,
   "metadata": {},
   "outputs": [
    {
     "name": "stdout",
     "output_type": "stream",
     "text": [
      "112\n",
      "121\n",
      "116\n",
      "104\n",
      "111\n",
      "110\n"
     ]
    }
   ],
   "source": [
    "#task4\n",
    "#even ascii values\n",
    "#python\n",
    "print(ord('p'))--->p\n",
    "print(ord('y'))\n",
    "print(ord('t'))--->t\n",
    "print(ord('h'))--->h\n",
    "print(ord('o'))\n",
    "print(ord('n'))--->n\n",
    "\n",
    "o/p: pthn"
   ]
  },
  {
   "cell_type": "code",
   "execution_count": null,
   "metadata": {},
   "outputs": [],
   "source": []
  }
 ],
 "metadata": {
  "kernelspec": {
   "display_name": "Python 3",
   "language": "python",
   "name": "python3"
  },
  "language_info": {
   "codemirror_mode": {
    "name": "ipython",
    "version": 3
   },
   "file_extension": ".py",
   "mimetype": "text/x-python",
   "name": "python",
   "nbconvert_exporter": "python",
   "pygments_lexer": "ipython3",
   "version": "3.7.3"
  }
 },
 "nbformat": 4,
 "nbformat_minor": 2
}
