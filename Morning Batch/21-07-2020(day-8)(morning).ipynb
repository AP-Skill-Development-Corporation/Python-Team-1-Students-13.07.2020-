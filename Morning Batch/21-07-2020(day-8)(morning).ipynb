{
 "cells": [
  {
   "cell_type": "code",
   "execution_count": 18,
   "metadata": {},
   "outputs": [
    {
     "name": "stdout",
     "output_type": "stream",
     "text": [
      "['A', 'P', 'S', 'S', 'D', 'C']\n",
      "APSSDC\n",
      "Apssdc\n"
     ]
    }
   ],
   "source": [
    "#task 1\n",
    "s= \"A P S S D C\"\n",
    "a=s.split()\n",
    "print(a)\n",
    "print(\"\".join(a))\n",
    "print(\"\".join(a).capitalize())"
   ]
  },
  {
   "cell_type": "code",
   "execution_count": 20,
   "metadata": {},
   "outputs": [
    {
     "name": "stdout",
     "output_type": "stream",
     "text": [
      "workshop python\n",
      "workshop\n",
      "python\n",
      "W. Python\n"
     ]
    }
   ],
   "source": [
    "#task 2\n",
    "s1=input()\n",
    "l,f=s1.split()\n",
    "print(l)\n",
    "print(f)\n",
    "print(l[0].upper()+\". \"+f.capitalize())"
   ]
  },
  {
   "cell_type": "code",
   "execution_count": 4,
   "metadata": {},
   "outputs": [
    {
     "name": "stdout",
     "output_type": "stream",
     "text": [
      "Enter a string: abcd@4354 $\n",
      "Number of Digits  4\n",
      "Number of chars  4\n",
      "Number of special chars  2\n"
     ]
    }
   ],
   "source": [
    "#task 3\n",
    "def Count(string):\n",
    "    a = n = s =0\n",
    "    for i in string:\n",
    "        if (i.isdigit()):\n",
    "            n = n + 1\n",
    "        elif (i.isalpha()):\n",
    "            a = a + 1\n",
    "        elif (i.isspace()==False):\n",
    "            s = s + 1\n",
    "    print(\"Number of Digits \",n)\n",
    "    print(\"Number of chars \",a)\n",
    "    print(\"Number of special chars \",s)\n",
    "    return\n",
    "string = input(\"Enter a string: \")\n",
    "Count(string)"
   ]
  },
  {
   "cell_type": "code",
   "execution_count": 25,
   "metadata": {},
   "outputs": [
    {
     "name": "stdout",
     "output_type": "stream",
     "text": [
      "python\n",
      "p t h n "
     ]
    }
   ],
   "source": [
    "#even ascii(task 4)\n",
    "s = input()\n",
    "s1=\" \".join(s)\n",
    "for i in s1.split():\n",
    "    #print(ord(i))\n",
    "    if ord(i)%2==0:\n",
    "        print(i,end=\" \")\n",
    "    else:\n",
    "        pass"
   ]
  },
  {
   "cell_type": "code",
   "execution_count": null,
   "metadata": {},
   "outputs": [],
   "source": []
  },
  {
   "cell_type": "markdown",
   "metadata": {},
   "source": [
    "# data structures\n",
    "    - way of organising and storing data.\n",
    "    - accessed and work efficiently\n",
    "- 4 types\n",
    "    - lists\n",
    "    - tuples\n",
    "    - dictionary\n",
    "    - sets"
   ]
  },
  {
   "cell_type": "code",
   "execution_count": null,
   "metadata": {},
   "outputs": [],
   "source": [
    "# list:\n",
    "- collection of hetrogenous items\n",
    "- ordered,changable(mutable)\n",
    "- allows duplicate elements.\n",
    "- represented by square braces[]"
   ]
  },
  {
   "cell_type": "code",
   "execution_count": 26,
   "metadata": {},
   "outputs": [
    {
     "name": "stdout",
     "output_type": "stream",
     "text": [
      "[]\n",
      "<class 'list'>\n"
     ]
    }
   ],
   "source": [
    "#EMPTY LIST\n",
    "li=[]\n",
    "print(li)\n",
    "print(type(li))"
   ]
  },
  {
   "cell_type": "code",
   "execution_count": 27,
   "metadata": {},
   "outputs": [
    {
     "name": "stdout",
     "output_type": "stream",
     "text": [
      "[12, 34, 10, 2, 56, 90, 20]\n"
     ]
    }
   ],
   "source": [
    "# unordered\n",
    "li=[12,34,10,2,56,90,20]\n",
    "print(li)"
   ]
  },
  {
   "cell_type": "code",
   "execution_count": 28,
   "metadata": {},
   "outputs": [
    {
     "name": "stdout",
     "output_type": "stream",
     "text": [
      "[12, 'python', 78.99]\n"
     ]
    }
   ],
   "source": [
    "# multiple datatypes\n",
    "li=[12,'python',78.99]\n",
    "print(li)"
   ]
  },
  {
   "cell_type": "code",
   "execution_count": 29,
   "metadata": {},
   "outputs": [
    {
     "name": "stdout",
     "output_type": "stream",
     "text": [
      "[12, 1, 2, 12, 12, 34, 56, 56, 78, 10]\n"
     ]
    }
   ],
   "source": [
    "#duplicate elements\n",
    "li=[12,1,2,12,12,34,56,56,78,10]\n",
    "print(li)"
   ]
  },
  {
   "cell_type": "code",
   "execution_count": 33,
   "metadata": {},
   "outputs": [
    {
     "name": "stdout",
     "output_type": "stream",
     "text": [
      "12\n",
      "45\n",
      "70\n",
      "23\n"
     ]
    }
   ],
   "source": [
    "# indexing(positive,negtive)\n",
    "l=[12,23,45,26,70]\n",
    "print(l[0])\n",
    "print(l[2])\n",
    "print(l[-1])\n",
    "print(l[-4])"
   ]
  },
  {
   "cell_type": "code",
   "execution_count": 43,
   "metadata": {},
   "outputs": [
    {
     "name": "stdout",
     "output_type": "stream",
     "text": [
      "[23, 45, 26]\n",
      "[12, 45, 70]\n",
      "[70, 26, 45, 23, 12]\n",
      "[45, 26, 70]\n"
     ]
    }
   ],
   "source": [
    "#slicing\n",
    "li=[12,23,45,26,70]\n",
    "print(li[1:4])\n",
    "print(li[::2])\n",
    "print(li[::-1])\n",
    "print(li[-3:])"
   ]
  },
  {
   "cell_type": "code",
   "execution_count": 44,
   "metadata": {},
   "outputs": [
    {
     "name": "stdout",
     "output_type": "stream",
     "text": [
      "[12, 23, 90, 26, 70]\n"
     ]
    }
   ],
   "source": [
    "#list is mutable\n",
    "li=[12,23,45,26,70]\n",
    "li[2]=90\n",
    "print(li)"
   ]
  },
  {
   "cell_type": "code",
   "execution_count": 49,
   "metadata": {},
   "outputs": [
    {
     "name": "stdout",
     "output_type": "stream",
     "text": [
      "<class 'list'>\n",
      "5\n",
      "12\n",
      "70\n",
      "176\n"
     ]
    }
   ],
   "source": [
    "#builtin-function\n",
    "li=[12,23,45,26,70]\n",
    "print(type(li))\n",
    "print(len(li))\n",
    "print(min(li))\n",
    "print(max(li))\n",
    "print(sum(li))"
   ]
  },
  {
   "cell_type": "code",
   "execution_count": 50,
   "metadata": {},
   "outputs": [
    {
     "name": "stdout",
     "output_type": "stream",
     "text": [
      "<class 'list'>\n",
      "6\n",
      "h\n",
      "y\n"
     ]
    },
    {
     "ename": "TypeError",
     "evalue": "unsupported operand type(s) for +: 'int' and 'str'",
     "output_type": "error",
     "traceback": [
      "\u001b[1;31m---------------------------------------------------------------------------\u001b[0m",
      "\u001b[1;31mTypeError\u001b[0m                                 Traceback (most recent call last)",
      "\u001b[1;32m<ipython-input-50-4783016d0aaa>\u001b[0m in \u001b[0;36m<module>\u001b[1;34m\u001b[0m\n\u001b[0;32m      4\u001b[0m \u001b[0mprint\u001b[0m\u001b[1;33m(\u001b[0m\u001b[0mmin\u001b[0m\u001b[1;33m(\u001b[0m\u001b[0mli\u001b[0m\u001b[1;33m)\u001b[0m\u001b[1;33m)\u001b[0m\u001b[1;33m\u001b[0m\u001b[1;33m\u001b[0m\u001b[0m\n\u001b[0;32m      5\u001b[0m \u001b[0mprint\u001b[0m\u001b[1;33m(\u001b[0m\u001b[0mmax\u001b[0m\u001b[1;33m(\u001b[0m\u001b[0mli\u001b[0m\u001b[1;33m)\u001b[0m\u001b[1;33m)\u001b[0m\u001b[1;33m\u001b[0m\u001b[1;33m\u001b[0m\u001b[0m\n\u001b[1;32m----> 6\u001b[1;33m \u001b[0mprint\u001b[0m\u001b[1;33m(\u001b[0m\u001b[0msum\u001b[0m\u001b[1;33m(\u001b[0m\u001b[0mli\u001b[0m\u001b[1;33m)\u001b[0m\u001b[1;33m)\u001b[0m\u001b[1;33m\u001b[0m\u001b[1;33m\u001b[0m\u001b[0m\n\u001b[0m",
      "\u001b[1;31mTypeError\u001b[0m: unsupported operand type(s) for +: 'int' and 'str'"
     ]
    }
   ],
   "source": [
    "li=['p','y','t','h','o','n']\n",
    "print(type(li))\n",
    "print(len(li))\n",
    "print(min(li))\n",
    "print(max(li))\n",
    "print(sum(li))"
   ]
  },
  {
   "cell_type": "code",
   "execution_count": 59,
   "metadata": {},
   "outputs": [
    {
     "name": "stdout",
     "output_type": "stream",
     "text": [
      "True\n",
      "True\n",
      "False\n",
      "True\n",
      "[]\n",
      "[(0, 'pavani'), (1, 'ambika'), (2, 'surya')]\n",
      "[]\n",
      "[(27, 'pavani'), (78, 'ambika'), (90, 'surya')]\n"
     ]
    }
   ],
   "source": [
    "#all,any,enumerate,zip\n",
    "number=[]\n",
    "names=['pavani','ambika','surya']\n",
    "rollno=[27,78,90,80,60]\n",
    "print(all(number))\n",
    "print(all(names))\n",
    "print(any(number))\n",
    "print(any(names))\n",
    "print(list(enumerate(number)))\n",
    "print(list(enumerate(names)))\n",
    "print(list(zip(number,names)))\n",
    "print(list(zip(rollno,names)))"
   ]
  },
  {
   "cell_type": "code",
   "execution_count": 60,
   "metadata": {},
   "outputs": [
    {
     "name": "stdout",
     "output_type": "stream",
     "text": [
      "[12, 23, 4, 5, 10, 12, 45, 11, 22]\n"
     ]
    }
   ],
   "source": [
    "l1=[12,23,4,5,10]\n",
    "l2=[12,45,11,22]\n",
    "print(l1+l2)"
   ]
  },
  {
   "cell_type": "code",
   "execution_count": 63,
   "metadata": {},
   "outputs": [
    {
     "name": "stdout",
     "output_type": "stream",
     "text": [
      "56\n",
      "[45, 67, 89]\n",
      "67\n"
     ]
    }
   ],
   "source": [
    "li=[12,3,5,10,56,[45,67,89],10]\n",
    "print(li[4])\n",
    "print(li[5])\n",
    "print(li[5][1])"
   ]
  },
  {
   "cell_type": "code",
   "execution_count": 65,
   "metadata": {},
   "outputs": [
    {
     "name": "stdout",
     "output_type": "stream",
     "text": [
      "['__add__', '__class__', '__contains__', '__delattr__', '__delitem__', '__dir__', '__doc__', '__eq__', '__format__', '__ge__', '__getattribute__', '__getitem__', '__gt__', '__hash__', '__iadd__', '__imul__', '__init__', '__init_subclass__', '__iter__', '__le__', '__len__', '__lt__', '__mul__', '__ne__', '__new__', '__reduce__', '__reduce_ex__', '__repr__', '__reversed__', '__rmul__', '__setattr__', '__setitem__', '__sizeof__', '__str__', '__subclasshook__', 'append', 'clear', 'copy', 'count', 'extend', 'index', 'insert', 'pop', 'remove', 'reverse', 'sort'] "
     ]
    }
   ],
   "source": [
    "print(dir(list),end=\" \")"
   ]
  },
  {
   "cell_type": "code",
   "execution_count": 66,
   "metadata": {},
   "outputs": [
    {
     "name": "stdout",
     "output_type": "stream",
     "text": [
      "[12, 13, 14, 10, 56, 90, 15]\n"
     ]
    }
   ],
   "source": [
    "li=[12,13,14,10,56,90] #ending of the list\n",
    "li.append(15)\n",
    "print(li)"
   ]
  },
  {
   "cell_type": "code",
   "execution_count": 68,
   "metadata": {},
   "outputs": [
    {
     "name": "stdout",
     "output_type": "stream",
     "text": [
      "[12, 13, 14, 15, 10, 56, 90]\n"
     ]
    }
   ],
   "source": [
    "li=[12,13,14,10,56,90] #index value,value\n",
    "li.insert(3,15)\n",
    "print(li)"
   ]
  },
  {
   "cell_type": "code",
   "execution_count": 77,
   "metadata": {},
   "outputs": [
    {
     "name": "stdout",
     "output_type": "stream",
     "text": [
      "3\n",
      "0\n",
      "[12, 67, 45, 12, 23, 12]\n",
      "[12, 12, 12, 23, 45, 67]\n",
      "[67, 45, 23, 12, 12, 12]\n"
     ]
    }
   ],
   "source": [
    "li=[12,23,12,45,67,12]\n",
    "print(li.count(12))\n",
    "print(li.index(12))\n",
    "li.reverse()\n",
    "print(li)\n",
    "li.sort() #incresing order\n",
    "print(li)\n",
    "li.sort(reverse=True) #decresing order\n",
    "print(li)"
   ]
  },
  {
   "cell_type": "code",
   "execution_count": 80,
   "metadata": {},
   "outputs": [
    {
     "name": "stdout",
     "output_type": "stream",
     "text": [
      "[12, 3, 4, 12, 56, 34, 56, 78]\n",
      "[34, 56, 78]\n"
     ]
    }
   ],
   "source": [
    "li=[12,3,4,12,56]\n",
    "li1=[34,56,78]\n",
    "li.extend(li1)\n",
    "print(li)\n",
    "print(li1)"
   ]
  },
  {
   "cell_type": "code",
   "execution_count": 82,
   "metadata": {},
   "outputs": [
    {
     "name": "stdout",
     "output_type": "stream",
     "text": [
      "[12, 3, 4, 12, 56]\n",
      "[34, 56, 78, 12, 3, 4, 12, 56]\n"
     ]
    }
   ],
   "source": [
    "li=[12,3,4,12,56]\n",
    "li1=[34,56,78]\n",
    "li1.extend(li)\n",
    "print(li)\n",
    "print(li1)"
   ]
  },
  {
   "cell_type": "code",
   "execution_count": 87,
   "metadata": {},
   "outputs": [
    {
     "name": "stdout",
     "output_type": "stream",
     "text": [
      "[12, 3, 4, 12]\n",
      "[12, 4, 12]\n"
     ]
    }
   ],
   "source": [
    "li=[12,3,4,12,56]\n",
    "li.pop() #last element\n",
    "print(li)\n",
    "li.pop(1)\n",
    "print(li) #index value"
   ]
  },
  {
   "cell_type": "code",
   "execution_count": 86,
   "metadata": {},
   "outputs": [
    {
     "name": "stdout",
     "output_type": "stream",
     "text": [
      "[12, 3, 12, 56]\n"
     ]
    }
   ],
   "source": [
    "li=[12,3,4,12,56]\n",
    "li.remove(4) #value\n",
    "print(li)"
   ]
  },
  {
   "cell_type": "code",
   "execution_count": 90,
   "metadata": {},
   "outputs": [
    {
     "name": "stdout",
     "output_type": "stream",
     "text": [
      "[12, 3, 4, 12, 56]\n",
      "[12, 3, 4, 12, 56]\n",
      "[12, 3, 4, 12]\n",
      "[12, 3, 4, 12]\n"
     ]
    }
   ],
   "source": [
    "#assignment\n",
    "li1=[12,3,4,12,56]\n",
    "li2=li1\n",
    "print(li1)\n",
    "print(li2)\n",
    "li1.remove(56)\n",
    "print(li1)\n",
    "print(li2)"
   ]
  },
  {
   "cell_type": "code",
   "execution_count": 91,
   "metadata": {},
   "outputs": [
    {
     "name": "stdout",
     "output_type": "stream",
     "text": [
      "[12, 3, 4, 12, 56]\n",
      "[12, 3, 4, 12, 56]\n",
      "[12, 3, 4, 12]\n",
      "[12, 3, 4, 12, 56]\n"
     ]
    }
   ],
   "source": [
    "#copy\n",
    "li1=[12,3,4,12,56]\n",
    "li2=li1.copy()\n",
    "print(li1)\n",
    "print(li2)\n",
    "li1.remove(56)\n",
    "print(li1)\n",
    "print(li2)"
   ]
  },
  {
   "cell_type": "code",
   "execution_count": 95,
   "metadata": {},
   "outputs": [
    {
     "name": "stdout",
     "output_type": "stream",
     "text": [
      "[12, 3, 4, 12, 56]\n",
      "[]\n"
     ]
    }
   ],
   "source": [
    "li1=[12,3,4,12,56]\n",
    "print(li1)\n",
    "li1.clear()  #remove elements\n",
    "print(li1)"
   ]
  },
  {
   "cell_type": "code",
   "execution_count": 96,
   "metadata": {},
   "outputs": [
    {
     "name": "stdout",
     "output_type": "stream",
     "text": [
      "[12, 3, 4, 12, 56]\n"
     ]
    },
    {
     "ename": "NameError",
     "evalue": "name 'li1' is not defined",
     "output_type": "error",
     "traceback": [
      "\u001b[1;31m---------------------------------------------------------------------------\u001b[0m",
      "\u001b[1;31mNameError\u001b[0m                                 Traceback (most recent call last)",
      "\u001b[1;32m<ipython-input-96-0e287b2682e7>\u001b[0m in \u001b[0;36m<module>\u001b[1;34m\u001b[0m\n\u001b[0;32m      2\u001b[0m \u001b[0mprint\u001b[0m\u001b[1;33m(\u001b[0m\u001b[0mli1\u001b[0m\u001b[1;33m)\u001b[0m\u001b[1;33m\u001b[0m\u001b[1;33m\u001b[0m\u001b[0m\n\u001b[0;32m      3\u001b[0m \u001b[1;32mdel\u001b[0m\u001b[1;33m(\u001b[0m\u001b[0mli1\u001b[0m\u001b[1;33m)\u001b[0m  \u001b[1;31m#remove elements\u001b[0m\u001b[1;33m\u001b[0m\u001b[1;33m\u001b[0m\u001b[0m\n\u001b[1;32m----> 4\u001b[1;33m \u001b[0mprint\u001b[0m\u001b[1;33m(\u001b[0m\u001b[0mli1\u001b[0m\u001b[1;33m)\u001b[0m\u001b[1;33m\u001b[0m\u001b[1;33m\u001b[0m\u001b[0m\n\u001b[0m",
      "\u001b[1;31mNameError\u001b[0m: name 'li1' is not defined"
     ]
    }
   ],
   "source": [
    "li1=[12,3,4,12,56]\n",
    "print(li1)\n",
    "del(li1)  #delete list\n",
    "print(li1)"
   ]
  },
  {
   "cell_type": "code",
   "execution_count": 98,
   "metadata": {},
   "outputs": [
    {
     "name": "stdout",
     "output_type": "stream",
     "text": [
      "[1, 4, 9, 16]\n"
     ]
    }
   ],
   "source": [
    "#empty list\n",
    "li=[1,2,3,4]\n",
    "li1=[]\n",
    "for i in li:\n",
    "    li1.append(i**2)\n",
    "print(li1)"
   ]
  },
  {
   "cell_type": "code",
   "execution_count": 101,
   "metadata": {},
   "outputs": [
    {
     "name": "stdout",
     "output_type": "stream",
     "text": [
      "average: 3.0\n"
     ]
    }
   ],
   "source": [
    "li=[1,2,3,4,5]\n",
    "print(\"average:\",sum(li)/len(li))"
   ]
  },
  {
   "cell_type": "code",
   "execution_count": 102,
   "metadata": {},
   "outputs": [
    {
     "name": "stdout",
     "output_type": "stream",
     "text": [
      "[2, 12, 34, 20]\n"
     ]
    }
   ],
   "source": [
    "#duplicates remove\n",
    "li=[2,12,12,12,34,20,20]\n",
    "li1=[] #2,12,34,20\n",
    "for i in li:#2,12,12,12,34,20,20\n",
    "    if i not in li1:\n",
    "        li1.append(i)\n",
    "print(li1)"
   ]
  },
  {
   "cell_type": "code",
   "execution_count": null,
   "metadata": {},
   "outputs": [],
   "source": []
  },
  {
   "cell_type": "code",
   "execution_count": null,
   "metadata": {},
   "outputs": [],
   "source": [
    "# dictionary:\n",
    "- {key:value}"
   ]
  },
  {
   "cell_type": "code",
   "execution_count": 106,
   "metadata": {},
   "outputs": [
    {
     "name": "stdout",
     "output_type": "stream",
     "text": [
      "{}\n",
      "<class 'dict'>\n"
     ]
    }
   ],
   "source": [
    "#empty dict\n",
    "d={}\n",
    "print(d)\n",
    "print(type(d))"
   ]
  },
  {
   "cell_type": "code",
   "execution_count": 107,
   "metadata": {},
   "outputs": [
    {
     "name": "stdout",
     "output_type": "stream",
     "text": [
      "{'python': 12, 200: 'workshop', 34.98: 'training', 250: 69.79}\n"
     ]
    }
   ],
   "source": [
    "# different datatypes\n",
    "d={'python':12,200:'workshop',34.98:'training',250:69.79}\n",
    "print(d)"
   ]
  },
  {
   "cell_type": "code",
   "execution_count": 108,
   "metadata": {},
   "outputs": [
    {
     "ename": "KeyError",
     "evalue": "1",
     "output_type": "error",
     "traceback": [
      "\u001b[1;31m---------------------------------------------------------------------------\u001b[0m",
      "\u001b[1;31mKeyError\u001b[0m                                  Traceback (most recent call last)",
      "\u001b[1;32m<ipython-input-108-abe283337115>\u001b[0m in \u001b[0;36m<module>\u001b[1;34m\u001b[0m\n\u001b[1;32m----> 1\u001b[1;33m \u001b[0md\u001b[0m\u001b[1;33m[\u001b[0m\u001b[1;36m1\u001b[0m\u001b[1;33m]\u001b[0m\u001b[1;33m\u001b[0m\u001b[1;33m\u001b[0m\u001b[0m\n\u001b[0m",
      "\u001b[1;31mKeyError\u001b[0m: 1"
     ]
    }
   ],
   "source": [
    "d[1] #indexing not supported"
   ]
  },
  {
   "cell_type": "code",
   "execution_count": 109,
   "metadata": {},
   "outputs": [
    {
     "data": {
      "text/plain": [
       "12"
      ]
     },
     "execution_count": 109,
     "metadata": {},
     "output_type": "execute_result"
    }
   ],
   "source": [
    "d['python']   #based on key"
   ]
  },
  {
   "cell_type": "code",
   "execution_count": 110,
   "metadata": {},
   "outputs": [
    {
     "data": {
      "text/plain": [
       "'workshop'"
      ]
     },
     "execution_count": 110,
     "metadata": {},
     "output_type": "execute_result"
    }
   ],
   "source": [
    "d[200]"
   ]
  },
  {
   "cell_type": "code",
   "execution_count": 111,
   "metadata": {},
   "outputs": [
    {
     "data": {
      "text/plain": [
       "'training'"
      ]
     },
     "execution_count": 111,
     "metadata": {},
     "output_type": "execute_result"
    }
   ],
   "source": [
    "d[34.98]"
   ]
  },
  {
   "cell_type": "code",
   "execution_count": 114,
   "metadata": {},
   "outputs": [
    {
     "ename": "KeyError",
     "evalue": "'training'",
     "output_type": "error",
     "traceback": [
      "\u001b[1;31m---------------------------------------------------------------------------\u001b[0m",
      "\u001b[1;31mKeyError\u001b[0m                                  Traceback (most recent call last)",
      "\u001b[1;32m<ipython-input-114-354b0842b928>\u001b[0m in \u001b[0;36m<module>\u001b[1;34m\u001b[0m\n\u001b[1;32m----> 1\u001b[1;33m \u001b[0md\u001b[0m\u001b[1;33m[\u001b[0m\u001b[1;34m'training'\u001b[0m\u001b[1;33m]\u001b[0m\u001b[1;33m\u001b[0m\u001b[1;33m\u001b[0m\u001b[0m\n\u001b[0m",
      "\u001b[1;31mKeyError\u001b[0m: 'training'"
     ]
    }
   ],
   "source": [
    "d['training'] #based on value we didn't get"
   ]
  },
  {
   "cell_type": "code",
   "execution_count": 115,
   "metadata": {},
   "outputs": [
    {
     "name": "stdout",
     "output_type": "stream",
     "text": [
      "{'python': 12, 200: 'workshop', 34.98: 'training', 250: 69.79}\n"
     ]
    }
   ],
   "source": [
    "d={'python':12,200:'workshop',34.98:'training',250:69.79}\n",
    "print(d)"
   ]
  },
  {
   "cell_type": "code",
   "execution_count": 116,
   "metadata": {},
   "outputs": [
    {
     "data": {
      "text/plain": [
       "{'python': 12, 200: 'workshop', 34.98: 'training', 250: 700}"
      ]
     },
     "execution_count": 116,
     "metadata": {},
     "output_type": "execute_result"
    }
   ],
   "source": [
    "d[250]=700 # it is mutable\n",
    "d"
   ]
  },
  {
   "cell_type": "code",
   "execution_count": 120,
   "metadata": {},
   "outputs": [
    {
     "name": "stdout",
     "output_type": "stream",
     "text": [
      "<class 'dict'>\n",
      "2\n",
      "ambika\n",
      "pavani\n",
      "50\n"
     ]
    },
    {
     "ename": "TypeError",
     "evalue": "unsupported operand type(s) for +: 'int' and 'str'",
     "output_type": "error",
     "traceback": [
      "\u001b[1;31m---------------------------------------------------------------------------\u001b[0m",
      "\u001b[1;31mTypeError\u001b[0m                                 Traceback (most recent call last)",
      "\u001b[1;32m<ipython-input-120-da43600bb61b>\u001b[0m in \u001b[0;36m<module>\u001b[1;34m\u001b[0m\n\u001b[0;32m      6\u001b[0m \u001b[0mprint\u001b[0m\u001b[1;33m(\u001b[0m\u001b[0mmax\u001b[0m\u001b[1;33m(\u001b[0m\u001b[0md\u001b[0m\u001b[1;33m)\u001b[0m\u001b[1;33m)\u001b[0m\u001b[1;33m\u001b[0m\u001b[1;33m\u001b[0m\u001b[0m\n\u001b[0;32m      7\u001b[0m \u001b[0mprint\u001b[0m\u001b[1;33m(\u001b[0m\u001b[0msum\u001b[0m\u001b[1;33m(\u001b[0m\u001b[0md1\u001b[0m\u001b[1;33m)\u001b[0m\u001b[1;33m)\u001b[0m\u001b[1;33m\u001b[0m\u001b[1;33m\u001b[0m\u001b[0m\n\u001b[1;32m----> 8\u001b[1;33m \u001b[0mprint\u001b[0m\u001b[1;33m(\u001b[0m\u001b[0msum\u001b[0m\u001b[1;33m(\u001b[0m\u001b[0md\u001b[0m\u001b[1;33m)\u001b[0m\u001b[1;33m)\u001b[0m\u001b[1;33m\u001b[0m\u001b[1;33m\u001b[0m\u001b[0m\n\u001b[0m",
      "\u001b[1;31mTypeError\u001b[0m: unsupported operand type(s) for +: 'int' and 'str'"
     ]
    }
   ],
   "source": [
    "d={\"pavani\":\"python\",'ambika':'workshop'}\n",
    "d1={20:\"python\",30:\"workshop\"}\n",
    "print(type(d))\n",
    "print(len(d))\n",
    "print(min(d))   # key based\n",
    "print(max(d))\n",
    "print(sum(d1))\n",
    "print(sum(d))"
   ]
  },
  {
   "cell_type": "code",
   "execution_count": 121,
   "metadata": {},
   "outputs": [
    {
     "name": "stdout",
     "output_type": "stream",
     "text": [
      "{'pavani': 'python', 'ambika': 'workshop', 'year': 23}\n"
     ]
    }
   ],
   "source": [
    "d={\"pavani\":\"python\",'ambika':'workshop'}\n",
    "d['year']=23\n",
    "print(d)"
   ]
  },
  {
   "cell_type": "code",
   "execution_count": 123,
   "metadata": {},
   "outputs": [
    {
     "ename": "SyntaxError",
     "evalue": "invalid syntax (<ipython-input-123-e6e5a1d241fd>, line 1)",
     "output_type": "error",
     "traceback": [
      "\u001b[1;36m  File \u001b[1;32m\"<ipython-input-123-e6e5a1d241fd>\"\u001b[1;36m, line \u001b[1;32m1\u001b[0m\n\u001b[1;33m    d={\"pavani\":\"python\",'ambika':'workshop',{'year': 23,'hello':123}}\u001b[0m\n\u001b[1;37m                                                                     ^\u001b[0m\n\u001b[1;31mSyntaxError\u001b[0m\u001b[1;31m:\u001b[0m invalid syntax\n"
     ]
    }
   ],
   "source": [
    "d={\"pavani\":\"python\",'ambika':'workshop',{'year': 23,'hello':123}} #nested dictionary not supported\n",
    "print(d)"
   ]
  },
  {
   "cell_type": "code",
   "execution_count": 126,
   "metadata": {},
   "outputs": [
    {
     "name": "stdout",
     "output_type": "stream",
     "text": [
      "['__class__', '__contains__', '__delattr__', '__delitem__', '__dir__', '__doc__', '__eq__', '__format__', '__ge__', '__getattribute__', '__getitem__', '__gt__', '__hash__', '__init__', '__init_subclass__', '__iter__', '__le__', '__len__', '__lt__', '__ne__', '__new__', '__reduce__', '__reduce_ex__', '__repr__', '__setattr__', '__setitem__', '__sizeof__', '__str__', '__subclasshook__', 'clear', 'copy', 'fromkeys', 'get', 'items', 'keys', 'pop', 'popitem', 'setdefault', 'update', 'values'] "
     ]
    }
   ],
   "source": [
    "print(dir(dict),end=\" \")"
   ]
  },
  {
   "cell_type": "code",
   "execution_count": 129,
   "metadata": {},
   "outputs": [
    {
     "name": "stdout",
     "output_type": "stream",
     "text": [
      "dict_keys(['name', 'rollno'])\n",
      "dict_values(['pavani', 536])\n",
      "dict_items([('name', 'pavani'), ('rollno', 536)])\n"
     ]
    }
   ],
   "source": [
    "d={\"name\":'pavani','rollno':536}\n",
    "print(d.keys())\n",
    "print(d.values())\n",
    "print(d.items())"
   ]
  },
  {
   "cell_type": "code",
   "execution_count": 138,
   "metadata": {},
   "outputs": [
    {
     "name": "stdout",
     "output_type": "stream",
     "text": [
      "{'n': None, 'a': None, 'm': None, 'e': None}\n",
      "{'n': 56, 'a': 56, 'm': 56, 'e': 56}\n",
      "{'s': None, 'e': None, 'c': None, 't': None, 'i': None, 'o': None, 'n': None}\n",
      "{'s': 90, 'e': 90, 'c': 90, 't': 90, 'i': 90, 'o': 90, 'n': 90}\n",
      "{'name': 'pavani', 'rollno': 536}\n"
     ]
    },
    {
     "ename": "TypeError",
     "evalue": "fromkeys expected at most 2 arguments, got 5",
     "output_type": "error",
     "traceback": [
      "\u001b[1;31m---------------------------------------------------------------------------\u001b[0m",
      "\u001b[1;31mTypeError\u001b[0m                                 Traceback (most recent call last)",
      "\u001b[1;32m<ipython-input-138-3914d7ceaeb1>\u001b[0m in \u001b[0;36m<module>\u001b[1;34m\u001b[0m\n\u001b[0;32m      7\u001b[0m \u001b[1;33m\u001b[0m\u001b[0m\n\u001b[0;32m      8\u001b[0m \u001b[0mprint\u001b[0m\u001b[1;33m(\u001b[0m\u001b[0md\u001b[0m\u001b[1;33m)\u001b[0m\u001b[1;33m\u001b[0m\u001b[1;33m\u001b[0m\u001b[0m\n\u001b[1;32m----> 9\u001b[1;33m \u001b[0mprint\u001b[0m\u001b[1;33m(\u001b[0m\u001b[0md\u001b[0m\u001b[1;33m.\u001b[0m\u001b[0mfromkeys\u001b[0m\u001b[1;33m(\u001b[0m\u001b[1;34m'name'\u001b[0m\u001b[1;33m,\u001b[0m\u001b[1;36m56\u001b[0m\u001b[1;33m,\u001b[0m\u001b[1;36m70\u001b[0m\u001b[1;33m,\u001b[0m\u001b[1;36m45\u001b[0m\u001b[1;33m,\u001b[0m\u001b[1;36m20\u001b[0m\u001b[1;33m)\u001b[0m\u001b[1;33m)\u001b[0m \u001b[1;31m# not acceptable\u001b[0m\u001b[1;33m\u001b[0m\u001b[1;33m\u001b[0m\u001b[0m\n\u001b[0m",
      "\u001b[1;31mTypeError\u001b[0m: fromkeys expected at most 2 arguments, got 5"
     ]
    }
   ],
   "source": [
    "print(d.fromkeys('name'))\n",
    "print(d.fromkeys('name',56))\n",
    "\n",
    "print(d.fromkeys('section'))\n",
    "print(d.fromkeys('section',90))\n",
    "\n",
    "\n",
    "print(d)\n",
    "print(d.fromkeys('name',56,70,45,20)z) # not acceptable"
   ]
  },
  {
   "cell_type": "code",
   "execution_count": 145,
   "metadata": {},
   "outputs": [
    {
     "name": "stdout",
     "output_type": "stream",
     "text": [
      "{'name': 'pavani', 'rollno': 536}\n",
      "{'rollno': 536}\n"
     ]
    }
   ],
   "source": [
    "d={\"name\":'pavani','rollno':536}\n",
    "print(d)\n",
    "d.pop('name')  # expected 1 argument\n",
    "print(d)"
   ]
  },
  {
   "cell_type": "code",
   "execution_count": 148,
   "metadata": {},
   "outputs": [
    {
     "name": "stdout",
     "output_type": "stream",
     "text": [
      "{'name': 'pavani', 'rollno': 536}\n",
      "{'name': 'pavani'}\n"
     ]
    }
   ],
   "source": [
    "d={\"name\":'pavani','rollno':536}\n",
    "print(d)\n",
    "d.popitem()   # last element     #no arguments  \n",
    "print(d)"
   ]
  },
  {
   "cell_type": "code",
   "execution_count": 165,
   "metadata": {},
   "outputs": [
    {
     "name": "stdout",
     "output_type": "stream",
     "text": [
      "{'name': 'pavani', 'rollno': 536}\n",
      "{'name': 'pavani', 'rollno': 536, 'age': None}\n",
      "{'name': 'pavani', 'rollno': 536, 'age': None, 'year': 2020}\n",
      "{'name': 'pavani', 'rollno': 536, 'age': None, 'year': 2020}\n"
     ]
    }
   ],
   "source": [
    "d={\"name\":'pavani','rollno':536}\n",
    "print(d)\n",
    "d.setdefault(\"age\")\n",
    "print(d)\n",
    "d.setdefault(\"year\",2020)\n",
    "print(d)\n",
    "d.setdefault(\"age\",20)\n",
    "print(d)"
   ]
  },
  {
   "cell_type": "code",
   "execution_count": 156,
   "metadata": {},
   "outputs": [
    {
     "name": "stdout",
     "output_type": "stream",
     "text": [
      "{'name': 'pavani', 'rollno': 536}\n",
      "536\n",
      "pavani\n"
     ]
    }
   ],
   "source": [
    "d={\"name\":'pavani','rollno':536}\n",
    "print(d)\n",
    "print(d.get('rollno'))\n",
    "print(d.get('name'))"
   ]
  },
  {
   "cell_type": "code",
   "execution_count": 159,
   "metadata": {},
   "outputs": [
    {
     "name": "stdout",
     "output_type": "stream",
     "text": [
      "{'name': 'pavani', 'rollno': 536}\n",
      "{'name': 'pavani', 'rollno': 536, 'age': 30}\n"
     ]
    }
   ],
   "source": [
    "d={\"name\":'pavani','rollno':536}\n",
    "print(d)\n",
    "d.update({'age':30})\n",
    "print(d)"
   ]
  },
  {
   "cell_type": "code",
   "execution_count": 161,
   "metadata": {},
   "outputs": [
    {
     "name": "stdout",
     "output_type": "stream",
     "text": [
      "{'name': 'pavani', 'rollno': 536, 'age': 30}\n",
      "{}\n"
     ]
    }
   ],
   "source": [
    "print(d)\n",
    "d.clear()\n",
    "print(d)"
   ]
  },
  {
   "cell_type": "code",
   "execution_count": 162,
   "metadata": {},
   "outputs": [
    {
     "ename": "NameError",
     "evalue": "name 'd' is not defined",
     "output_type": "error",
     "traceback": [
      "\u001b[1;31m---------------------------------------------------------------------------\u001b[0m",
      "\u001b[1;31mNameError\u001b[0m                                 Traceback (most recent call last)",
      "\u001b[1;32m<ipython-input-162-473aa4fdb2dc>\u001b[0m in \u001b[0;36m<module>\u001b[1;34m\u001b[0m\n\u001b[0;32m      1\u001b[0m \u001b[1;32mdel\u001b[0m\u001b[1;33m(\u001b[0m\u001b[0md\u001b[0m\u001b[1;33m)\u001b[0m\u001b[1;33m\u001b[0m\u001b[1;33m\u001b[0m\u001b[0m\n\u001b[1;32m----> 2\u001b[1;33m \u001b[0mprint\u001b[0m\u001b[1;33m(\u001b[0m\u001b[0md\u001b[0m\u001b[1;33m)\u001b[0m\u001b[1;33m\u001b[0m\u001b[1;33m\u001b[0m\u001b[0m\n\u001b[0m",
      "\u001b[1;31mNameError\u001b[0m: name 'd' is not defined"
     ]
    }
   ],
   "source": [
    "del(d)\n",
    "print(d)"
   ]
  },
  {
   "cell_type": "code",
   "execution_count": 105,
   "metadata": {},
   "outputs": [
    {
     "name": "stdout",
     "output_type": "stream",
     "text": [
      "1\n",
      "3\n"
     ]
    }
   ],
   "source": [
    "#task 1\n",
    "#unique elements\n",
    "li=[2,12,12,12,34,20,20]\n",
    "print(li.count(2))\n",
    "print(li.count(12))\n",
    "#o/p: [2,34]"
   ]
  },
  {
   "cell_type": "code",
   "execution_count": null,
   "metadata": {},
   "outputs": [],
   "source": [
    "#task2 \n",
    "li=['o','o','o','a','a','c']\n",
    "o/p:{'o':3,'a':2,'c':1}"
   ]
  },
  {
   "cell_type": "code",
   "execution_count": null,
   "metadata": {},
   "outputs": [],
   "source": [
    "#task 3\n",
    "li=[1,2,3,4,5]\n",
    "o/p: product of given list:120"
   ]
  },
  {
   "cell_type": "code",
   "execution_count": null,
   "metadata": {},
   "outputs": [],
   "source": [
    "#task 4 (string task)\n",
    "madam-palindrome(using slicing)"
   ]
  },
  {
   "cell_type": "code",
   "execution_count": null,
   "metadata": {},
   "outputs": [],
   "source": [
    "list,dict(completed)"
   ]
  }
 ],
 "metadata": {
  "kernelspec": {
   "display_name": "Python 3",
   "language": "python",
   "name": "python3"
  },
  "language_info": {
   "codemirror_mode": {
    "name": "ipython",
    "version": 3
   },
   "file_extension": ".py",
   "mimetype": "text/x-python",
   "name": "python",
   "nbconvert_exporter": "python",
   "pygments_lexer": "ipython3",
   "version": "3.7.3"
  }
 },
 "nbformat": 4,
 "nbformat_minor": 2
}
