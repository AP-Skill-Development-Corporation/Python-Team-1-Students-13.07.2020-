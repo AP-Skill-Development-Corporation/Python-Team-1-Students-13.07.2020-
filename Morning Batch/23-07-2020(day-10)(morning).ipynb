{
 "cells": [
  {
   "cell_type": "markdown",
   "metadata": {},
   "source": [
    "### Regular expressions:\n",
    "- regular expressions(RegEx) is a sequence of characters that forms a search pattern\n",
    "- python has a built-in package called re\n",
    "- re represents the set of all values that match a pattern\n",
    "#### 3 RegEx functions:\n",
    "    1.match()\n",
    "    2.search()\n",
    "    3.findall()"
   ]
  },
  {
   "cell_type": "code",
   "execution_count": 20,
   "metadata": {},
   "outputs": [
    {
     "data": {
      "text/plain": [
       "<re.Match object; span=(0, 1), match='p'>"
      ]
     },
     "execution_count": 20,
     "metadata": {},
     "output_type": "execute_result"
    }
   ],
   "source": [
    "# match():\n",
    "import re  # match the starting of a string\n",
    "re.match(\"p\",\"python\") "
   ]
  },
  {
   "cell_type": "code",
   "execution_count": 24,
   "metadata": {},
   "outputs": [
    {
     "data": {
      "text/plain": [
       "<re.Match object; span=(0, 2), match='py'>"
      ]
     },
     "execution_count": 24,
     "metadata": {},
     "output_type": "execute_result"
    }
   ],
   "source": [
    "# match():\n",
    "import re  # match the starting of a string\n",
    "re.match(\"py\",\"python\") "
   ]
  },
  {
   "cell_type": "code",
   "execution_count": 25,
   "metadata": {},
   "outputs": [],
   "source": [
    "# match():\n",
    "import re  # match the starting of a string\n",
    "re.match(\"pye\",\"python\") "
   ]
  },
  {
   "cell_type": "code",
   "execution_count": 22,
   "metadata": {},
   "outputs": [],
   "source": [
    "# match():\n",
    "import re  # match the starting of a string\n",
    "re.match(\"o\",\"python\") "
   ]
  },
  {
   "cell_type": "code",
   "execution_count": 31,
   "metadata": {},
   "outputs": [
    {
     "data": {
      "text/plain": [
       "<re.Match object; span=(5, 6), match='n'>"
      ]
     },
     "execution_count": 31,
     "metadata": {},
     "output_type": "execute_result"
    }
   ],
   "source": [
    "# search():\n",
    "import re  # search for pattern with in the string\n",
    "re.search(\"n\",\"python\") "
   ]
  },
  {
   "cell_type": "code",
   "execution_count": 32,
   "metadata": {},
   "outputs": [],
   "source": [
    "# search():\n",
    "import re  # search for pattern with in the string\n",
    "re.search(\"z\",\"python\")"
   ]
  },
  {
   "cell_type": "code",
   "execution_count": 35,
   "metadata": {},
   "outputs": [
    {
     "data": {
      "text/plain": [
       "['m', 'm']"
      ]
     },
     "execution_count": 35,
     "metadata": {},
     "output_type": "execute_result"
    }
   ],
   "source": [
    "# findall\n",
    "import re  # it displays all matches in a string\n",
    "re.findall(\"m\",\"python programming\")"
   ]
  },
  {
   "cell_type": "code",
   "execution_count": null,
   "metadata": {},
   "outputs": [],
   "source": []
  },
  {
   "cell_type": "code",
   "execution_count": null,
   "metadata": {},
   "outputs": [],
   "source": []
  },
  {
   "cell_type": "code",
   "execution_count": null,
   "metadata": {},
   "outputs": [],
   "source": [
    "^-start\n",
    "$-end\n",
    "[0-9]-numbers\n",
    "[a-z]-small\n",
    "[A-Z]-capitals\n",
    "[a-zA-Z]-may be both\n",
    "[@]-special symbols (only single)\n",
    "[2468]-all single digit multiples of 2\n",
    "[6-9]-it takes only one digit(6 or 7 or 8 or 9)\n",
    "[2-5]{9}-only we have to give 9 digits\n",
    "{4}---->compulsry 4 digits\n",
    "{10,20}-->limit 10 to 20\n",
    "[0-39]--->is same as 0,1,2,3,9\n",
    "|--->pattern separation/altertion2"
   ]
  },
  {
   "cell_type": "code",
   "execution_count": null,
   "metadata": {},
   "outputs": [],
   "source": []
  },
  {
   "cell_type": "code",
   "execution_count": 42,
   "metadata": {},
   "outputs": [
    {
     "name": "stdout",
     "output_type": "stream",
     "text": [
      "enter a mobileno:8767867678\n",
      "valid number\n"
     ]
    }
   ],
   "source": [
    "#phone number validator\n",
    "import re\n",
    "phone=input(\"enter a mobileno:\")\n",
    "pattern=\"^[6-9][0-9]{9}|[+][9][1][6-9][0-9]{9}$\"\n",
    "if re.match(pattern,phone):\n",
    "    print(\"valid number\")\n",
    "else:\n",
    "    print(\"not a valid number\")"
   ]
  },
  {
   "cell_type": "code",
   "execution_count": 70,
   "metadata": {},
   "outputs": [
    {
     "name": "stdout",
     "output_type": "stream",
     "text": [
      "enter a emailid:gantaaravind1196@gmail.com\n",
      "valid emailid\n"
     ]
    }
   ],
   "source": [
    "# emailid validator\n",
    "#username@domain.extension\n",
    "#apssdc@gmail.com\n",
    "import re\n",
    "email=input(\"enter a emailid:\")\n",
    "pattern='^[a-z0-9][a-z0-9._]{5,20}[@][a-z]{5,10}[.][a-z]{2,5}$'\n",
    "if re.match(pattern,email):\n",
    "    print(\"valid emailid\")\n",
    "else:\n",
    "    print(\"not a valid emailid\")"
   ]
  },
  {
   "cell_type": "code",
   "execution_count": null,
   "metadata": {},
   "outputs": [],
   "source": [
    "# task 1\n",
    "#pattern: Yourname@900"
   ]
  },
  {
   "cell_type": "code",
   "execution_count": null,
   "metadata": {},
   "outputs": [],
   "source": []
  },
  {
   "cell_type": "markdown",
   "metadata": {},
   "source": [
    "# file handling:"
   ]
  },
  {
   "cell_type": "code",
   "execution_count": null,
   "metadata": {},
   "outputs": [],
   "source": [
    "- file handling allows users to handle files.\n",
    "#steps:\n",
    "- open a file\n",
    "- doing the operations\n",
    "- close a file"
   ]
  },
  {
   "cell_type": "code",
   "execution_count": null,
   "metadata": {},
   "outputs": [],
   "source": [
    "#syn:\n",
    "open(filename,mode)\n",
    "# 3 modes:\n",
    "- read \"r\"\n",
    "- write \"w\"\n",
    "- append \"a\""
   ]
  },
  {
   "cell_type": "markdown",
   "metadata": {},
   "source": [
    "## read()"
   ]
  },
  {
   "cell_type": "code",
   "execution_count": 51,
   "metadata": {},
   "outputs": [
    {
     "name": "stdout",
     "output_type": "stream",
     "text": [
      "hello world\n"
     ]
    }
   ],
   "source": [
    "#by default,the file will be opened in \"r\" mode\n",
    "f=open('data.txt')\n",
    "fr=f.read()\n",
    "print(fr)\n",
    "f.close()"
   ]
  },
  {
   "cell_type": "code",
   "execution_count": 52,
   "metadata": {},
   "outputs": [
    {
     "name": "stdout",
     "output_type": "stream",
     "text": [
      "hello world\n"
     ]
    }
   ],
   "source": [
    "#using with open()\n",
    "# with automatically closes the file at the end of the operation\n",
    "with open('data.txt') as f:\n",
    "    fr=f.read()\n",
    "    print(fr)"
   ]
  },
  {
   "cell_type": "code",
   "execution_count": 53,
   "metadata": {},
   "outputs": [
    {
     "name": "stdout",
     "output_type": "stream",
     "text": [
      "hello world\n"
     ]
    }
   ],
   "source": [
    "# with \"r\" mode\n",
    "# without close() the changes u have did in the file will not be saved\n",
    "f=open('data.txt',\"r\")\n",
    "fr=f.read()\n",
    "print(fr)\n",
    "f.close()"
   ]
  },
  {
   "cell_type": "code",
   "execution_count": 54,
   "metadata": {},
   "outputs": [
    {
     "ename": "FileNotFoundError",
     "evalue": "[Errno 2] No such file or directory: 'data1.txt'",
     "output_type": "error",
     "traceback": [
      "\u001b[1;31m---------------------------------------------------------------------------\u001b[0m",
      "\u001b[1;31mFileNotFoundError\u001b[0m                         Traceback (most recent call last)",
      "\u001b[1;32m<ipython-input-54-062fbb4de5b9>\u001b[0m in \u001b[0;36m<module>\u001b[1;34m\u001b[0m\n\u001b[1;32m----> 1\u001b[1;33m \u001b[0mf\u001b[0m\u001b[1;33m=\u001b[0m\u001b[0mopen\u001b[0m\u001b[1;33m(\u001b[0m\u001b[1;34m'data1.txt'\u001b[0m\u001b[1;33m,\u001b[0m\u001b[1;34m\"r\"\u001b[0m\u001b[1;33m)\u001b[0m\u001b[1;33m\u001b[0m\u001b[1;33m\u001b[0m\u001b[0m\n\u001b[0m\u001b[0;32m      2\u001b[0m \u001b[0mfr\u001b[0m\u001b[1;33m=\u001b[0m\u001b[0mf\u001b[0m\u001b[1;33m.\u001b[0m\u001b[0mread\u001b[0m\u001b[1;33m(\u001b[0m\u001b[1;33m)\u001b[0m\u001b[1;33m\u001b[0m\u001b[1;33m\u001b[0m\u001b[0m\n\u001b[0;32m      3\u001b[0m \u001b[0mprint\u001b[0m\u001b[1;33m(\u001b[0m\u001b[0mfr\u001b[0m\u001b[1;33m)\u001b[0m\u001b[1;33m\u001b[0m\u001b[1;33m\u001b[0m\u001b[0m\n\u001b[0;32m      4\u001b[0m \u001b[0mf\u001b[0m\u001b[1;33m.\u001b[0m\u001b[0mclose\u001b[0m\u001b[1;33m(\u001b[0m\u001b[1;33m)\u001b[0m\u001b[1;33m\u001b[0m\u001b[1;33m\u001b[0m\u001b[0m\n",
      "\u001b[1;31mFileNotFoundError\u001b[0m: [Errno 2] No such file or directory: 'data1.txt'"
     ]
    }
   ],
   "source": [
    "# file is not there in directory it gives an error\n",
    "f=open('data1.txt',\"r\")\n",
    "fr=f.read()\n",
    "print(fr)\n",
    "f.close()"
   ]
  },
  {
   "cell_type": "markdown",
   "metadata": {},
   "source": [
    "## write()"
   ]
  },
  {
   "cell_type": "code",
   "execution_count": null,
   "metadata": {},
   "outputs": [],
   "source": []
  },
  {
   "cell_type": "code",
   "execution_count": 56,
   "metadata": {},
   "outputs": [
    {
     "name": "stdout",
     "output_type": "stream",
     "text": [
      "18\n"
     ]
    }
   ],
   "source": [
    "f=open('data1.txt',\"w\")  # if we dont have that file it will create and insert single line\n",
    "fr=f.write(\"pythonprogramming\\n\")\n",
    "print(fr)\n",
    "f.close()"
   ]
  },
  {
   "cell_type": "code",
   "execution_count": 57,
   "metadata": {},
   "outputs": [
    {
     "name": "stdout",
     "output_type": "stream",
     "text": [
      "15\n"
     ]
    }
   ],
   "source": [
    "f=open('data1.txt',\"w\")   # if insert another line it replaces previous line\n",
    "fr=f.write(\"hello everyone\\n\")\n",
    "print(fr)\n",
    "f.close()"
   ]
  },
  {
   "cell_type": "markdown",
   "metadata": {},
   "source": [
    "## append()"
   ]
  },
  {
   "cell_type": "code",
   "execution_count": 58,
   "metadata": {},
   "outputs": [
    {
     "name": "stdout",
     "output_type": "stream",
     "text": [
      "7\n"
     ]
    }
   ],
   "source": [
    "f=open('data1.txt',\"a\")   #using append we can add new lines\n",
    "fr=f.write(\"apssdc\\n\")\n",
    "print(fr)\n",
    "f.close()"
   ]
  },
  {
   "cell_type": "code",
   "execution_count": 59,
   "metadata": {},
   "outputs": [
    {
     "name": "stdout",
     "output_type": "stream",
     "text": [
      "['hello', 'everyone', 'apssdc', 'line', '1', 'line', '2', 'line', '3', 'line', '4', 'line', '5']\n"
     ]
    }
   ],
   "source": [
    "f=open('data1.txt',\"r\")   #using split\n",
    "fr=f.read()\n",
    "print(fr.split())\n",
    "f.close()"
   ]
  },
  {
   "cell_type": "code",
   "execution_count": 60,
   "metadata": {},
   "outputs": [
    {
     "name": "stdout",
     "output_type": "stream",
     "text": [
      "['hello everyone', 'apssdc', 'line 1', 'line 2', 'line 3 ', 'line 4', 'line 5']\n"
     ]
    }
   ],
   "source": [
    "f=open('data1.txt',\"r\")   #using splitlines\n",
    "fr=f.read()\n",
    "print(fr.splitlines())\n",
    "f.close()"
   ]
  },
  {
   "cell_type": "code",
   "execution_count": 61,
   "metadata": {},
   "outputs": [
    {
     "name": "stdout",
     "output_type": "stream",
     "text": [
      "hello everyone\n",
      "\n"
     ]
    }
   ],
   "source": [
    "f=open('data1.txt',\"r\")   #using readline-first line\n",
    "fr=f.readline()\n",
    "print(fr)\n",
    "f.close()"
   ]
  },
  {
   "cell_type": "code",
   "execution_count": 62,
   "metadata": {},
   "outputs": [
    {
     "name": "stdout",
     "output_type": "stream",
     "text": [
      "['hello everyone\\n', 'apssdc\\n', 'line 1\\n', 'line 2\\n', 'line 3 \\n', 'line 4\\n', 'line 5']\n"
     ]
    }
   ],
   "source": [
    "f=open('data1.txt',\"r\")   #using readlines-first line\n",
    "fr=f.readlines()\n",
    "print(fr)\n",
    "f.close()"
   ]
  },
  {
   "cell_type": "code",
   "execution_count": 66,
   "metadata": {},
   "outputs": [
    {
     "name": "stdout",
     "output_type": "stream",
     "text": [
      "hello everyone\n",
      " apssdc\n",
      " line 1\n",
      " line 2\n",
      " line 3 \n",
      " line 4\n",
      " line 5 "
     ]
    }
   ],
   "source": [
    "f=open('data1.txt',\"r\")   #using readlines-first line\n",
    "fr=f.readlines()\n",
    "for i in fr:\n",
    "    print(i,end=\" \")\n",
    "f.close()"
   ]
  },
  {
   "cell_type": "code",
   "execution_count": 68,
   "metadata": {},
   "outputs": [
    {
     "name": "stdout",
     "output_type": "stream",
     "text": [
      "57\n"
     ]
    }
   ],
   "source": [
    "f=open('data1.txt',\"r\")   #using tell()---->cursor position\n",
    "f.read()\n",
    "print(f.tell())\n",
    "f.close()"
   ]
  },
  {
   "cell_type": "code",
   "execution_count": 69,
   "metadata": {},
   "outputs": [
    {
     "name": "stdout",
     "output_type": "stream",
     "text": [
      "hello e\n"
     ]
    }
   ],
   "source": [
    "f=open('data1.txt',\"r\")   #using seek()---->cursor move to 0 position\n",
    "f.read()\n",
    "f.seek(0)       \n",
    "print(f.read(7))   #0-6 ,7 position exclude\n",
    "f.close()"
   ]
  },
  {
   "cell_type": "code",
   "execution_count": null,
   "metadata": {},
   "outputs": [],
   "source": [
    "# file data processing(repu continue)"
   ]
  }
 ],
 "metadata": {
  "kernelspec": {
   "display_name": "Python 3",
   "language": "python",
   "name": "python3"
  },
  "language_info": {
   "codemirror_mode": {
    "name": "ipython",
    "version": 3
   },
   "file_extension": ".py",
   "mimetype": "text/x-python",
   "name": "python",
   "nbconvert_exporter": "python",
   "pygments_lexer": "ipython3",
   "version": "3.7.3"
  }
 },
 "nbformat": 4,
 "nbformat_minor": 2
}
