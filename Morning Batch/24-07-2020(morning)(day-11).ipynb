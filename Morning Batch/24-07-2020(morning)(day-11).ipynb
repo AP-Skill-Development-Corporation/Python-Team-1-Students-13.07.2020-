{
 "cells": [
  {
   "cell_type": "code",
   "execution_count": 5,
   "metadata": {},
   "outputs": [
    {
     "name": "stdout",
     "output_type": "stream",
     "text": [
      "enter a password:Pavani@465\n",
      "valid password\n"
     ]
    }
   ],
   "source": [
    "# task:\n",
    "#Apssdc@123\n",
    "import re\n",
    "phone=input(\"enter a password:\")\n",
    "pattern=\"^[A-Z][a-z]{5,10}[@][0-9]{3}$\"\n",
    "if re.match(pattern,phone):\n",
    "    print(\"valid password\")\n",
    "else:\n",
    "    print(\"not a valid password\")"
   ]
  },
  {
   "cell_type": "code",
   "execution_count": null,
   "metadata": {},
   "outputs": [],
   "source": []
  },
  {
   "cell_type": "code",
   "execution_count": null,
   "metadata": {},
   "outputs": [],
   "source": [
    "# File data processing\n",
    "- file data processing means working with the data in a file and doing  modifications in the data."
   ]
  },
  {
   "cell_type": "code",
   "execution_count": null,
   "metadata": {},
   "outputs": [],
   "source": []
  },
  {
   "cell_type": "code",
   "execution_count": 15,
   "metadata": {},
   "outputs": [
    {
     "name": "stdout",
     "output_type": "stream",
     "text": [
      "lines: 6\n",
      "words: 12\n",
      "characters: 58\n"
     ]
    }
   ],
   "source": [
    "f=open(\"data.txt\",\"r\")\n",
    "lines=0\n",
    "words=0\n",
    "characters=0\n",
    "for line in f:\n",
    "    lines+=1\n",
    "    wordslist=line.split()\n",
    "    words+=len(wordslist)\n",
    "    characters+=len(line)\n",
    "print(\"lines:\",lines)\n",
    "print(\"words:\",words)\n",
    "print(\"characters:\",characters)"
   ]
  },
  {
   "cell_type": "code",
   "execution_count": 16,
   "metadata": {},
   "outputs": [
    {
     "name": "stdout",
     "output_type": "stream",
     "text": [
      "['hello', 'world', 'python', 'programming', 'line', '1', '2', '3', '4']\n"
     ]
    }
   ],
   "source": [
    "# duplicates remove\n",
    "f=open(\"data.txt\",'r')\n",
    "fh=f.read()\n",
    "b=fh.split()\n",
    "d=[]\n",
    "for i in b:\n",
    "    if i not in d:\n",
    "        d.append(i)\n",
    "print(d)\n",
    "f.close()"
   ]
  },
  {
   "cell_type": "code",
   "execution_count": 17,
   "metadata": {},
   "outputs": [
    {
     "name": "stdout",
     "output_type": "stream",
     "text": [
      "['hello', 'world', 'python', 'programming', '1', '2', '3', '4']\n"
     ]
    }
   ],
   "source": [
    "# unique elements\n",
    "f=open(\"data.txt\",'r')\n",
    "fh=f.read()\n",
    "b=fh.split()\n",
    "d=[]\n",
    "for i in b:\n",
    "    if b.count(i)==1:\n",
    "        d.append(i)\n",
    "print(d)\n",
    "f.close()"
   ]
  },
  {
   "cell_type": "code",
   "execution_count": null,
   "metadata": {},
   "outputs": [],
   "source": []
  },
  {
   "cell_type": "code",
   "execution_count": 27,
   "metadata": {},
   "outputs": [],
   "source": [
    "# 50 students marks randomly\n",
    "from random import randint\n",
    "def marksgen(n,lb,ub):\n",
    "    with open(\"marks.txt\",'w') as f:\n",
    "        for i in range(0,n):\n",
    "            r=randint(lb,ub)\n",
    "            f.write(str(r)+'\\n')\n",
    "    return\n",
    "marksgen(50,1,100)"
   ]
  },
  {
   "cell_type": "code",
   "execution_count": 30,
   "metadata": {},
   "outputs": [
    {
     "data": {
      "text/plain": [
       "56.34"
      ]
     },
     "execution_count": 30,
     "metadata": {},
     "output_type": "execute_result"
    }
   ],
   "source": [
    "# student class average\n",
    "def classavg(filepath):\n",
    "    with open(filepath) as f:\n",
    "        fh=f.read()\n",
    "        b=fh.split()\n",
    "        sum=0\n",
    "        for i in b:\n",
    "            sum+=int(i)\n",
    "    return sum/len(b)\n",
    "filepath=\"marks.txt\"\n",
    "classavg(filepath)"
   ]
  },
  {
   "cell_type": "code",
   "execution_count": 32,
   "metadata": {},
   "outputs": [
    {
     "name": "stdout",
     "output_type": "stream",
     "text": [
      "56.34\n"
     ]
    }
   ],
   "source": [
    "f=open('marks.txt','r')\n",
    "fh=f.read()\n",
    "s=fh.split()\n",
    "sum=0\n",
    "for i in s :\n",
    "    sum=sum+int(i)\n",
    "avg=sum/len(s)\n",
    "print(avg)"
   ]
  },
  {
   "cell_type": "code",
   "execution_count": 38,
   "metadata": {},
   "outputs": [
    {
     "name": "stdout",
     "output_type": "stream",
     "text": [
      "passpercentage: 68.0\n",
      "failpercentage: 32.0\n",
      "34\n",
      "50\n"
     ]
    }
   ],
   "source": [
    "def passpercent(filepath):\n",
    "    with open(filepath) as f:\n",
    "        fh=f.read()\n",
    "        b=fh.split()\n",
    "        passcount=0\n",
    "        for i in b:\n",
    "            if int(i)>35:\n",
    "                passcount+=1\n",
    "        passpercentage=(passcount/len(b))*100\n",
    "        failpercentage=100-passpercentage\n",
    "        print(\"passpercentage:\",passpercentage)\n",
    "        print(\"failpercentage:\",failpercentage)\n",
    "        print(passcount)\n",
    "        print(len(b))\n",
    "filepath=\"marks.txt\"\n",
    "passpercent(filepath)"
   ]
  },
  {
   "cell_type": "code",
   "execution_count": null,
   "metadata": {},
   "outputs": [],
   "source": [
    "#task\n",
    "#dictinction percentage (above 80)"
   ]
  },
  {
   "cell_type": "code",
   "execution_count": null,
   "metadata": {},
   "outputs": [],
   "source": []
  },
  {
   "cell_type": "code",
   "execution_count": 41,
   "metadata": {},
   "outputs": [
    {
     "data": {
      "text/plain": [
       "True"
      ]
     },
     "execution_count": 41,
     "metadata": {},
     "output_type": "execute_result"
    }
   ],
   "source": [
    "def iswordexist(filepath,word):\n",
    "    with open(filepath,'r') as f:\n",
    "        fh=f.read()\n",
    "        b=fh.split()\n",
    "        if word in b:\n",
    "            return True\n",
    "        else:\n",
    "            return False\n",
    "filepath=\"data.txt\"\n",
    "iswordexist(filepath,'line')"
   ]
  },
  {
   "cell_type": "code",
   "execution_count": null,
   "metadata": {},
   "outputs": [],
   "source": [
    "# task 2\n",
    "#find and replace using iswordexist function\n",
    "filepath,word,newword"
   ]
  },
  {
   "cell_type": "code",
   "execution_count": null,
   "metadata": {},
   "outputs": [],
   "source": []
  },
  {
   "cell_type": "code",
   "execution_count": null,
   "metadata": {},
   "outputs": [],
   "source": [
    "# comprehensions:\n",
    "# we have\n",
    "- list comprehension\n",
    "- dictionary comprehension\n",
    "- set comprehension"
   ]
  },
  {
   "cell_type": "code",
   "execution_count": null,
   "metadata": {},
   "outputs": [],
   "source": [
    "#list comprehension:\n",
    "- easy way to create\n",
    "- more efficient\n",
    "- faster\n",
    "#syn:\n",
    "[expression for item in list if condition]"
   ]
  },
  {
   "cell_type": "code",
   "execution_count": null,
   "metadata": {},
   "outputs": [],
   "source": [
    "for item in list:\n",
    "    if condition:\n",
    "        print(expression)"
   ]
  },
  {
   "cell_type": "code",
   "execution_count": 48,
   "metadata": {},
   "outputs": [
    {
     "name": "stdout",
     "output_type": "stream",
     "text": [
      "1 2 3 4 5 6 7 8 9 10 "
     ]
    }
   ],
   "source": [
    "# normal way\n",
    "\n",
    "for i in range(1,11):\n",
    "    print(i,end=\" \")"
   ]
  },
  {
   "cell_type": "code",
   "execution_count": 46,
   "metadata": {},
   "outputs": [
    {
     "name": "stdout",
     "output_type": "stream",
     "text": [
      "[1, 2, 3, 4, 5, 6, 7, 8, 9, 10]\n"
     ]
    }
   ],
   "source": [
    "# list comprehension\n",
    "li=[i for i in range(1,11)]\n",
    "print(li)"
   ]
  },
  {
   "cell_type": "code",
   "execution_count": 49,
   "metadata": {},
   "outputs": [
    {
     "name": "stdout",
     "output_type": "stream",
     "text": [
      "[5, 10, 15, 20, 25, 30, 35, 40, 45, 50]\n"
     ]
    }
   ],
   "source": [
    "# list comprehension\n",
    "li=[i*5 for i in range(1,11)]\n",
    "print(li)"
   ]
  },
  {
   "cell_type": "code",
   "execution_count": 50,
   "metadata": {},
   "outputs": [
    {
     "name": "stdout",
     "output_type": "stream",
     "text": [
      "[1, 4, 9, 16, 25, 36, 49, 64, 81, 100]\n"
     ]
    }
   ],
   "source": [
    "# list comprehension\n",
    "li=[i**2 for i in range(1,11)]\n",
    "print(li)"
   ]
  },
  {
   "cell_type": "code",
   "execution_count": 51,
   "metadata": {},
   "outputs": [
    {
     "name": "stdout",
     "output_type": "stream",
     "text": [
      "[2, 4, 6, 8, 10]\n"
     ]
    }
   ],
   "source": [
    "# list comprehension #even\n",
    "li=[i for i in range(2,11,2)]\n",
    "print(li)"
   ]
  },
  {
   "cell_type": "code",
   "execution_count": 52,
   "metadata": {},
   "outputs": [
    {
     "name": "stdout",
     "output_type": "stream",
     "text": [
      "[1, 3, 5, 7, 9]\n"
     ]
    }
   ],
   "source": [
    "# list comprehension #odd\n",
    "li=[i for i in range(1,11,2)]\n",
    "print(li)"
   ]
  },
  {
   "cell_type": "code",
   "execution_count": 53,
   "metadata": {},
   "outputs": [
    {
     "name": "stdout",
     "output_type": "stream",
     "text": [
      "[2, 4, 6, 8, 10]\n"
     ]
    }
   ],
   "source": [
    "# list comprehension #even\n",
    "li=[i for i in range(1,11) if i%2==0]\n",
    "print(li)"
   ]
  },
  {
   "cell_type": "code",
   "execution_count": 54,
   "metadata": {},
   "outputs": [
    {
     "name": "stdout",
     "output_type": "stream",
     "text": [
      "[14, 28, 42, 56, 70, 84, 98]\n"
     ]
    }
   ],
   "source": [
    "li=[i for i in range(1,100) if i%2==0 and i%7==0]\n",
    "print(li)"
   ]
  },
  {
   "cell_type": "code",
   "execution_count": 56,
   "metadata": {},
   "outputs": [
    {
     "name": "stdout",
     "output_type": "stream",
     "text": [
      "['odd', 'even', 'odd', 'even', 'odd', 'even', 'odd', 'even', 'odd', 'even']\n"
     ]
    }
   ],
   "source": [
    "print([\"even\" if i%2==0 else \"odd\" for i in range(1,11)])"
   ]
  },
  {
   "cell_type": "code",
   "execution_count": 61,
   "metadata": {},
   "outputs": [
    {
     "name": "stdout",
     "output_type": "stream",
     "text": [
      "['1', '2', '3', '4', '5', '6', '7']\n"
     ]
    }
   ],
   "source": [
    "s=\"hello 123 hii hloo4567\"\n",
    "print([i for i in s if i.isdigit()])"
   ]
  },
  {
   "cell_type": "code",
   "execution_count": null,
   "metadata": {},
   "outputs": [],
   "source": [
    "#task1 (3,4,5) #different sets\n",
    "(x**2+y**2==z**2)\n",
    "3**2+4**2==5**2\n",
    "9+16=25\n",
    "25=25\n",
    "(x,y,z)-----(1,100 range)"
   ]
  },
  {
   "cell_type": "code",
   "execution_count": null,
   "metadata": {},
   "outputs": [],
   "source": []
  },
  {
   "cell_type": "code",
   "execution_count": null,
   "metadata": {},
   "outputs": [],
   "source": [
    "#dictionary comprehension\n",
    "#syn:\n",
    "{key:value for x in iterable}"
   ]
  },
  {
   "cell_type": "code",
   "execution_count": 63,
   "metadata": {},
   "outputs": [
    {
     "name": "stdout",
     "output_type": "stream",
     "text": [
      "{1: 1, 2: 4, 3: 9, 4: 16, 5: 25}\n"
     ]
    }
   ],
   "source": [
    "d={i:i**2 for i in [1,2,3,4,5]}\n",
    "print(d)"
   ]
  },
  {
   "cell_type": "code",
   "execution_count": 64,
   "metadata": {},
   "outputs": [
    {
     "data": {
      "text/plain": [
       "'A'"
      ]
     },
     "execution_count": 64,
     "metadata": {},
     "output_type": "execute_result"
    }
   ],
   "source": [
    "chr(65)"
   ]
  },
  {
   "cell_type": "code",
   "execution_count": 66,
   "metadata": {},
   "outputs": [
    {
     "name": "stdout",
     "output_type": "stream",
     "text": [
      "{0: 'A', 1: 'B', 2: 'C', 3: 'D'}\n"
     ]
    }
   ],
   "source": [
    "#{0: A, 1: B,.....}   #0,1,2,3\n",
    "d={i:chr(65+i) for i in range(4)}\n",
    "print(d)"
   ]
  },
  {
   "cell_type": "code",
   "execution_count": 68,
   "metadata": {},
   "outputs": [
    {
     "name": "stdout",
     "output_type": "stream",
     "text": [
      "{'pavani': 6, 'ambika': 6, 'surya': 5}\n"
     ]
    }
   ],
   "source": [
    "names=['pavani','ambika','surya']\n",
    "d={i:len(i) for i in names}\n",
    "print(d)"
   ]
  },
  {
   "cell_type": "code",
   "execution_count": 70,
   "metadata": {},
   "outputs": [
    {
     "data": {
      "text/plain": [
       "{'o': 3, 'p': 2, 'c': 1}"
      ]
     },
     "execution_count": 70,
     "metadata": {},
     "output_type": "execute_result"
    }
   ],
   "source": [
    "li=['o','o','o','p','p','c']\n",
    "{i:li.count(i) for i in li}"
   ]
  },
  {
   "cell_type": "code",
   "execution_count": null,
   "metadata": {},
   "outputs": [],
   "source": [
    "# set comprehension\n",
    "#syn:\n",
    "{var for var in iterable}"
   ]
  },
  {
   "cell_type": "code",
   "execution_count": 71,
   "metadata": {},
   "outputs": [
    {
     "data": {
      "text/plain": [
       "{1, 2, 3, 4, 5, 6, 7, 8}"
      ]
     },
     "execution_count": 71,
     "metadata": {},
     "output_type": "execute_result"
    }
   ],
   "source": [
    "{i for i in [1,3,2,4,5,5,6,7,8,5]}"
   ]
  },
  {
   "cell_type": "code",
   "execution_count": 74,
   "metadata": {},
   "outputs": [
    {
     "data": {
      "text/plain": [
       "{2, 4, 6, 8}"
      ]
     },
     "execution_count": 74,
     "metadata": {},
     "output_type": "execute_result"
    }
   ],
   "source": [
    "{i for i in [1,3,2,4,5,5,6,7,8,5] if i%2==0}"
   ]
  },
  {
   "cell_type": "code",
   "execution_count": 75,
   "metadata": {},
   "outputs": [
    {
     "data": {
      "text/plain": [
       "{(1, 1), (2, 1), (12, 3), (13, 1), (14, 1), (15, 2)}"
      ]
     },
     "execution_count": 75,
     "metadata": {},
     "output_type": "execute_result"
    }
   ],
   "source": [
    "li=[12,1,2,12,13,14,15,15,12]\n",
    "{(i,li.count(i)) for i in li}"
   ]
  },
  {
   "cell_type": "code",
   "execution_count": null,
   "metadata": {},
   "outputs": [],
   "source": []
  },
  {
   "cell_type": "code",
   "execution_count": 76,
   "metadata": {},
   "outputs": [
    {
     "name": "stdout",
     "output_type": "stream",
     "text": [
      "[('gujarat', 'gandhinagar'), ('maharashtra', 'mumbai'), ('rajasthan', 'jaipur')]\n"
     ]
    }
   ],
   "source": [
    "state=['gujarat','maharashtra','rajasthan']\n",
    "capital=['gandhinagar','mumbai','jaipur']\n",
    "print(list(zip(state,capital)))"
   ]
  },
  {
   "cell_type": "code",
   "execution_count": 77,
   "metadata": {},
   "outputs": [
    {
     "data": {
      "text/plain": [
       "{'gujarat': 'gandhinagar', 'maharashtra': 'mumbai', 'rajasthan': 'jaipur'}"
      ]
     },
     "execution_count": 77,
     "metadata": {},
     "output_type": "execute_result"
    }
   ],
   "source": [
    "state=['gujarat','maharashtra','rajasthan']\n",
    "capital=['gandhinagar','mumbai','jaipur']\n",
    "{key:value for (key,value) in zip(state,capital)}"
   ]
  },
  {
   "cell_type": "code",
   "execution_count": 81,
   "metadata": {},
   "outputs": [
    {
     "name": "stdout",
     "output_type": "stream",
     "text": [
      "[(3, 4, 5), (5, 12, 13), (6, 8, 10), (7, 24, 25), (8, 15, 17), (9, 12, 15), (9, 40, 41), (10, 24, 26), (11, 60, 61), (12, 16, 20), (12, 35, 37), (13, 84, 85), (14, 48, 50), (15, 20, 25), (15, 36, 39), (16, 30, 34), (16, 63, 65), (18, 24, 30), (18, 80, 82), (20, 21, 29), (20, 48, 52), (21, 28, 35), (21, 72, 75), (24, 32, 40), (24, 45, 51), (24, 70, 74), (25, 60, 65), (27, 36, 45), (28, 45, 53), (30, 40, 50), (30, 72, 78), (32, 60, 68), (33, 44, 55), (33, 56, 65), (35, 84, 91), (36, 48, 60), (36, 77, 85), (39, 52, 65), (39, 80, 89), (40, 42, 58), (40, 75, 85), (42, 56, 70), (45, 60, 75), (48, 55, 73), (48, 64, 80), (51, 68, 85), (54, 72, 90), (57, 76, 95), (60, 63, 87), (65, 72, 97)]\n"
     ]
    }
   ],
   "source": [
    "li=[(x,y,z) for x in range(1,100) for y in range(x,100) for z in range(y,100) if (x**2+y**2==z**2)]\n",
    "print(li)"
   ]
  },
  {
   "cell_type": "code",
   "execution_count": null,
   "metadata": {},
   "outputs": [],
   "source": [
    "for x in range(1,100)  # for repeated (x,y,z) remove\n",
    "for y in range(x,100)--->(3,100)\n",
    "for z in range(y,100)--->(4,100)"
   ]
  },
  {
   "cell_type": "code",
   "execution_count": 93,
   "metadata": {},
   "outputs": [
    {
     "name": "stdout",
     "output_type": "stream",
     "text": [
      "[2, 4]\n"
     ]
    }
   ],
   "source": [
    "d=[i for i in range(1,11) if i%2==0 if i<5]\n",
    "print(d)"
   ]
  },
  {
   "cell_type": "code",
   "execution_count": null,
   "metadata": {},
   "outputs": [],
   "source": []
  }
 ],
 "metadata": {
  "kernelspec": {
   "display_name": "Python 3",
   "language": "python",
   "name": "python3"
  },
  "language_info": {
   "codemirror_mode": {
    "name": "ipython",
    "version": 3
   },
   "file_extension": ".py",
   "mimetype": "text/x-python",
   "name": "python",
   "nbconvert_exporter": "python",
   "pygments_lexer": "ipython3",
   "version": "3.7.3"
  }
 },
 "nbformat": 4,
 "nbformat_minor": 2
}
