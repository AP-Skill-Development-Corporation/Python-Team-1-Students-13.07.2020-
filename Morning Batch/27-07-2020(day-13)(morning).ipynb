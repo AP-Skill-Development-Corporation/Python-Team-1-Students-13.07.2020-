{
 "cells": [
  {
   "cell_type": "code",
   "execution_count": 127,
   "metadata": {},
   "outputs": [
    {
     "name": "stdout",
     "output_type": "stream",
     "text": [
      "['Albert Einstein', 'James Watt', 'Nikola Tesla']\n"
     ]
    }
   ],
   "source": [
    "n1=[\"albert\",\"james\",\"nikola\"]\n",
    "n2=[\"einstein\",\"watt\",\"tesla\"]\n",
    "r=list(map(lambda x,y:(x+\" \"+y).title(),n1,n2))\n",
    "print(r)"
   ]
  },
  {
   "cell_type": "code",
   "execution_count": 5,
   "metadata": {},
   "outputs": [
    {
     "name": "stdout",
     "output_type": "stream",
     "text": [
      "[[0, 0, 0], [0, 0, 0]]\n",
      "[0, 0, 0]\n",
      "[0, 0, 0]\n",
      "[[90, 0, 0], [90, 0, 0]]\n"
     ]
    }
   ],
   "source": [
    "s=[[0]*3]*2\n",
    "print(s)\n",
    "print(s[0])\n",
    "print(s[1])\n",
    "s[0][0]=90\n",
    "print(s)"
   ]
  },
  {
   "cell_type": "code",
   "execution_count": 17,
   "metadata": {},
   "outputs": [
    {
     "name": "stdout",
     "output_type": "stream",
     "text": [
      "[0,0,0],[0,0,0]\n"
     ]
    },
    {
     "ename": "ValueError",
     "evalue": "invalid literal for int() with base 10: '[0,0,0],[0,0,0]'",
     "output_type": "error",
     "traceback": [
      "\u001b[1;31m---------------------------------------------------------------------------\u001b[0m",
      "\u001b[1;31mValueError\u001b[0m                                Traceback (most recent call last)",
      "\u001b[1;32m<ipython-input-17-3f5c296cc635>\u001b[0m in \u001b[0;36m<module>\u001b[1;34m\u001b[0m\n\u001b[1;32m----> 1\u001b[1;33m \u001b[0ml\u001b[0m\u001b[1;33m=\u001b[0m\u001b[0mlist\u001b[0m\u001b[1;33m(\u001b[0m\u001b[0mmap\u001b[0m\u001b[1;33m(\u001b[0m\u001b[0mint\u001b[0m\u001b[1;33m,\u001b[0m\u001b[0minput\u001b[0m\u001b[1;33m(\u001b[0m\u001b[1;33m)\u001b[0m\u001b[1;33m.\u001b[0m\u001b[0msplit\u001b[0m\u001b[1;33m(\u001b[0m\u001b[1;33m)\u001b[0m\u001b[1;33m)\u001b[0m\u001b[1;33m)\u001b[0m\u001b[1;33m\u001b[0m\u001b[1;33m\u001b[0m\u001b[0m\n\u001b[0m",
      "\u001b[1;31mValueError\u001b[0m: invalid literal for int() with base 10: '[0,0,0],[0,0,0]'"
     ]
    }
   ],
   "source": [
    "l=list(map(int,input().split()))"
   ]
  },
  {
   "cell_type": "code",
   "execution_count": 16,
   "metadata": {},
   "outputs": [
    {
     "name": "stdout",
     "output_type": "stream",
     "text": [
      "[[0, 0, 0], [0, 0, 0]]\n",
      "[0, 0, 0]\n",
      "[0, 0, 0]\n",
      "[[90, 0, 0], [0, 0, 0]]\n"
     ]
    }
   ],
   "source": [
    "s=[[0, 0, 0], [0, 0, 0]]\n",
    "print(s)\n",
    "print(s[0])\n",
    "print(s[1])\n",
    "s[0][0]=90\n",
    "print(s)"
   ]
  },
  {
   "cell_type": "code",
   "execution_count": null,
   "metadata": {},
   "outputs": [],
   "source": []
  },
  {
   "cell_type": "markdown",
   "metadata": {},
   "source": [
    "# oop's in python:"
   ]
  },
  {
   "cell_type": "code",
   "execution_count": null,
   "metadata": {},
   "outputs": [],
   "source": [
    "- python is an object oriented programming langauge.\n",
    "- bacause of the classes and objects,programming bacome easy to unserstand and code.\n",
    "- in python we can easily create classes and objects.\n",
    "# major principles\n",
    "- class\n",
    "- object\n",
    "- constructors\n",
    "- inhertance"
   ]
  },
  {
   "cell_type": "code",
   "execution_count": null,
   "metadata": {},
   "outputs": [],
   "source": [
    "# class\n",
    "- class is a collection of objects(blueprint)\n",
    "- collection of variables and methods\n",
    "# function is a collection of statements\n",
    "# if function is existed inside the class then it called as method.\n",
    "- class is keyword for creating  class structure.\n",
    "#syn:\n",
    "class class_name():\n",
    "    list of vars\n",
    "    list of methods"
   ]
  },
  {
   "cell_type": "code",
   "execution_count": null,
   "metadata": {},
   "outputs": [],
   "source": [
    "#ex:\n",
    "class mobile():\n",
    "    mobile1='samsung'\n",
    "    def listofmobile():"
   ]
  },
  {
   "cell_type": "code",
   "execution_count": null,
   "metadata": {},
   "outputs": [],
   "source": [
    "- class and objects are interrelated with each other."
   ]
  },
  {
   "cell_type": "code",
   "execution_count": 19,
   "metadata": {},
   "outputs": [],
   "source": [
    "class hii():\n",
    "    name=\"pavani\"\n",
    "    rollno=27\n",
    "    def hello():\n",
    "        print(\"welcome all\")"
   ]
  },
  {
   "cell_type": "code",
   "execution_count": 20,
   "metadata": {},
   "outputs": [
    {
     "data": {
      "text/plain": [
       "'pavani'"
      ]
     },
     "execution_count": 20,
     "metadata": {},
     "output_type": "execute_result"
    }
   ],
   "source": [
    "hii.name   # '.' is a massing calling operator,hii is classname"
   ]
  },
  {
   "cell_type": "code",
   "execution_count": 21,
   "metadata": {},
   "outputs": [
    {
     "data": {
      "text/plain": [
       "27"
      ]
     },
     "execution_count": 21,
     "metadata": {},
     "output_type": "execute_result"
    }
   ],
   "source": [
    "hii.rollno"
   ]
  },
  {
   "cell_type": "code",
   "execution_count": 23,
   "metadata": {},
   "outputs": [
    {
     "name": "stdout",
     "output_type": "stream",
     "text": [
      "welcome all\n"
     ]
    }
   ],
   "source": [
    "hii.hello()"
   ]
  },
  {
   "cell_type": "code",
   "execution_count": 31,
   "metadata": {},
   "outputs": [
    {
     "ename": "AttributeError",
     "evalue": "'str' object has no attribute 'rollno'",
     "output_type": "error",
     "traceback": [
      "\u001b[1;31m---------------------------------------------------------------------------\u001b[0m",
      "\u001b[1;31mAttributeError\u001b[0m                            Traceback (most recent call last)",
      "\u001b[1;32m<ipython-input-31-656a9869f6d1>\u001b[0m in \u001b[0;36m<module>\u001b[1;34m\u001b[0m\n\u001b[1;32m----> 1\u001b[1;33m \u001b[0mhii\u001b[0m\u001b[1;33m.\u001b[0m\u001b[0mname\u001b[0m\u001b[1;33m.\u001b[0m\u001b[0mrollno\u001b[0m\u001b[1;33m\u001b[0m\u001b[1;33m\u001b[0m\u001b[0m\n\u001b[0m",
      "\u001b[1;31mAttributeError\u001b[0m: 'str' object has no attribute 'rollno'"
     ]
    }
   ],
   "source": [
    "hii.name.rollno"
   ]
  },
  {
   "cell_type": "code",
   "execution_count": null,
   "metadata": {},
   "outputs": [],
   "source": [
    "#object:\n",
    "- every object will have certain attributes and behaviour\n",
    "- height,name---->attributes--->variables\n",
    "- dancing,talking---->behaviour---->methods\n",
    "-object is an instance of a class(copy of a class)\n",
    "- object is a real time entity\n",
    "#syn:\n",
    "obj_name=class_name\n",
    "#ex:\n",
    "samsung=mobile()"
   ]
  },
  {
   "cell_type": "code",
   "execution_count": 30,
   "metadata": {},
   "outputs": [
    {
     "name": "stdout",
     "output_type": "stream",
     "text": [
      "<class '__main__.hii'>\n",
      "['__class__', '__delattr__', '__dict__', '__dir__', '__doc__', '__eq__', '__format__', '__ge__', '__getattribute__', '__gt__', '__hash__', '__init__', '__init_subclass__', '__le__', '__lt__', '__module__', '__ne__', '__new__', '__reduce__', '__reduce_ex__', '__repr__', '__setattr__', '__sizeof__', '__str__', '__subclasshook__', '__weakref__', 'hello', 'name', 'rollno']\n",
      "pavani\n",
      "27\n",
      "welcome all\n"
     ]
    }
   ],
   "source": [
    "obj=hii\n",
    "print(obj)\n",
    "print(dir(obj))\n",
    "print(obj.name)\n",
    "print(obj.rollno)\n",
    "obj.hello()"
   ]
  },
  {
   "cell_type": "code",
   "execution_count": 32,
   "metadata": {},
   "outputs": [],
   "source": [
    "class hai():\n",
    "    n='mahesh'\n",
    "    r=26\n",
    "    def d():\n",
    "        print('hello')"
   ]
  },
  {
   "cell_type": "code",
   "execution_count": 33,
   "metadata": {},
   "outputs": [],
   "source": [
    "hai.n='nani'"
   ]
  },
  {
   "cell_type": "code",
   "execution_count": 34,
   "metadata": {},
   "outputs": [
    {
     "data": {
      "text/plain": [
       "'nani'"
      ]
     },
     "execution_count": 34,
     "metadata": {},
     "output_type": "execute_result"
    }
   ],
   "source": [
    "hai.n"
   ]
  },
  {
   "cell_type": "code",
   "execution_count": 36,
   "metadata": {},
   "outputs": [
    {
     "name": "stdout",
     "output_type": "stream",
     "text": [
      "nani\n",
      "pavani\n"
     ]
    }
   ],
   "source": [
    "obj=hai\n",
    "print(obj.n)\n",
    "obj.n=\"pavani\"\n",
    "print(obj.n)"
   ]
  },
  {
   "cell_type": "code",
   "execution_count": null,
   "metadata": {},
   "outputs": [],
   "source": [
    "- object is created many times as per requirement\n",
    "- class is declared once."
   ]
  },
  {
   "cell_type": "code",
   "execution_count": 37,
   "metadata": {},
   "outputs": [],
   "source": [
    "class calsi:\n",
    "    def add(n1,n2):\n",
    "        return n1+n2\n",
    "    def sub(n1,n2):\n",
    "        return n1-n2\n",
    "    def mul(n1,n2):\n",
    "        return n1*n2\n",
    "    def div(n1,n2):\n",
    "        return n1/n2\n",
    "    def mod(n1,n2):\n",
    "        return n1%n2"
   ]
  },
  {
   "cell_type": "code",
   "execution_count": 39,
   "metadata": {},
   "outputs": [
    {
     "name": "stdout",
     "output_type": "stream",
     "text": [
      "84\n",
      "-16\n",
      "1700\n",
      "0.68\n",
      "34\n"
     ]
    }
   ],
   "source": [
    "cal=calsi\n",
    "print(cal.add(34,50))\n",
    "print(cal.sub(34,50))\n",
    "print(cal.mul(34,50))\n",
    "print(cal.div(34,50))\n",
    "print(cal.mod(34,50))"
   ]
  },
  {
   "cell_type": "code",
   "execution_count": null,
   "metadata": {},
   "outputs": [],
   "source": []
  },
  {
   "cell_type": "code",
   "execution_count": null,
   "metadata": {},
   "outputs": [],
   "source": [
    "# constructors:\n",
    "- constructor is a special type of method(function)\n",
    "- which is used to initialize the instance members of the class.\n",
    "- in python for creating constructor we will use init(self)\n",
    "- in constructor self parameter finds the current reference object.\n",
    "- adavntage of constructor is without using object we call function\n",
    "- create object for class but does not use that object to call the function\n",
    "# syn:\n",
    "class class_name:\n",
    "    def __init__(self): # it is constructor  # default parameter is self\n",
    "    def __init__(self,a,b) #fisrt variable acts as default parameter\n",
    "    def __init__(a,b,self)  # here a acts as default parameter "
   ]
  },
  {
   "cell_type": "code",
   "execution_count": 51,
   "metadata": {},
   "outputs": [],
   "source": [
    "class calsi():\n",
    "    def __init__(self,n1,n2,n3):\n",
    "        self.n1=n1\n",
    "        self.n2=n2\n",
    "        self.n3=n3\n",
    "    def display(self):\n",
    "        print(self.n1)\n",
    "        print(self.n2)\n",
    "        print(self.n1,self.n3)"
   ]
  },
  {
   "cell_type": "code",
   "execution_count": 52,
   "metadata": {},
   "outputs": [
    {
     "name": "stdout",
     "output_type": "stream",
     "text": [
      "5\n",
      "6\n",
      "5 7\n"
     ]
    }
   ],
   "source": [
    "obj=calsi(5,6,7)\n",
    "obj.display()"
   ]
  },
  {
   "cell_type": "code",
   "execution_count": 54,
   "metadata": {},
   "outputs": [
    {
     "name": "stdout",
     "output_type": "stream",
     "text": [
      "4\n",
      "6\n",
      "4 8\n"
     ]
    }
   ],
   "source": [
    "ob=calsi(4,6,8)\n",
    "ob.display()"
   ]
  },
  {
   "cell_type": "code",
   "execution_count": 53,
   "metadata": {},
   "outputs": [
    {
     "ename": "TypeError",
     "evalue": "__init__() missing 3 required positional arguments: 'n1', 'n2', and 'n3'",
     "output_type": "error",
     "traceback": [
      "\u001b[1;31m---------------------------------------------------------------------------\u001b[0m",
      "\u001b[1;31mTypeError\u001b[0m                                 Traceback (most recent call last)",
      "\u001b[1;32m<ipython-input-53-919f7fd116d7>\u001b[0m in \u001b[0;36m<module>\u001b[1;34m\u001b[0m\n\u001b[1;32m----> 1\u001b[1;33m \u001b[0mobj\u001b[0m\u001b[1;33m=\u001b[0m\u001b[0mcalsi\u001b[0m\u001b[1;33m(\u001b[0m\u001b[1;33m)\u001b[0m\u001b[1;33m\u001b[0m\u001b[1;33m\u001b[0m\u001b[0m\n\u001b[0m\u001b[0;32m      2\u001b[0m \u001b[0mobj\u001b[0m\u001b[1;33m.\u001b[0m\u001b[0mdisplay\u001b[0m\u001b[1;33m(\u001b[0m\u001b[1;33m)\u001b[0m\u001b[1;33m\u001b[0m\u001b[1;33m\u001b[0m\u001b[0m\n",
      "\u001b[1;31mTypeError\u001b[0m: __init__() missing 3 required positional arguments: 'n1', 'n2', and 'n3'"
     ]
    }
   ],
   "source": [
    "obj=calsi()\n",
    "obj.display()"
   ]
  },
  {
   "cell_type": "code",
   "execution_count": 55,
   "metadata": {},
   "outputs": [],
   "source": [
    "class hai():\n",
    "    Name='fd'\n",
    "    rno=1\n",
    "    def h():\n",
    "        print('welcome')"
   ]
  },
  {
   "cell_type": "code",
   "execution_count": 60,
   "metadata": {},
   "outputs": [
    {
     "name": "stdout",
     "output_type": "stream",
     "text": [
      "welcome\n"
     ]
    }
   ],
   "source": [
    "obj=hai\n",
    "obj.Name\n",
    "obj.rno\n",
    "obj.h()"
   ]
  },
  {
   "cell_type": "code",
   "execution_count": null,
   "metadata": {},
   "outputs": [],
   "source": []
  },
  {
   "cell_type": "code",
   "execution_count": 63,
   "metadata": {},
   "outputs": [
    {
     "name": "stdout",
     "output_type": "stream",
     "text": [
      "pavani\n",
      "20\n",
      "50\n",
      "ambika\n",
      "100\n",
      "50\n",
      "/*student details*/\n",
      "my name is pavani\n",
      "my age is 20\n",
      "my marks is 50\n",
      "\n",
      "/*student details*/\n",
      "my name is ambika\n",
      "my age is 100\n",
      "my marks is 50\n",
      "\n"
     ]
    }
   ],
   "source": [
    "class student:\n",
    "    def __init__(self):\n",
    "        self.name=input()\n",
    "        self.age=int(input())\n",
    "        self.marks=int(input())\n",
    "    def talk(self):\n",
    "        print('/*student details*/')\n",
    "        print('my name is',self.name)\n",
    "        print('my age is',self.age)\n",
    "        print('my marks is',self.marks)\n",
    "        print()\n",
    "s1=student()\n",
    "s2=student()\n",
    "s1.talk()\n",
    "s2.talk()"
   ]
  },
  {
   "cell_type": "code",
   "execution_count": 74,
   "metadata": {},
   "outputs": [],
   "source": [
    "class calsi():\n",
    "    def __init__(n1,n2,n3,self):    #n1 is treated as self\n",
    "        \n",
    "        n1.n2=n2\n",
    "        n1.n3=n3\n",
    "    def display(n1):\n",
    "        print(n1.n2)\n",
    "       "
   ]
  },
  {
   "cell_type": "code",
   "execution_count": 75,
   "metadata": {},
   "outputs": [
    {
     "name": "stdout",
     "output_type": "stream",
     "text": [
      "5\n"
     ]
    }
   ],
   "source": [
    "ob=calsi(5,6,7)\n",
    "ob.display()"
   ]
  },
  {
   "cell_type": "code",
   "execution_count": 80,
   "metadata": {},
   "outputs": [],
   "source": [
    "class calsi():\n",
    "    ''' \n",
    "    in calsi class i have only display() method\n",
    "    '''\n",
    "    def __init__(self,n1,n2,n3):\n",
    "        self.n1=n1\n",
    "        self.n2=n2\n",
    "        self.n3=n3\n",
    "        \n",
    "    def display(self):\n",
    "        print(self.n1)\n",
    "        print(self.n2)\n",
    "        print(self.n1,self.n3)"
   ]
  },
  {
   "cell_type": "code",
   "execution_count": 82,
   "metadata": {},
   "outputs": [
    {
     "data": {
      "text/plain": [
       "'\\n        in calsi class i have only display() method\\n        '"
      ]
     },
     "execution_count": 82,
     "metadata": {},
     "output_type": "execute_result"
    }
   ],
   "source": [
    "obj=calsi(5,6,7)\n",
    "obj.__doc__     #__doc__ is an attribute"
   ]
  },
  {
   "cell_type": "code",
   "execution_count": 83,
   "metadata": {},
   "outputs": [],
   "source": [
    "class calsi():\n",
    "    \n",
    "    def __init__(self,n1,n2,n3):\n",
    "        self.n1=n1\n",
    "        self.n2=n2\n",
    "        self.n3=n3\n",
    "    ''' \n",
    "    in calsi class i have only display() method\n",
    "    '''   \n",
    "    def display(self):\n",
    "        print(self.n1)\n",
    "        print(self.n2)\n",
    "        print(self.n1,self.n3)"
   ]
  },
  {
   "cell_type": "code",
   "execution_count": 84,
   "metadata": {},
   "outputs": [],
   "source": [
    "obj=calsi(5,6,7)\n",
    "obj.__doc__     #__doc__ is an attribute"
   ]
  },
  {
   "cell_type": "code",
   "execution_count": 87,
   "metadata": {},
   "outputs": [],
   "source": [
    "class math:\n",
    "    def __init__(self,n1,n2):\n",
    "        self.n1=n1\n",
    "        self.n2=n2\n",
    "        print(n1,n2)\n",
    "        print(\"iam calling without using method\")"
   ]
  },
  {
   "cell_type": "code",
   "execution_count": 88,
   "metadata": {},
   "outputs": [
    {
     "name": "stdout",
     "output_type": "stream",
     "text": [
      "5 6\n",
      "iam calling without using method\n"
     ]
    }
   ],
   "source": [
    "obj=math(5,6)"
   ]
  },
  {
   "cell_type": "code",
   "execution_count": 89,
   "metadata": {},
   "outputs": [
    {
     "ename": "TypeError",
     "evalue": "__init__() missing 2 required positional arguments: 'n1' and 'n2'",
     "output_type": "error",
     "traceback": [
      "\u001b[1;31m---------------------------------------------------------------------------\u001b[0m",
      "\u001b[1;31mTypeError\u001b[0m                                 Traceback (most recent call last)",
      "\u001b[1;32m<ipython-input-89-8ba9febb2d74>\u001b[0m in \u001b[0;36m<module>\u001b[1;34m\u001b[0m\n\u001b[1;32m----> 1\u001b[1;33m \u001b[0mobj1\u001b[0m\u001b[1;33m=\u001b[0m\u001b[0mmath\u001b[0m\u001b[1;33m(\u001b[0m\u001b[1;33m)\u001b[0m\u001b[1;33m\u001b[0m\u001b[1;33m\u001b[0m\u001b[0m\n\u001b[0m",
      "\u001b[1;31mTypeError\u001b[0m: __init__() missing 2 required positional arguments: 'n1' and 'n2'"
     ]
    }
   ],
   "source": [
    "obj1=math()"
   ]
  },
  {
   "cell_type": "code",
   "execution_count": 98,
   "metadata": {},
   "outputs": [],
   "source": [
    "class math:\n",
    "    def __init__(self):\n",
    "        self.a=a\n",
    "        self.b=b\n",
    "        print(a,b)\n",
    "        print(\"iam calling without using method\")"
   ]
  },
  {
   "cell_type": "code",
   "execution_count": 99,
   "metadata": {},
   "outputs": [
    {
     "ename": "TypeError",
     "evalue": "__init__() takes 1 positional argument but 3 were given",
     "output_type": "error",
     "traceback": [
      "\u001b[1;31m---------------------------------------------------------------------------\u001b[0m",
      "\u001b[1;31mTypeError\u001b[0m                                 Traceback (most recent call last)",
      "\u001b[1;32m<ipython-input-99-ac538dc07cac>\u001b[0m in \u001b[0;36m<module>\u001b[1;34m\u001b[0m\n\u001b[1;32m----> 1\u001b[1;33m \u001b[0mob1\u001b[0m\u001b[1;33m=\u001b[0m\u001b[0mmath\u001b[0m\u001b[1;33m(\u001b[0m\u001b[1;36m2\u001b[0m\u001b[1;33m,\u001b[0m\u001b[1;36m4\u001b[0m\u001b[1;33m)\u001b[0m\u001b[1;33m\u001b[0m\u001b[1;33m\u001b[0m\u001b[0m\n\u001b[0m",
      "\u001b[1;31mTypeError\u001b[0m: __init__() takes 1 positional argument but 3 were given"
     ]
    }
   ],
   "source": [
    "ob1=math(2,4)"
   ]
  },
  {
   "cell_type": "code",
   "execution_count": 100,
   "metadata": {},
   "outputs": [
    {
     "ename": "NameError",
     "evalue": "name 'a' is not defined",
     "output_type": "error",
     "traceback": [
      "\u001b[1;31m---------------------------------------------------------------------------\u001b[0m",
      "\u001b[1;31mNameError\u001b[0m                                 Traceback (most recent call last)",
      "\u001b[1;32m<ipython-input-100-0c6f514fe41d>\u001b[0m in \u001b[0;36m<module>\u001b[1;34m\u001b[0m\n\u001b[1;32m----> 1\u001b[1;33m \u001b[0mob2\u001b[0m\u001b[1;33m=\u001b[0m\u001b[0mmath\u001b[0m\u001b[1;33m(\u001b[0m\u001b[1;33m)\u001b[0m\u001b[1;33m\u001b[0m\u001b[1;33m\u001b[0m\u001b[0m\n\u001b[0m",
      "\u001b[1;32m<ipython-input-98-bba4f931e6a0>\u001b[0m in \u001b[0;36m__init__\u001b[1;34m(self)\u001b[0m\n\u001b[0;32m      1\u001b[0m \u001b[1;32mclass\u001b[0m \u001b[0mmath\u001b[0m\u001b[1;33m:\u001b[0m\u001b[1;33m\u001b[0m\u001b[1;33m\u001b[0m\u001b[0m\n\u001b[0;32m      2\u001b[0m     \u001b[1;32mdef\u001b[0m \u001b[0m__init__\u001b[0m\u001b[1;33m(\u001b[0m\u001b[0mself\u001b[0m\u001b[1;33m)\u001b[0m\u001b[1;33m:\u001b[0m\u001b[1;33m\u001b[0m\u001b[1;33m\u001b[0m\u001b[0m\n\u001b[1;32m----> 3\u001b[1;33m         \u001b[0mself\u001b[0m\u001b[1;33m.\u001b[0m\u001b[0ma\u001b[0m\u001b[1;33m=\u001b[0m\u001b[0ma\u001b[0m\u001b[1;33m\u001b[0m\u001b[1;33m\u001b[0m\u001b[0m\n\u001b[0m\u001b[0;32m      4\u001b[0m         \u001b[0mself\u001b[0m\u001b[1;33m.\u001b[0m\u001b[0mb\u001b[0m\u001b[1;33m=\u001b[0m\u001b[0mb\u001b[0m\u001b[1;33m\u001b[0m\u001b[1;33m\u001b[0m\u001b[0m\n\u001b[0;32m      5\u001b[0m         \u001b[0mprint\u001b[0m\u001b[1;33m(\u001b[0m\u001b[0ma\u001b[0m\u001b[1;33m,\u001b[0m\u001b[0mb\u001b[0m\u001b[1;33m)\u001b[0m\u001b[1;33m\u001b[0m\u001b[1;33m\u001b[0m\u001b[0m\n",
      "\u001b[1;31mNameError\u001b[0m: name 'a' is not defined"
     ]
    }
   ],
   "source": [
    "ob2=math()"
   ]
  },
  {
   "cell_type": "code",
   "execution_count": 116,
   "metadata": {},
   "outputs": [],
   "source": [
    "class math1():\n",
    "    def __mymath__(self):\n",
    "        print(\"hello\")"
   ]
  },
  {
   "cell_type": "code",
   "execution_count": 117,
   "metadata": {},
   "outputs": [],
   "source": [
    "ob=math1()"
   ]
  },
  {
   "cell_type": "code",
   "execution_count": 105,
   "metadata": {},
   "outputs": [
    {
     "name": "stdout",
     "output_type": "stream",
     "text": [
      "hello\n"
     ]
    }
   ],
   "source": [
    "ob.__mymath__()"
   ]
  },
  {
   "cell_type": "code",
   "execution_count": 118,
   "metadata": {},
   "outputs": [],
   "source": [
    "class math2():\n",
    "    def __mymath2__():\n",
    "        print(\"hello\")"
   ]
  },
  {
   "cell_type": "code",
   "execution_count": 119,
   "metadata": {},
   "outputs": [],
   "source": [
    "o=math2()"
   ]
  },
  {
   "cell_type": "code",
   "execution_count": 115,
   "metadata": {},
   "outputs": [
    {
     "ename": "TypeError",
     "evalue": "__mymath2__() takes 0 positional arguments but 1 was given",
     "output_type": "error",
     "traceback": [
      "\u001b[1;31m---------------------------------------------------------------------------\u001b[0m",
      "\u001b[1;31mTypeError\u001b[0m                                 Traceback (most recent call last)",
      "\u001b[1;32m<ipython-input-115-581e7c52b68a>\u001b[0m in \u001b[0;36m<module>\u001b[1;34m\u001b[0m\n\u001b[1;32m----> 1\u001b[1;33m \u001b[0mo\u001b[0m\u001b[1;33m.\u001b[0m\u001b[0m__mymath2__\u001b[0m\u001b[1;33m(\u001b[0m\u001b[1;33m)\u001b[0m\u001b[1;33m\u001b[0m\u001b[1;33m\u001b[0m\u001b[0m\n\u001b[0m",
      "\u001b[1;31mTypeError\u001b[0m: __mymath2__() takes 0 positional arguments but 1 was given"
     ]
    }
   ],
   "source": [
    "o.__mymath2__()  # without self there is no constructor"
   ]
  },
  {
   "cell_type": "code",
   "execution_count": 120,
   "metadata": {},
   "outputs": [],
   "source": [
    "class page():\n",
    "    def __mypage__(self,n1,n2,n3):\n",
    "        self.n1=n1\n",
    "        self.n2=n2\n",
    "        self.n3=n3\n",
    "    def show(self):\n",
    "        print(self.n1)\n",
    "        print(self.n2)\n",
    "        print(self.n1,self.n3)"
   ]
  },
  {
   "cell_type": "code",
   "execution_count": 125,
   "metadata": {},
   "outputs": [],
   "source": [
    "obj=page()\n",
    "obj.__mypage__(2,4,5)"
   ]
  },
  {
   "cell_type": "code",
   "execution_count": 126,
   "metadata": {},
   "outputs": [
    {
     "name": "stdout",
     "output_type": "stream",
     "text": [
      "2\n",
      "4\n",
      "2 5\n"
     ]
    }
   ],
   "source": [
    "obj.show()"
   ]
  },
  {
   "cell_type": "code",
   "execution_count": null,
   "metadata": {},
   "outputs": [],
   "source": [
    "#inhertance,packages and modules using oops"
   ]
  }
 ],
 "metadata": {
  "kernelspec": {
   "display_name": "Python 3",
   "language": "python",
   "name": "python3"
  },
  "language_info": {
   "codemirror_mode": {
    "name": "ipython",
    "version": 3
   },
   "file_extension": ".py",
   "mimetype": "text/x-python",
   "name": "python",
   "nbconvert_exporter": "python",
   "pygments_lexer": "ipython3",
   "version": "3.7.3"
  }
 },
 "nbformat": 4,
 "nbformat_minor": 2
}
